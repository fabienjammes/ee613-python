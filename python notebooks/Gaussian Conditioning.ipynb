{
 "cells": [
  {
   "cell_type": "code",
   "execution_count": 1,
   "metadata": {},
   "outputs": [],
   "source": [
    "import numpy as np\n",
    "import matplotlib.pyplot as plt"
   ]
  },
  {
   "cell_type": "code",
   "execution_count": 2,
   "metadata": {},
   "outputs": [
    {
     "ename": "NameError",
     "evalue": "name 'normal_dist' is not defined",
     "output_type": "error",
     "traceback": [
      "\u001b[0;31m---------------------------------------------------------------------------\u001b[0m",
      "\u001b[0;31mNameError\u001b[0m                                 Traceback (most recent call last)",
      "\u001b[0;32m<ipython-input-2-33adb3bcd873>\u001b[0m in \u001b[0;36m<module>\u001b[0;34m()\u001b[0m\n\u001b[1;32m      1\u001b[0m \u001b[0mx\u001b[0m \u001b[0;34m=\u001b[0m \u001b[0mnp\u001b[0m\u001b[0;34m.\u001b[0m\u001b[0marange\u001b[0m\u001b[0;34m(\u001b[0m\u001b[0;34m-\u001b[0m\u001b[0;36m2\u001b[0m\u001b[0;34m,\u001b[0m\u001b[0;36m2\u001b[0m\u001b[0;34m,\u001b[0m\u001b[0;36m0.1\u001b[0m\u001b[0;34m)\u001b[0m\u001b[0;34m\u001b[0m\u001b[0m\n\u001b[0;32m----> 2\u001b[0;31m \u001b[0my\u001b[0m \u001b[0;34m=\u001b[0m \u001b[0mnormal_dist\u001b[0m\u001b[0;34m.\u001b[0m\u001b[0mpdf\u001b[0m\u001b[0;34m(\u001b[0m\u001b[0mx\u001b[0m\u001b[0;34m)\u001b[0m\u001b[0;34m\u001b[0m\u001b[0m\n\u001b[0m",
      "\u001b[0;31mNameError\u001b[0m: name 'normal_dist' is not defined"
     ]
    }
   ],
   "source": [
    "x = np.arange(-2,2,0.1)\n",
    "y = normal_dist.pdf(x)"
   ]
  },
  {
   "cell_type": "code",
   "execution_count": null,
   "metadata": {},
   "outputs": [],
   "source": [
    "xy = np.vstack([x,y]).T"
   ]
  },
  {
   "cell_type": "code",
   "execution_count": 83,
   "metadata": {},
   "outputs": [],
   "source": [
    "yx = np.vstack([y,x]).T"
   ]
  },
  {
   "cell_type": "code",
   "execution_count": 14,
   "metadata": {},
   "outputs": [
    {
     "data": {
      "image/png": "[encoded data removed]",
      "text/plain": [
       "<Figure size 432x288 with 1 Axes>"
      ]
     },
     "metadata": {},
     "output_type": "display_data"
    }
   ],
   "source": [
    "ax = plt.subplot(111, aspect='equal')\n",
    "ell = Ellipse(xy = (2,3), width = 3, height = 4, angle=45)\n",
    "ell.set_facecolor([0.7,0.7,0.4])\n",
    "ax.add_patch(ell)\n",
    "plt.axis([-5,5,-5,5])\n",
    "plt.show()"
   ]
  },
  {
   "cell_type": "code",
   "execution_count": 4,
   "metadata": {},
   "outputs": [
    {
     "data": {
      "image/png": "[encoded data removed]",
      "text/plain": [
       "<Figure size 432x288 with 1 Axes>"
      ]
     },
     "metadata": {},
     "output_type": "display_data"
    }
   ],
   "source": [
    "x = [5,7,11,15,16,17,18]\n",
    "y = [8, 5, 8, 9, 17, 18, 25]\n",
    "cov = np.cov(x, y)\n",
    "lambda_, v = np.linalg.eig(cov)\n",
    "lambda_ = np.sqrt(lambda_)\n",
    "from matplotlib.patches import Ellipse\n",
    "import matplotlib.pyplot as plt\n",
    "ax = plt.subplot(111, aspect='equal')\n",
    "for j in xrange(1, 4):\n",
    "    ell = Ellipse(xy=(np.mean(x), np.mean(y)),\n",
    "                  width=lambda_[0]*j*2, height=lambda_[1]*j*2,\n",
    "                  angle=np.rad2deg(np.arccos(v[0, 0])))\n",
    "    ell.set_facecolor('none')\n",
    "    ax.add_artist(ell)\n",
    "#plt.scatter(x, y)\n",
    "plt.axis([-30,30,-30,30])\n",
    "plt.show()"
   ]
  },
  {
   "cell_type": "code",
   "execution_count": 58,
   "metadata": {},
   "outputs": [],
   "source": [
    "from matplotlib.patches import Polygon\n",
    "from matplotlib.collections import PatchCollection\n",
    "from scipy.stats import norm as normal_dist\n",
    "\n",
    "def plot_gaussian_1D(mu, sigma, ax,offset = None, bound= None, orient = 'h'):\n",
    "    n = 100\n",
    "    if bound is None:\n",
    "        bound = [mu-2*sigma, mu+2*sigma]\n",
    "        \n",
    "    x = np.linspace(bound[0], bound[1], n)\n",
    "    y = normal_dist(loc=mu, scale=sigma).pdf(x)\n",
    "    y = y/np.max(y)\n",
    "    if offset is not None:\n",
    "        y += offset\n",
    "    \n",
    "    if orient == 'h':\n",
    "        poly_data = np.vstack([x,y]).T\n",
    "        axis_limit = [bound[0], bound[1], 0, np.max(y)]\n",
    "    else:\n",
    "        poly_data = np.vstack([y,x]).T\n",
    "        axis_limit = [0, np.max(y), bound[0], bound[1]]\n",
    "        \n",
    "    polygon = Polygon(poly_data,True)\n",
    "    #plt.plot(y,x)\n",
    "    ax.add_patch(polygon)\n",
    "\n",
    "    plt.axis(axis_limit)\n",
    "    return\n",
    "\n",
    "def plot_gaussian_2D(Mu, Sigma, pi = 1.):\n",
    "    "
   ]
  },
  {
   "cell_type": "code",
   "execution_count": 74,
   "metadata": {},
   "outputs": [
    {
     "data": {
      "text/plain": [
       "[-3, 3, -0.5, 3]"
      ]
     },
     "execution_count": 74,
     "metadata": {},
     "output_type": "execute_result"
    },
    {
     "data": {
      "image/png": "[encoded data removed]",
      "text/plain": [
       "<Figure size 432x288 with 1 Axes>"
      ]
     },
     "metadata": {},
     "output_type": "display_data"
    }
   ],
   "source": [
    "fig,ax = plt.subplots()\n",
    "plot_gaussian_1D(0,1,ax, bound = np.array([-2,2]))\n",
    "plot_gaussian_1D(2,1,ax,offset = -2,orient='v')\n",
    "edge = 3\n",
    "plt.axis([-edge,edge,-0.5,edge])"
   ]
  },
  {
   "cell_type": "code",
   "execution_count": null,
   "metadata": {},
   "outputs": [],
   "source": [
    "model.nbVar = 2; %Number of variables [x1,x2]\n",
    "\n",
    "\n",
    "%% Load  data\n",
    "%%%%%%%%%%%%%%%%%%%%%%%%%%%%%%%%%%%%%%%%%%%%%%%%%%%%%%%%%%%%%%%%%%%%%%%%%%%\n",
    "load('data/faithful.mat');\n",
    "Data = faithful';\n",
    "Data(1,:) = Data(1,:)*1E1;\n",
    "\n",
    "\n",
    "%% Gaussian conditioning \n",
    "%%%%%%%%%%%%%%%%%%%%%%%%%%%%%%%%%%%%%%%%%%%%%%%%%%%%%%%%%%%%%%%%%%%%%%%%%\n",
    "model.Mu = mean(Data,2);\n",
    "model.Sigma = cov(Data');\n",
    "\n",
    "in=1; out=2;\n",
    "DataIn = 50;\n",
    "\n",
    "MuOut = model.Mu(out) + model.Sigma(out,in) / model.Sigma(in,in) * (DataIn-model.Mu(in));\n",
    "SigmaOut = model.Sigma(out,out) - model.Sigma(out,in) / model.Sigma(in,in) * model.Sigma(in,out);\n",
    "slope = model.Sigma(out,in)/model.Sigma(in,in);\n",
    "\n",
    "\n",
    "%% Plot\n",
    "%%%%%%%%%%%%%%%%%%%%%%%%%%%%%%%%%%%%%%%%%%%%%%%%%%%%%%%%%%%%%%%%%%%%%%%%%%%\n",
    "mrg = [10 10];\n",
    "limAxes = [min(Data(1,:))-mrg(1) max(Data(1,:))+mrg(1) min(Data(2,:))-mrg(2) max(Data(2,:))+mrg(2)];\n",
    "\n",
    "figure('PaperPosition',[0 0 4 3],'position',[10,50,1600,1200]); hold on; %axis off;\n",
    "plot(DataIn+[-50,50], MuOut+slope*[-50,50], ':','linewidth',1,'color',[.7 .3 .3]);\n",
    "plot([model.Mu(1) model.Mu(1)], [limAxes(3) model.Mu(2)], ':','linewidth',1,'color',[.7 .3 .3]);\n",
    "plot([limAxes(1) model.Mu(1)], [model.Mu(2) model.Mu(2)], ':','linewidth',1,'color',[.7 .3 .3]);\n",
    "\n",
    "%Plot joint distribution\n",
    "plotGMM(model.Mu, model.Sigma, [.8 0 0]);\n",
    "%Plot marginal distribution horizontally\n",
    "plotGaussian1D(model.Mu(1), model.Sigma(1,1), [limAxes(1) limAxes(3) limAxes(2)-limAxes(1) 10], [.8 0 0], 1, 'h');\n",
    "%Plot marginal distribution vertically\n",
    "plotGaussian1D(model.Mu(2), model.Sigma(2,2), [limAxes(1) limAxes(3) 10 limAxes(4)-limAxes(3)], [.8 0 0], 1, 'v');\n",
    "%Plot conditional distribution vertically\n",
    "plotGaussian1D(MuOut, SigmaOut, [limAxes(1) limAxes(3) 10 limAxes(4)-limAxes(3)], [0 0 .8], 1, 'v');\n",
    "\n",
    "plot(DataIn,MuOut,'.','markersize',12,'color',[.7 .3 .3]);\n",
    "plot(DataIn,limAxes(3),'.','markersize',26,'color',[0 0 .8]);\n",
    "plot([DataIn DataIn], [limAxes(3) MuOut], ':','linewidth',1,'color',[.7 .3 .3]);\n",
    "plot([limAxes(1) DataIn], [MuOut MuOut], ':','linewidth',1,'color',[.7 .3 .3]);\n",
    "\n",
    "axis(limAxes);\n",
    "set(gca,'Xtick',[]); set(gca,'Ytick',[]);\n",
    "xlabel('x^I'); ylabel('x^O');\n"
   ]
  }
 ],
 "metadata": {
  "kernelspec": {
   "display_name": "Python 2",
   "language": "python",
   "name": "python2"
  },
  "language_info": {
   "codemirror_mode": {
    "name": "ipython",
    "version": 2
   },
   "file_extension": ".py",
   "mimetype": "text/x-python",
   "name": "python",
   "nbconvert_exporter": "python",
   "pygments_lexer": "ipython2",
   "version": "2.7.12"
  }
 },
 "nbformat": 4,
 "nbformat_minor": 2
}

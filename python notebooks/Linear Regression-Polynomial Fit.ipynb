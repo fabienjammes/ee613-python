{
 "cells": [
  {
   "cell_type": "code",
   "execution_count": 53,
   "metadata": {},
   "outputs": [],
   "source": [
    "import numpy as np\n",
    "import matplotlib.pyplot as plt\n",
    "from mpl_toolkits.mplot3d.art3d import Poly3DCollection\n",
    "from mpl_toolkits.mplot3d import Axes3D\n",
    "%matplotlib qt\n",
    "from numpy.linalg import inv\n",
    "from numpy import dot,power"
   ]
  },
  {
   "cell_type": "markdown",
   "metadata": {},
   "source": [
    "#### Declare Variables "
   ]
  },
  {
   "cell_type": "code",
   "execution_count": 4,
   "metadata": {},
   "outputs": [],
   "source": [
    "nb_var_in = 2 #Dimension of input vector\n",
    "nb_var_out = 1 #Dimension of output vector\n",
    "nb_data = 40  #Number of datapoints"
   ]
  },
  {
   "cell_type": "markdown",
   "metadata": {},
   "source": [
    "#### Generate Data "
   ]
  },
  {
   "cell_type": "code",
   "execution_count": 70,
   "metadata": {},
   "outputs": [],
   "source": [
    "A0 = np.array([-.2, -.2, .2, 1])[:,None]\n",
    "x = np.linspace(-1,1,nb_data)\n",
    "degree_pol = 3\n",
    "X = power(x,0)\n",
    "for i in range(1,degree_pol+1):\n",
    "    X = np.vstack([X, power(x,i)])\n",
    "\n",
    "X = X.T\n",
    "Y = dot(X,A0) + np.random.rand(nb_data, nb_var_out)*4e-2\n"
   ]
  },
  {
   "cell_type": "markdown",
   "metadata": {},
   "source": [
    "#### Plot Data"
   ]
  },
  {
   "cell_type": "code",
   "execution_count": 71,
   "metadata": {},
   "outputs": [
    {
     "data": {
      "text/plain": [
       "[<matplotlib.lines.Line2D at 0x7f290f22ed10>]"
      ]
     },
     "execution_count": 71,
     "metadata": {},
     "output_type": "execute_result"
    }
   ],
   "source": [
    "plt.plot(x,Y, '.b')"
   ]
  },
  {
   "cell_type": "markdown",
   "metadata": {},
   "source": [
    "#### Calculate A"
   ]
  },
  {
   "cell_type": "code",
   "execution_count": 72,
   "metadata": {},
   "outputs": [],
   "source": [
    "if nb_var_in > nb_var_out:\n",
    "    A = dot(inv(dot(X.T,X)),dot(X.T, Y)) \n",
    "else:\n",
    "    A = dot(X.T, dot(inv(dot(X,X.T)),Y))\n",
    "\n",
    "e = np.linalg.norm(dot(X,A)-Y)"
   ]
  },
  {
   "cell_type": "markdown",
   "metadata": {},
   "source": [
    "#### Plot the predictive data (as line) and the true data (as points)"
   ]
  },
  {
   "cell_type": "code",
   "execution_count": 81,
   "metadata": {},
   "outputs": [],
   "source": [
    "Y_pred = dot(X,A)\n",
    "plt.plot(x,Y_pred,'-r')\n",
    "plt.plot(x, Y,'.k')\n",
    "\n",
    "plt.title('Least squares - Polynomial fit of degree ' + str(nb_var_in) + ' (e={0:0.2f})'.format(e))\n",
    "for i in range(nb_data):\n",
    "    plt.plot([x[i], x[i]], [Y[i], Y_pred[i]], '-b')"
   ]
  }
 ],
 "metadata": {
  "kernelspec": {
   "display_name": "Python 2",
   "language": "python",
   "name": "python2"
  },
  "language_info": {
   "codemirror_mode": {
    "name": "ipython",
    "version": 2
   },
   "file_extension": ".py",
   "mimetype": "text/x-python",
   "name": "python",
   "nbconvert_exporter": "python",
   "pygments_lexer": "ipython2",
   "version": "2.7.12"
  }
 },
 "nbformat": 4,
 "nbformat_minor": 2
}

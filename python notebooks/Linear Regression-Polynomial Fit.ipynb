{
 "cells": [
  {
   "cell_type": "code",
   "execution_count": 1,
   "metadata": {},
   "outputs": [],
   "source": [
    "import numpy as np\n",
    "import matplotlib.pyplot as plt\n",
    "from mpl_toolkits.mplot3d.art3d import Poly3DCollection\n",
    "from mpl_toolkits.mplot3d import Axes3D\n",
    "%matplotlib qt\n",
    "from numpy.linalg import inv\n",
    "from numpy import dot,power\n",
    "from utils import *"
   ]
  },
  {
   "cell_type": "markdown",
   "metadata": {},
   "source": [
    "## Declare Variables "
   ]
  },
  {
   "cell_type": "code",
   "execution_count": 6,
   "metadata": {},
   "outputs": [],
   "source": [
    "nb_var_in = 4 #Dimension of input vector\n",
    "nb_var_out = 1 #Dimension of output vector\n",
    "nb_data = 40  #Number of datapoints"
   ]
  },
  {
   "cell_type": "markdown",
   "metadata": {},
   "source": [
    "## Generate Data "
   ]
  },
  {
   "cell_type": "code",
   "execution_count": 7,
   "metadata": {},
   "outputs": [],
   "source": [
    "A0 = np.array([-.2, -.2, .2, 1])[:,None]\n",
    "x = np.linspace(-1,1,nb_data)\n",
    "degree_pol = 3\n",
    "X = power(x,0)\n",
    "for i in range(1,degree_pol+1):\n",
    "    X = np.vstack([X, power(x,i)])\n",
    "\n",
    "X = X.T\n",
    "Y = dot(X,A0) + np.random.normal(size=(nb_data, nb_var_out))*2e-2"
   ]
  },
  {
   "cell_type": "markdown",
   "metadata": {},
   "source": [
    "### Plot Data"
   ]
  },
  {
   "cell_type": "code",
   "execution_count": 8,
   "metadata": {},
   "outputs": [
    {
     "data": {
      "text/plain": [
       "[<matplotlib.lines.Line2D at 0x7f9d7810b150>]"
      ]
     },
     "execution_count": 8,
     "metadata": {},
     "output_type": "execute_result"
    }
   ],
   "source": [
    "plt.plot(x,Y, '.b')"
   ]
  },
  {
   "cell_type": "markdown",
   "metadata": {},
   "source": [
    "## Calculate A"
   ]
  },
  {
   "cell_type": "markdown",
   "metadata": {},
   "source": [
    "### Standard LS "
   ]
  },
  {
   "cell_type": "code",
   "execution_count": 9,
   "metadata": {},
   "outputs": [
    {
     "name": "stdout",
     "output_type": "stream",
     "text": [
      "0.09048608777272724\n"
     ]
    }
   ],
   "source": [
    "A = dot(inv(dot(X.T,X)),dot(X.T, Y)) \n",
    "e = np.linalg.norm(dot(X,A)-Y)\n",
    "plot_title = 'Least squares - Polynomial fit of degree ' + str(nb_var_in) + ' (e={0:0.2f})'.format(e)\n",
    "print e"
   ]
  },
  {
   "cell_type": "markdown",
   "metadata": {},
   "source": [
    "### Ridge Regression "
   ]
  },
  {
   "cell_type": "code",
   "execution_count": 66,
   "metadata": {},
   "outputs": [
    {
     "name": "stdout",
     "output_type": "stream",
     "text": [
      "0.47251622633990364\n"
     ]
    }
   ],
   "source": [
    "#Naive computation of ridge regression\n",
    "lamda = 1e0\n",
    "Gamma = np.eye(nb_var_in)*lamda\n",
    "A = dot(inv(dot(X.T,X) + dot(Gamma.T,Gamma)),dot(X.T, Y)) \n",
    "e = np.linalg.norm(dot(X,A)-Y)\n",
    "plot_title = 'Ridge Regression: Least squares - Polynomial fit of degree ' + str(nb_var_in) + ' (e={0:0.2f})'.format(e)\n",
    "print e"
   ]
  },
  {
   "cell_type": "code",
   "execution_count": 65,
   "metadata": {},
   "outputs": [
    {
     "name": "stdout",
     "output_type": "stream",
     "text": [
      "0.4725162263399041\n"
     ]
    }
   ],
   "source": [
    "#Ridge regression computed with augmented matrices\n",
    "lamda = 1e0\n",
    "Gamma = np.eye(nb_var_in)*lamda\n",
    "Xa = np.vstack([X, Gamma])\n",
    "Ya = np.vstack([Y, np.zeros((nb_var_in, nb_var_out))])\n",
    "A = dot(inv(dot(Xa.T,Xa)),dot(Xa.T, Ya)) \n",
    "e = np.linalg.norm(dot(X,A)-Y)\n",
    "plot_title = 'Ridge Regression: Least squares - Polynomial fit of degree ' + str(nb_var_in) + ' (e={0:0.2f})'.format(e)\n",
    "print e"
   ]
  },
  {
   "cell_type": "code",
   "execution_count": 88,
   "metadata": {},
   "outputs": [
    {
     "name": "stdout",
     "output_type": "stream",
     "text": [
      "0.472516226339904\n"
     ]
    }
   ],
   "source": [
    "#Ridge regression computed with SVD\n",
    "lamda = 1e0\n",
    "U,S,V = np.linalg.svd(X)\n",
    "\n",
    "#Ridge regression computed with SVD\n",
    "for i in range(len(S)):\n",
    "    S[i] = S[i]/(S[i]**2 + lamda**2)\n",
    "S_mat = np.vstack([np.diag(S), np.zeros((36,4))])\n",
    "A = dot(V, dot(S_mat.T, dot(U.T, Y)))\n",
    "e = np.linalg.norm(dot(X,A)-Y)\n",
    "plot_title = 'Ridge Regression: Least squares - Polynomial fit of degree ' + str(nb_var_in) + ' (e={0:0.2f})'.format(e)\n",
    "print e"
   ]
  },
  {
   "cell_type": "markdown",
   "metadata": {},
   "source": [
    "#### Plot the predictive data (as line) and the true data (as points)"
   ]
  },
  {
   "cell_type": "raw",
   "metadata": {},
   "source": [
    "plot_data_2D(x,Y,Y_pred, title=plot_title)"
   ]
  },
  {
   "cell_type": "markdown",
   "metadata": {},
   "source": [
    "## Regression with Nullspace "
   ]
  },
  {
   "cell_type": "markdown",
   "metadata": {},
   "source": [
    "#### Generate Data "
   ]
  },
  {
   "cell_type": "code",
   "execution_count": 145,
   "metadata": {},
   "outputs": [],
   "source": [
    "nb_var_in = 9 #Dimension of input vector\n",
    "nb_var_out = 1 #Dimension of output vector\n",
    "nb_data = 5  #Number of datapoints\n",
    "\n",
    "#A0 = np.array([-.2, -.2, .2, .3, 1])[:,None]\n",
    "A0 = np.random.rand(nb_var_in,1)\n",
    "x = np.linspace(-1,1,nb_data)\n",
    "degree_pol = 8\n",
    "X = power(x,0)\n",
    "for i in range(1,degree_pol+1):\n",
    "    X = np.vstack([X, power(x,i)])\n",
    "\n",
    "X = X.T\n",
    "Y = dot(X,A0) + np.random.normal(size=(nb_data, nb_var_out))*2e-2"
   ]
  },
  {
   "cell_type": "markdown",
   "metadata": {},
   "source": [
    "#### Calculate the Nullspace "
   ]
  },
  {
   "cell_type": "code",
   "execution_count": 146,
   "metadata": {},
   "outputs": [],
   "source": [
    "X_inv =  dot(X.T, inv(dot(X,X.T)))\n",
    "N = np.eye(nb_var_in) - dot(X_inv,X)"
   ]
  },
  {
   "cell_type": "markdown",
   "metadata": {},
   "source": [
    "#### Calculate the prediction"
   ]
  },
  {
   "cell_type": "code",
   "execution_count": 150,
   "metadata": {},
   "outputs": [],
   "source": [
    "x_pred = np.linspace(-1,1,200)\n",
    "X_pred = power(x_pred,0)\n",
    "for i in range(1,degree_pol+1):\n",
    "    X_pred = np.vstack([X_pred, power(x_pred,i)])\n",
    "    \n",
    "X_pred = X_pred.T"
   ]
  },
  {
   "cell_type": "code",
   "execution_count": 153,
   "metadata": {},
   "outputs": [],
   "source": [
    "As = []\n",
    "Y_preds = []\n",
    "for n in range(20):\n",
    "    v = 5*np.random.rand(nb_var_in)[:,None]\n",
    "    A_cur = dot(X_inv,Y) + dot(N,v)\n",
    "    Y_pred = dot(X_pred,A_cur)\n",
    "    plt.plot(x_pred,Y_pred)"
   ]
  },
  {
   "cell_type": "markdown",
   "metadata": {},
   "source": [
    "## Weighted Least Square"
   ]
  },
  {
   "cell_type": "markdown",
   "metadata": {},
   "source": [
    "#### Generate Data "
   ]
  },
  {
   "cell_type": "code",
   "execution_count": 25,
   "metadata": {},
   "outputs": [
    {
     "data": {
      "text/plain": [
       "[<matplotlib.lines.Line2D at 0x7f9d70dbad90>]"
      ]
     },
     "execution_count": 25,
     "metadata": {},
     "output_type": "execute_result"
    },
    {
     "data": {
      "image/png": "[encoded data removed]",
      "text/plain": [
       "<Figure size 432x288 with 1 Axes>"
      ]
     },
     "metadata": {
      "needs_background": "light"
     },
     "output_type": "display_data"
    }
   ],
   "source": [
    "%matplotlib inline\n",
    "nb_var_in = 1 #Dimension of input vector\n",
    "nb_var_out = 1 #Dimension of output vector\n",
    "nb_data = 20  #Number of datapoints\n",
    "\n",
    "#A0 = np.array([-.2, -.2, .2, .3, 1])[:,None]\n",
    "A0 = np.random.rand(nb_var_in,1)\n",
    "X = np.linspace(0,1,nb_data)[:,None]\n",
    "Y = np.sin(X*np.pi*2) + X*5 + np.random.normal(size=(nb_data,1), scale = 1e-10)\n",
    "plt.plot(X,Y)"
   ]
  },
  {
   "cell_type": "markdown",
   "metadata": {},
   "source": [
    "#### Calculate LS and Weighted LS "
   ]
  },
  {
   "cell_type": "code",
   "execution_count": 82,
   "metadata": {},
   "outputs": [],
   "source": [
    "#Calculate LS\n",
    "A = dot(inv(dot(X.T,X)),dot(X.T, Y)) \n",
    "\n",
    "#Calculate Weighted LS\n",
    "W = np.diag(np.cos(np.linspace(0,np.pi/2,nb_data))**6)\n",
    "Aw = dot(inv(dot(X.T,dot(W,X))),dot(X.T, dot(W,Y)))"
   ]
  },
  {
   "cell_type": "markdown",
   "metadata": {},
   "source": [
    "#### Plot prediction"
   ]
  },
  {
   "cell_type": "code",
   "execution_count": 85,
   "metadata": {},
   "outputs": [
    {
     "data": {
      "image/png": "[encoded data removed]",
      "text/plain": [
       "<Figure size 432x288 with 2 Axes>"
      ]
     },
     "metadata": {
      "needs_background": "light"
     },
     "output_type": "display_data"
    }
   ],
   "source": [
    "#plot standard LS\n",
    "Y_pred = np.dot(X,A)\n",
    "plot_title = 'Standard LS'\n",
    "plt.subplot(1,2,1)\n",
    "plot_data_2D(X,Y,Y_pred, title = plot_title)\n",
    "\n",
    "\n",
    "#plot weighted LS\n",
    "Y_pred = np.dot(X,Aw)\n",
    "alphas = np.power(np.diagonal(W),0.3)\n",
    "plot_title = 'Weighted LS'\n",
    "plt.subplot(1,2,2)\n",
    "plot_data_2D(X,Y,Y_pred, alphas = alphas, title = plot_title)"
   ]
  },
  {
   "cell_type": "markdown",
   "metadata": {},
   "source": [
    "## Iterative Re-weighted Least Square"
   ]
  },
  {
   "cell_type": "markdown",
   "metadata": {},
   "source": [
    "#### Generate Data "
   ]
  },
  {
   "cell_type": "code",
   "execution_count": 129,
   "metadata": {},
   "outputs": [
    {
     "data": {
      "text/plain": [
       "[<matplotlib.lines.Line2D at 0x7f9d7147ed50>]"
      ]
     },
     "execution_count": 129,
     "metadata": {},
     "output_type": "execute_result"
    },
    {
     "data": {
      "image/png": "[encoded data removed]",
      "text/plain": [
       "<Figure size 432x288 with 1 Axes>"
      ]
     },
     "metadata": {
      "needs_background": "light"
     },
     "output_type": "display_data"
    }
   ],
   "source": [
    "%matplotlib inline\n",
    "nb_var_in = 1 #Dimension of input vector\n",
    "nb_var_out = 1 #Dimension of output vector\n",
    "nb_data = 20  #Number of datapoints\n",
    "nb_iter = 10 #number of re-weighting iterations\n",
    "p = 1 #L1 norm\n",
    "\n",
    "A0 = np.random.rand(nb_var_in,nb_var_out)\n",
    "X = np.linspace(0,1,nb_data)[:,None]\n",
    "Y = dot(X,A) + np.random.normal(size=(nb_data,nb_var_out), scale = 0.2)\n",
    "Y[3] += 5\n",
    "Y[17] += 5\n",
    "plt.plot(X,Y, '.')"
   ]
  },
  {
   "cell_type": "markdown",
   "metadata": {},
   "source": [
    "#### Calculate LS and Iterative Re-weighted LS "
   ]
  },
  {
   "cell_type": "code",
   "execution_count": 130,
   "metadata": {},
   "outputs": [],
   "source": [
    "#Calculate LS\n",
    "A = dot(inv(dot(X.T,X)),dot(X.T, Y))\n",
    "Y_pred_ls = dot(X,A)\n",
    "e_ls = np.linalg.norm(Y-Y_pred_ls,ord = 1)\n",
    "plot_title_ls = 'LS (e={0:0.2f})'.format(e_ls)"
   ]
  },
  {
   "cell_type": "code",
   "execution_count": 131,
   "metadata": {},
   "outputs": [],
   "source": [
    "#Calculate IRLS\n",
    "W = np.eye(nb_data)\n",
    "res_set = []\n",
    "for i in range(nb_iter):\n",
    "    Aw = dot(inv(dot(X.T,dot(W,X))),dot(X.T, dot(W,Y)))\n",
    "    diff = np.abs(Y-dot(X,Aw)).flatten()\n",
    "    res_set.append(np.sum(diff))\n",
    "    W = np.diag(diff**(p-2))"
   ]
  },
  {
   "cell_type": "code",
   "execution_count": 132,
   "metadata": {},
   "outputs": [
    {
     "name": "stdout",
     "output_type": "stream",
     "text": [
      "12.482145797720626\n"
     ]
    }
   ],
   "source": [
    "Y_pred_irls = dot(X,Aw)\n",
    "e_irls = np.linalg.norm(Y-Y_pred_irls,ord = 1)\n",
    "print e_irls\n",
    "plot_title_irls = 'IRLS (e={0:0.2f})'.format(e_irls)"
   ]
  },
  {
   "cell_type": "code",
   "execution_count": 133,
   "metadata": {},
   "outputs": [
    {
     "data": {
      "image/png": "[encoded data removed]",
      "text/plain": [
       "<Figure size 432x288 with 1 Axes>"
      ]
     },
     "metadata": {
      "needs_background": "light"
     },
     "output_type": "display_data"
    },
    {
     "data": {
      "image/png": "[encoded data removed]",
      "text/plain": [
       "<Figure size 432x288 with 1 Axes>"
      ]
     },
     "metadata": {
      "needs_background": "light"
     },
     "output_type": "display_data"
    }
   ],
   "source": [
    "plt.figure()\n",
    "plot_data_2D(X,Y,Y_pred_ls, title = plot_title_ls)\n",
    "plt.figure()\n",
    "plot_data_2D(X,Y,Y_pred_irls, title = plot_title_irls)\n"
   ]
  },
  {
   "cell_type": "markdown",
   "metadata": {},
   "source": [
    "## Recursive Least Square "
   ]
  },
  {
   "cell_type": "markdown",
   "metadata": {},
   "source": [
    "#### Generate Data "
   ]
  },
  {
   "cell_type": "code",
   "execution_count": 146,
   "metadata": {},
   "outputs": [],
   "source": [
    "def func(X):\n",
    "    return np.sin(X*np.pi*1.3) + X*5 + np.random.normal(size=(nb_data,1), scale = 1e-1)"
   ]
  },
  {
   "cell_type": "code",
   "execution_count": 158,
   "metadata": {},
   "outputs": [
    {
     "data": {
      "text/plain": [
       "[<matplotlib.lines.Line2D at 0x7f9d713ed090>]"
      ]
     },
     "execution_count": 158,
     "metadata": {},
     "output_type": "execute_result"
    },
    {
     "data": {
      "image/png": "[encoded data removed]",
      "text/plain": [
       "<Figure size 432x288 with 1 Axes>"
      ]
     },
     "metadata": {
      "needs_background": "light"
     },
     "output_type": "display_data"
    }
   ],
   "source": [
    "%matplotlib inline\n",
    "nb_var_in = 1 #Dimension of input vector\n",
    "nb_var_out = 1 #Dimension of output vector\n",
    "nb_data = 200  #Number of datapoints\n",
    "\n",
    "X = np.linspace(0,0.6,nb_data)[:,None]\n",
    "Y = func(X)\n",
    "\n",
    "#additional data\n",
    "V = np.linspace(0.6,1.,nb_data)[:,None]\n",
    "C = func(V)\n",
    "plt.plot(X,Y,'.b')\n",
    "plt.plot(V,C,'.y')"
   ]
  },
  {
   "cell_type": "markdown",
   "metadata": {},
   "source": [
    "#### Calculate LS with the initial data "
   ]
  },
  {
   "cell_type": "code",
   "execution_count": 156,
   "metadata": {},
   "outputs": [
    {
     "data": {
      "text/plain": [
       "[<matplotlib.lines.Line2D at 0x7f9d70836810>]"
      ]
     },
     "execution_count": 156,
     "metadata": {},
     "output_type": "execute_result"
    },
    {
     "data": {
      "image/png": "[encoded data removed]",
      "text/plain": [
       "<Figure size 432x288 with 1 Axes>"
      ]
     },
     "metadata": {
      "needs_background": "light"
     },
     "output_type": "display_data"
    }
   ],
   "source": [
    "B_inv = inv(dot(X.T,X))\n",
    "A = dot(B_inv,dot(X.T, Y)) \n",
    "Y_pred = dot(X,A)\n",
    "plt.plot(X,Y,'.k')\n",
    "plt.plot(X,Y_pred,'-r')"
   ]
  },
  {
   "cell_type": "markdown",
   "metadata": {},
   "source": [
    "#### Update LS with the new data "
   ]
  },
  {
   "cell_type": "code",
   "execution_count": 162,
   "metadata": {},
   "outputs": [],
   "source": [
    "K = dot(B_inv, dot(V.T, inv(np.eye(nb_data) + dot(V,dot(B_inv, V.T)))))\n",
    "A_new = A + dot(K,C-dot(V,A))"
   ]
  },
  {
   "cell_type": "markdown",
   "metadata": {},
   "source": [
    "#### Compare standard LS and RLS "
   ]
  },
  {
   "cell_type": "code",
   "execution_count": 163,
   "metadata": {},
   "outputs": [],
   "source": [
    "X_new = np.vstack([X,V])\n",
    "Y_new = np.vstack([Y,C])"
   ]
  },
  {
   "cell_type": "code",
   "execution_count": 171,
   "metadata": {},
   "outputs": [
    {
     "data": {
      "text/plain": [
       "[<matplotlib.lines.Line2D at 0x7f9d704d88d0>]"
      ]
     },
     "execution_count": 171,
     "metadata": {},
     "output_type": "execute_result"
    },
    {
     "data": {
      "image/png": "[encoded data removed]",
      "text/plain": [
       "<Figure size 432x288 with 1 Axes>"
      ]
     },
     "metadata": {
      "needs_background": "light"
     },
     "output_type": "display_data"
    }
   ],
   "source": [
    "#Standard LS\n",
    "A_LS = dot(inv(dot(X_new.T,X_new)),dot(X_new.T, Y_new)) \n",
    "Y_LS = dot(X_new, A_LS)\n",
    "plt.plot(X_new, Y_new, '.k')\n",
    "plt.plot(X_new, Y_LS,'-r')"
   ]
  },
  {
   "cell_type": "code",
   "execution_count": 176,
   "metadata": {},
   "outputs": [
    {
     "data": {
      "text/plain": [
       "[<matplotlib.lines.Line2D at 0x7f9d6bfaaf90>]"
      ]
     },
     "execution_count": 176,
     "metadata": {},
     "output_type": "execute_result"
    },
    {
     "data": {
      "image/png": "[encoded data removed]",
      "text/plain": [
       "<Figure size 432x288 with 1 Axes>"
      ]
     },
     "metadata": {
      "needs_background": "light"
     },
     "output_type": "display_data"
    }
   ],
   "source": [
    "#Reweighted LS\n",
    "Y_init = dot(X_new, A)\n",
    "Y_RLS = dot(X_new, A_new)\n",
    "plt.plot(X_new, Y_new, '.k')\n",
    "plt.plot(X_new, Y_RLS, '-r')\n",
    "plt.plot(X_new, Y_init, '-y')"
   ]
  },
  {
   "cell_type": "code",
   "execution_count": null,
   "metadata": {},
   "outputs": [],
   "source": []
  }
 ],
 "metadata": {
  "kernelspec": {
   "display_name": "Python 2",
   "language": "python",
   "name": "python2"
  },
  "language_info": {
   "codemirror_mode": {
    "name": "ipython",
    "version": 2
   },
   "file_extension": ".py",
   "mimetype": "text/x-python",
   "name": "python",
   "nbconvert_exporter": "python",
   "pygments_lexer": "ipython2",
   "version": "2.7.12"
  }
 },
 "nbformat": 4,
 "nbformat_minor": 2
}

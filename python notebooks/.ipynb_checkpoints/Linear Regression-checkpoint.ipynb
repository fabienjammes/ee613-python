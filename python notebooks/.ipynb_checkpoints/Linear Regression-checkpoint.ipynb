{
 "cells": [
  {
   "cell_type": "code",
   "execution_count": 71,
   "metadata": {},
   "outputs": [],
   "source": [
    "import numpy as np\n",
    "import matplotlib.pyplot as plt\n",
    "from mpl_toolkits.mplot3d.art3d import Poly3DCollection\n",
    "from mpl_toolkits.mplot3d import Axes3D\n",
    "%matplotlib qt\n",
    "from numpy.linalg import inv\n",
    "from numpy import dot"
   ]
  },
  {
   "cell_type": "markdown",
   "metadata": {},
   "source": [
    "#### Declare Variables "
   ]
  },
  {
   "cell_type": "code",
   "execution_count": 72,
   "metadata": {},
   "outputs": [],
   "source": [
    "nb_var_in = 2 #Dimension of input vector\n",
    "nb_var_out = 1 #Dimension of output vector\n",
    "nb_data = 40  #Number of datapoints"
   ]
  },
  {
   "cell_type": "markdown",
   "metadata": {},
   "source": [
    "#### Generate Data "
   ]
  },
  {
   "cell_type": "code",
   "execution_count": 73,
   "metadata": {},
   "outputs": [],
   "source": [
    "A0 = np.array([[3], [2]])\n",
    "#A0 = np.random.rand(nb_var_in, nb_var_out) - 0.5\n",
    "X = np.random.rand(nb_data, nb_var_in)\n",
    "Y = np.dot(X,A0) + np.random.normal(scale = 5e-1, size=(nb_data, nb_var_out))"
   ]
  },
  {
   "cell_type": "markdown",
   "metadata": {},
   "source": [
    "#### Plot Data"
   ]
  },
  {
   "cell_type": "code",
   "execution_count": 74,
   "metadata": {},
   "outputs": [
    {
     "data": {
      "text/plain": [
       "<mpl_toolkits.mplot3d.art3d.Path3DCollection at 0x7fb952a9b210>"
      ]
     },
     "execution_count": 74,
     "metadata": {},
     "output_type": "execute_result"
    }
   ],
   "source": [
    "fig = plt.figure()\n",
    "ax = fig.add_subplot(111, projection='3d')\n",
    "ax.scatter(X[:,0],X[:,1],Y.flatten())"
   ]
  },
  {
   "cell_type": "markdown",
   "metadata": {},
   "source": [
    "#### Calculate A using Standard LS"
   ]
  },
  {
   "cell_type": "code",
   "execution_count": 75,
   "metadata": {},
   "outputs": [],
   "source": [
    "if nb_var_in > nb_var_out:\n",
    "    A = dot(inv(dot(X.T,X)),dot(X.T, Y)) \n",
    "else:\n",
    "    A = dot(X.T, dot(inv(dot(X,X.T)),Y))"
   ]
  },
  {
   "cell_type": "markdown",
   "metadata": {},
   "source": [
    "#### Plot the plane corresponding to A, with the datapoints "
   ]
  },
  {
   "cell_type": "code",
   "execution_count": 101,
   "metadata": {},
   "outputs": [],
   "source": [
    "fig = plt.figure()\n",
    "ax = Axes3D(fig)\n",
    "x = [0,1,1,0]\n",
    "y = [0,0,1,1]\n",
    "z = [0,dot(np.array([1,0]),A),dot(np.array([1,1]),A),dot(np.array([0,1]),A)]\n",
    "verts = [list(zip(x,y,z))]\n",
    "predicted_plane = Poly3DCollection(verts,alpha=0.2)\n",
    "\n",
    "predicted_plane.set_facecolor([1.,0.1,0.])\n",
    "\n",
    "ax.add_collection3d(predicted_plane)\n",
    "\n",
    "for t in range(nb_data):\n",
    "    ax.plot3D([X[t,0], X[t,0]], [X[t,1], X[t,1]], [Y[t,0], dot(X[t,:],A)], '-b', linewidth=2)\n",
    "    ax.plot3D(X[t,0:1], X[t,1:2], Y[t,0:1], '.k', markersize=14)\n",
    "\n",
    "plt.savefig('graphs/demo_LS01.png')"
   ]
  }
 ],
 "metadata": {
  "kernelspec": {
   "display_name": "Python 2",
   "language": "python",
   "name": "python2"
  },
  "language_info": {
   "codemirror_mode": {
    "name": "ipython",
    "version": 2
   },
   "file_extension": ".py",
   "mimetype": "text/x-python",
   "name": "python",
   "nbconvert_exporter": "python",
   "pygments_lexer": "ipython2",
   "version": "2.7.12"
  }
 },
 "nbformat": 4,
 "nbformat_minor": 2
}

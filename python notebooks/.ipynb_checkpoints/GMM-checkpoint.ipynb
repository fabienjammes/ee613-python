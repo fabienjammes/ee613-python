{
 "cells": [
  {
   "cell_type": "code",
   "execution_count": 15,
   "metadata": {},
   "outputs": [
    {
     "name": "stderr",
     "output_type": "stream",
     "text": [
      "/home/teguh/.local/lib/python2.7/site-packages/sklearn/utils/__init__.py:9: RuntimeWarning: numpy.dtype size changed, may indicate binary incompatibility. Expected 96, got 88\n",
      "  from .murmurhash import murmurhash3_32\n",
      "/home/teguh/.local/lib/python2.7/site-packages/sklearn/utils/extmath.py:24: RuntimeWarning: numpy.dtype size changed, may indicate binary incompatibility. Expected 96, got 88\n",
      "  from ._logistic_sigmoid import _log_logistic_sigmoid\n",
      "/home/teguh/.local/lib/python2.7/site-packages/sklearn/utils/extmath.py:26: RuntimeWarning: numpy.dtype size changed, may indicate binary incompatibility. Expected 96, got 88\n",
      "  from .sparsefuncs_fast import csr_row_norms\n",
      "/home/teguh/.local/lib/python2.7/site-packages/sklearn/metrics/cluster/supervised.py:23: RuntimeWarning: numpy.dtype size changed, may indicate binary incompatibility. Expected 96, got 88\n",
      "  from .expected_mutual_info_fast import expected_mutual_information\n",
      "/home/teguh/.local/lib/python2.7/site-packages/sklearn/metrics/pairwise.py:30: RuntimeWarning: numpy.dtype size changed, may indicate binary incompatibility. Expected 96, got 88\n",
      "  from .pairwise_fast import _chi2_kernel_fast, _sparse_manhattan\n",
      "/home/teguh/.local/lib/python2.7/site-packages/sklearn/neighbors/__init__.py:6: RuntimeWarning: numpy.dtype size changed, may indicate binary incompatibility. Expected 96, got 88\n",
      "  from .ball_tree import BallTree\n",
      "/home/teguh/.local/lib/python2.7/site-packages/sklearn/neighbors/__init__.py:7: RuntimeWarning: numpy.dtype size changed, may indicate binary incompatibility. Expected 96, got 88\n",
      "  from .kd_tree import KDTree\n",
      "/home/teguh/.local/lib/python2.7/site-packages/sklearn/utils/random.py:10: RuntimeWarning: numpy.dtype size changed, may indicate binary incompatibility. Expected 96, got 88\n",
      "  from ._random import sample_without_replacement\n",
      "/home/teguh/.local/lib/python2.7/site-packages/sklearn/utils/graph.py:15: RuntimeWarning: numpy.dtype size changed, may indicate binary incompatibility. Expected 96, got 88\n",
      "  from .graph_shortest_path import graph_shortest_path  # noqa\n",
      "/home/teguh/.local/lib/python2.7/site-packages/sklearn/linear_model/base.py:35: RuntimeWarning: numpy.dtype size changed, may indicate binary incompatibility. Expected 96, got 88\n",
      "  from ..utils.seq_dataset import ArrayDataset, CSRDataset\n",
      "/home/teguh/.local/lib/python2.7/site-packages/sklearn/linear_model/least_angle.py:23: RuntimeWarning: numpy.dtype size changed, may indicate binary incompatibility. Expected 96, got 88\n",
      "  from ..utils import arrayfuncs, as_float_array, check_X_y, deprecated\n",
      "/home/teguh/.local/lib/python2.7/site-packages/sklearn/linear_model/coordinate_descent.py:29: RuntimeWarning: numpy.dtype size changed, may indicate binary incompatibility. Expected 96, got 88\n",
      "  from . import cd_fast\n",
      "/home/teguh/.local/lib/python2.7/site-packages/sklearn/linear_model/__init__.py:22: RuntimeWarning: numpy.dtype size changed, may indicate binary incompatibility. Expected 96, got 88\n",
      "  from .sgd_fast import Hinge, Log, ModifiedHuber, SquaredLoss, Huber\n",
      "/home/teguh/.local/lib/python2.7/site-packages/sklearn/linear_model/sag.py:12: RuntimeWarning: numpy.dtype size changed, may indicate binary incompatibility. Expected 96, got 88\n",
      "  from .sag_fast import sag\n",
      "/home/teguh/.local/lib/python2.7/site-packages/sklearn/svm/base.py:8: RuntimeWarning: numpy.dtype size changed, may indicate binary incompatibility. Expected 96, got 88\n",
      "  from . import libsvm, liblinear\n",
      "/home/teguh/.local/lib/python2.7/site-packages/sklearn/svm/base.py:9: RuntimeWarning: numpy.dtype size changed, may indicate binary incompatibility. Expected 96, got 88\n",
      "  from . import libsvm_sparse\n",
      "/home/teguh/.local/lib/python2.7/site-packages/sklearn/decomposition/online_lda.py:28: RuntimeWarning: numpy.dtype size changed, may indicate binary incompatibility. Expected 96, got 88\n",
      "  from ._online_lda import (mean_change, _dirichlet_expectation_1d,\n",
      "/home/teguh/.local/lib/python2.7/site-packages/sklearn/isotonic.py:12: RuntimeWarning: numpy.dtype size changed, may indicate binary incompatibility. Expected 96, got 88\n",
      "  from ._isotonic import _inplace_contiguous_isotonic_regression, _make_unique\n",
      "/home/teguh/.local/lib/python2.7/site-packages/sklearn/manifold/t_sne.py:24: RuntimeWarning: numpy.dtype size changed, may indicate binary incompatibility. Expected 96, got 88\n",
      "  from . import _utils\n",
      "/home/teguh/.local/lib/python2.7/site-packages/sklearn/manifold/t_sne.py:25: RuntimeWarning: numpy.dtype size changed, may indicate binary incompatibility. Expected 96, got 88\n",
      "  from . import _barnes_hut_tsne\n",
      "/home/teguh/.local/lib/python2.7/site-packages/sklearn/tree/tree.py:40: RuntimeWarning: numpy.dtype size changed, may indicate binary incompatibility. Expected 96, got 88\n",
      "  from ._criterion import Criterion\n",
      "/home/teguh/.local/lib/python2.7/site-packages/sklearn/cluster/k_means_.py:35: RuntimeWarning: numpy.dtype size changed, may indicate binary incompatibility. Expected 96, got 88\n",
      "  from . import _k_means\n",
      "/home/teguh/.local/lib/python2.7/site-packages/sklearn/cluster/k_means_.py:36: RuntimeWarning: numpy.dtype size changed, may indicate binary incompatibility. Expected 96, got 88\n",
      "  from ._k_means_elkan import k_means_elkan\n",
      "/home/teguh/.local/lib/python2.7/site-packages/sklearn/cluster/hierarchical.py:23: RuntimeWarning: numpy.dtype size changed, may indicate binary incompatibility. Expected 96, got 88\n",
      "  from . import _hierarchical\n",
      "/home/teguh/.local/lib/python2.7/site-packages/sklearn/cluster/dbscan_.py:19: RuntimeWarning: numpy.dtype size changed, may indicate binary incompatibility. Expected 96, got 88\n",
      "  from ._dbscan_inner import dbscan_inner\n"
     ]
    }
   ],
   "source": [
    "import numpy as np\n",
    "import matplotlib.pyplot as plt\n",
    "from IPython.display import clear_output\n",
    "from utils import *\n",
    "\n",
    "%load_ext autoreload\n",
    "%autoreload 2"
   ]
  },
  {
   "cell_type": "markdown",
   "metadata": {},
   "source": [
    "#### Declare Variables "
   ]
  },
  {
   "cell_type": "code",
   "execution_count": 16,
   "metadata": {},
   "outputs": [],
   "source": [
    "n_states = 5 #number of states in the GMM\n",
    "n_in = 1 #Number of variables for the radial basis function [s] (decay term)\n",
    "n_out = 2 # Number of motion variables [xi,x2]\n",
    "\n",
    "n_data = 200 #length of trajectory\n",
    "n_samples = 5 #number of demonstrations"
   ]
  },
  {
   "cell_type": "markdown",
   "metadata": {},
   "source": [
    "#### Load Data "
   ]
  },
  {
   "cell_type": "code",
   "execution_count": 17,
   "metadata": {},
   "outputs": [
    {
     "data": {
      "text/plain": [
       "[<matplotlib.lines.Line2D at 0x7f1f915a9bd0>]"
      ]
     },
     "execution_count": 17,
     "metadata": {},
     "output_type": "execute_result"
    },
    {
     "data": {
      "image/png": "[encoded data removed]",
      "text/plain": [
       "<Figure size 432x288 with 1 Axes>"
      ]
     },
     "metadata": {
      "needs_background": "light"
     },
     "output_type": "display_data"
    }
   ],
   "source": [
    "ROOT = 'python_data/2Dletters/'\n",
    "data = np.load(ROOT + 'G.npy')[1:n_samples+1]\n",
    "\n",
    "#construct the output Y by concatenating all demonstrations\n",
    "data = data.transpose([0,2,1])\n",
    "Y = np.concatenate(data,axis=0)\n",
    "\n",
    "plt.plot(Y[:,0], Y[:,1],'.b')"
   ]
  },
  {
   "cell_type": "code",
   "execution_count": 1,
   "metadata": {},
   "outputs": [],
   "source": [
    "from scipy.stats import multivariate_normal as mvn"
   ]
  },
  {
   "cell_type": "code",
   "execution_count": 3,
   "metadata": {},
   "outputs": [],
   "source": [
    "import numpy as np"
   ]
  },
  {
   "cell_type": "code",
   "execution_count": 21,
   "metadata": {},
   "outputs": [
    {
     "data": {
      "text/plain": [
       "array([0.1490527 , 0.14920954, 0.14948119, 0.15491095])"
      ]
     },
     "execution_count": 21,
     "metadata": {},
     "output_type": "execute_result"
    }
   ],
   "source": [
    "mvn(mean=np.random.rand(2)).pdf(np.random.rand(4,2))"
   ]
  },
  {
   "cell_type": "code",
   "execution_count": 10,
   "metadata": {},
   "outputs": [],
   "source": [
    "a =np.random.rand(3,3)"
   ]
  },
  {
   "cell_type": "code",
   "execution_count": 23,
   "metadata": {},
   "outputs": [],
   "source": [
    "a = a.flatten()"
   ]
  },
  {
   "cell_type": "code",
   "execution_count": 28,
   "metadata": {},
   "outputs": [
    {
     "data": {
      "text/plain": [
       "[0, 1, 2]"
      ]
     },
     "execution_count": 28,
     "metadata": {},
     "output_type": "execute_result"
    }
   ],
   "source": [
    "range(0,3)"
   ]
  },
  {
   "cell_type": "code",
   "execution_count": 30,
   "metadata": {},
   "outputs": [
    {
     "data": {
      "text/plain": [
       "[3, 2, 1]"
      ]
     },
     "execution_count": 30,
     "metadata": {},
     "output_type": "execute_result"
    }
   ],
   "source": [
    "range(3,0,-1)"
   ]
  },
  {
   "cell_type": "code",
   "execution_count": 535,
   "metadata": {},
   "outputs": [],
   "source": [
    "hmm = HMM(D= 2, K=6)"
   ]
  },
  {
   "cell_type": "code",
   "execution_count": 536,
   "metadata": {},
   "outputs": [],
   "source": [
    "hmm.xs = data\n",
    "hmm.M = data.shape[0]\n",
    "hmm.N = data.shape[1]"
   ]
  },
  {
   "cell_type": "code",
   "execution_count": 537,
   "metadata": {},
   "outputs": [],
   "source": [
    "hmm.init_kmeans()"
   ]
  },
  {
   "cell_type": "code",
   "execution_count": 538,
   "metadata": {},
   "outputs": [],
   "source": [
    "hmm.init_HMM()"
   ]
  },
  {
   "cell_type": "code",
   "execution_count": 549,
   "metadata": {},
   "outputs": [],
   "source": [
    "hmm.expectation()\n",
    "\n",
    "hmm.maximization()"
   ]
  },
  {
   "cell_type": "code",
   "execution_count": 534,
   "metadata": {},
   "outputs": [],
   "source": [
    "realmin = np.finfo(np.double).tiny\n",
    "realmax = np.finfo(np.double).max\n",
    "\n",
    "class HMM(GMM):\n",
    "    def __init__(self, D = 1, K = 2,  reg_factor = 1e-6):\n",
    "        self.D = D #number of dimensions\n",
    "        self.K = K #number of mixture components\n",
    "        self.L = -np.inf #total log likelihood\n",
    "        self.weights_ = np.ones(K)/K\n",
    "        self.means_ = np.random.rand(K,D)\n",
    "        self.covariances_ = np.array([np.eye(D) for i in range(K)])\n",
    "        self.reg_factor =  reg_factor \n",
    "\n",
    "    def init_kmeans(self):\n",
    "        x = self.xs.reshape(-1,self.xs.shape[-1])\n",
    "        kMM = KMeans(n_clusters=self.K).fit(x)\n",
    "        self.means_ = kMM.cluster_centers_\n",
    "        for i in range(self.K):\n",
    "            self.covariances_[i] = np.cov(x[kMM.labels_==i].T) + np.eye(self.D)*self.reg_factor\n",
    "        \n",
    "    def init_random(self):\n",
    "        self.means_ = self.x[np.random.choice(len(self.x),size = self.K)]\n",
    "        for i in range(self.K):\n",
    "            self.covariances_[i] = np.cov(self.x.T)\n",
    "        \n",
    "    def init_HMM(self):\n",
    "        self.weights_ = np.ones(self.K)/self.K\n",
    "        self.Trans_ =  np.ones((self.K,self.K))/self.K\n",
    "            \n",
    "    def fit(self,xs, max_iter = 10, init_type = 'kmeans', threshold = 1e-4, n_init = 5):\n",
    "        self.xs = xs\n",
    "        self.M = len(self.xs) #number of samples\n",
    "        self.N = len(self.xs[0]) #number of datapoints\n",
    "\n",
    "        self.threshold = threshold\n",
    "        \n",
    "        best_params = ()\n",
    "        Lmax = -np.inf\n",
    "        for it in range(n_init):\n",
    "            if init_type == 'kmeans':\n",
    "                self.init_kmeans()\n",
    "            elif init_type == 'random':\n",
    "                self.init_random()\n",
    "\n",
    "            init_HMM()\n",
    "            \n",
    "            for i in range(max_iter):\n",
    "                print 'Iteration ' + str(i)\n",
    "                self.expectation()\n",
    "                self.maximization()\n",
    "                print self.L\n",
    "                if np.abs(self.prev_L-self.L) < self.threshold:\n",
    "                    break\n",
    "                    \n",
    "            if self.L > Lmax:\n",
    "                Lmax = self.L\n",
    "                best_params = (self.L, self.weights_.copy(), self.means_.copy(), self.covariances_.copy())\n",
    "            \n",
    "        #return the best result\n",
    "        self.L = Lmax\n",
    "        self.weights_ = best_params[1]\n",
    "        self.means_ = best_params[2]\n",
    "        self.covariances_ = best_params[3]\n",
    "        print 'Obtain best result with Log Likelihood: ' + str(self.L)\n",
    "        \n",
    "    def expectation(self):\n",
    "        self.alphas = np.zeros((self.M, self.N,self.K)) \n",
    "        self.betas = np.zeros((self.M, self.N,self.K))\n",
    "        self.gammas = np.zeros((self.M, self.N,self.K))\n",
    "        self.zetas = np.zeros((self.M, self.N,self.K, self.K))\n",
    "        self.Bs = np.zeros((self.M,self.N,self.K))\n",
    "        self.L = np.zeros(self.M)\n",
    "        self.cs = np.zeros((self.M, self.N))\n",
    "        \n",
    "        for m in range(self.M):\n",
    "            #compute emission probabilities\n",
    "            \n",
    "            for k in range(self.K):\n",
    "                self.Bs[m][:,k] = mvn(mean=self.means_[k], cov=self.covariances_[k]).pdf(self.xs[m])\n",
    "            \n",
    "            #compute alpha\n",
    "            self.alphas[m][0,:] = self.weights_ * self.Bs[m][0,:]\n",
    "            self.cs[m][0] = 1./(np.sum(self.alphas[m][0])+realmin)\n",
    "            self.alphas[m][0] *= self.cs[m][0]\n",
    "            for n in range(1,self.N):\n",
    "                self.alphas[m][n,:] = self.Bs[m][n,:]*np.dot(self.alphas[m][n-1,:], self.Trans_)\n",
    "                self.cs[m][n] = 1./(np.sum(self.alphas[m][n])+realmin)\n",
    "                self.alphas[m][n] *= self.cs[m][n]\n",
    "                \n",
    "                \n",
    "            #compute beta\n",
    "            self.betas[m][-1,:] = np.ones(self.K)*self.cs[m][-1]\n",
    "            for n in range(self.N-1,0,-1):\n",
    "                self.betas[m][n-1,:] = np.dot(self.betas[m][n,:]*self.Bs[m][n,:], self.Trans_.T)\n",
    "                self.betas[m][n-1,:] = (self.betas[m][n-1,:]*self.cs[m][n-1])\n",
    "                \n",
    "                \n",
    "            #compute likelihood\n",
    "            self.L[m] = np.sum(self.alphas[m][-1,:])\n",
    "            \n",
    "            \n",
    "            #compute gamma\n",
    "            for n in range(self.N):\n",
    "                self.gammas[m][n,:] = self.alphas[m][n,:]*self.betas[m][n,:]/self.L[m]\n",
    "\n",
    "            #compute zeta\n",
    "            for n in range(self.N-1):\n",
    "                for k in range(self.K):\n",
    "                    self.zetas[m][n][k,:] = self.alphas[m][n,k]*np.dot(self.Bs[m][n+1,:]*self.betas[m][n+1,:], self.Trans_.T)/self.L[m]\n",
    "\n",
    "                \n",
    "        \n",
    "               \n",
    "        '''\n",
    "        self.prev_L = self.L\n",
    "        self.L = np.sum(np.log(np.sum(self.Ls, axis=1)))/self.N\n",
    "        self.Ns = np.sum(self.zs,axis=0)'''\n",
    "             \n",
    "    def maximization(self):\n",
    "        x_mat = self.xs.reshape(-1,self.xs.shape[-1])\n",
    "        gamma_mat = self.gammas.reshape(-1,self.gammas.shape[-1])\n",
    "        zeta_mat = self.zetas.reshape(-1,self.zetas.shape[-2], self.zetas.shape[-1])\n",
    "        self.x_mat = x_mat\n",
    "        self.gamma_mat = gamma_mat\n",
    "        self.zeta_mat = zeta_mat\n",
    "        \n",
    "        for k in range(self.K):\n",
    "            #update weights\n",
    "            self.weights_[k] =  np.mean(self.gammas[:,0,k]/np.sum(self.gammas[:,0,:],axis=1)) \n",
    "\n",
    "            means_k = np.zeros(self.D)\n",
    "            sigma_k = np.zeros((self.D,self.D))\n",
    "            \n",
    "            #self.means_[k,:] \n",
    "            #self.covariances_[k,:]         \n",
    "            \n",
    "            for m in range(self.M):\n",
    "                #update mean\n",
    "                means_k += np.dot(self.gammas[m][:,k].T, self.xs[m])\n",
    "\n",
    "                #update covariance\n",
    "                x_reduce_mean = self.xs[m]-self.means_[k,:]\n",
    "                sigma_k += dot(np.multiply(x_reduce_mean.T, self.gammas[m][:,k][None,:]), x_reduce_mean) \n",
    "            \n",
    "            self.means_[k,:] = means_k / np.sum(self.gammas[:,:,k])\n",
    "            self.covariances_[k,:] = sigma_k/np.sum(self.gammas[:,:,k])        + np.eye(self.D)*self.reg_factor\n",
    "        \n",
    "        self.Trans_ = np.sum(zeta_mat,axis=0)\n",
    "        for k in range(self.K):\n",
    "            self.Trans_[k,:] /= np.sum(self.Trans_[k,:])\n",
    "        #/np.sum(zeta_mat,axis=(0,2))[:,None]\n",
    "        \n",
    "    def plot(self):\n",
    "        fig,ax = plt.subplots()\n",
    "        plot_GMM(self.means_, self.covariances_, ax)\n",
    "        "
   ]
  },
  {
   "cell_type": "code",
   "execution_count": 478,
   "metadata": {},
   "outputs": [
    {
     "data": {
      "text/plain": [
       "array([[0.     , 0.     , 0.     , 0.     , 0.13335, 0.     ],\n",
       "       [0.     , 0.     , 0.     , 0.     , 0.13334, 0.     ],\n",
       "       [0.     , 0.     , 0.     , 0.     , 0.1334 , 0.     ],\n",
       "       ...,\n",
       "       [0.69932, 0.     , 0.     , 0.     , 0.     , 0.     ],\n",
       "       [0.69932, 0.     , 0.     , 0.     , 0.     , 0.     ],\n",
       "       [0.69932, 0.     , 0.     , 0.     , 0.     , 0.     ]])"
      ]
     },
     "execution_count": 478,
     "metadata": {},
     "output_type": "execute_result"
    }
   ],
   "source": [
    "hmm.Bs[0]"
   ]
  },
  {
   "cell_type": "code",
   "execution_count": 451,
   "metadata": {},
   "outputs": [
    {
     "data": {
      "text/plain": [
       "array([0., 0., 0., 0., 0., 0.])"
      ]
     },
     "execution_count": 451,
     "metadata": {},
     "output_type": "execute_result"
    }
   ],
   "source": [
    "m=0\n",
    "n=0\n",
    "k=0\n",
    "\n",
    "hmm.alphas[m][n,k]*np.dot(hmm.Bs[m][n+1,:]*hmm.betas[m][n+1,:], hmm.Trans_.T)"
   ]
  },
  {
   "cell_type": "code",
   "execution_count": 475,
   "metadata": {},
   "outputs": [],
   "source": [
    "np.set_printoptions(precision=5,suppress=True)"
   ]
  },
  {
   "cell_type": "code",
   "execution_count": 533,
   "metadata": {},
   "outputs": [
    {
     "data": {
      "text/plain": [
       "array([[0.16667, 0.16667, 0.16667, 0.16667, 0.16667, 0.16667],\n",
       "       [0.16667, 0.16667, 0.16667, 0.16667, 0.16667, 0.16667],\n",
       "       [0.16667, 0.16667, 0.16667, 0.16667, 0.16667, 0.16667],\n",
       "       [0.16667, 0.16667, 0.16667, 0.16667, 0.16667, 0.16667],\n",
       "       [0.16667, 0.16667, 0.16667, 0.16667, 0.16667, 0.16667],\n",
       "       [0.16667, 0.16667, 0.16667, 0.16667, 0.16667, 0.16667]])"
      ]
     },
     "execution_count": 533,
     "metadata": {},
     "output_type": "execute_result"
    }
   ],
   "source": [
    "hmm.Trans_"
   ]
  },
  {
   "cell_type": "code",
   "execution_count": 476,
   "metadata": {},
   "outputs": [
    {
     "name": "stdout",
     "output_type": "stream",
     "text": [
      "[[0.      0.      0.      0.      5.24405 0.     ]\n",
      " [0.      0.      0.      0.      5.24464 0.     ]\n",
      " [0.      0.      0.      0.      5.2421  0.     ]\n",
      " ...\n",
      " [1.      0.      0.      0.      0.      0.     ]\n",
      " [1.      0.      0.      0.      0.      0.     ]\n",
      " [1.      0.      0.      0.      0.      0.     ]]\n"
     ]
    }
   ],
   "source": [
    "print hmm.gammas[0]"
   ]
  },
  {
   "cell_type": "code",
   "execution_count": 340,
   "metadata": {},
   "outputs": [
    {
     "data": {
      "text/plain": [
       "array([58.7572534 , 17.45321778, 18.91098627, 16.47489012, 22.177641  ,\n",
       "       11.95162272])"
      ]
     },
     "execution_count": 340,
     "metadata": {},
     "output_type": "execute_result"
    }
   ],
   "source": [
    "np.sum(hmm.zeta_mat,axis=(0,2))"
   ]
  },
  {
   "cell_type": "code",
   "execution_count": 342,
   "metadata": {},
   "outputs": [
    {
     "name": "stdout",
     "output_type": "stream",
     "text": [
      "[[ 3.91572705  7.76142871 11.02780316  7.90256166 17.70676448 10.44296834]\n",
      " [ 1.16312511  2.30544993  3.27569175  2.34737197  5.25960624  3.10197278]\n",
      " [ 1.26027437  2.49801111  3.54929174  2.54343466  5.69891138  3.36106301]\n",
      " [ 1.09792697  2.17621958  3.09207519  2.21579171  4.96478277  2.92809391]\n",
      " [ 1.47797223  2.92951371  4.16239094  2.98278366  6.68333258  3.94164787]\n",
      " [ 0.79648536  1.57872709  2.24312974  1.60743449  3.60167565  2.12417039]]\n"
     ]
    }
   ],
   "source": [
    "a = np.sum(hmm.zeta_mat,axis=0)\n",
    "print a"
   ]
  },
  {
   "cell_type": "code",
   "execution_count": 412,
   "metadata": {},
   "outputs": [],
   "source": [
    "b = np.sum(a,axis=1)[:,None]"
   ]
  },
  {
   "cell_type": "code",
   "execution_count": 413,
   "metadata": {},
   "outputs": [
    {
     "name": "stdout",
     "output_type": "stream",
     "text": [
      "[[58.7572534 ]\n",
      " [17.45321778]\n",
      " [18.91098627]\n",
      " [16.47489012]\n",
      " [22.177641  ]\n",
      " [11.95162272]]\n"
     ]
    }
   ],
   "source": [
    "print b"
   ]
  },
  {
   "cell_type": "code",
   "execution_count": 414,
   "metadata": {},
   "outputs": [
    {
     "name": "stdout",
     "output_type": "stream",
     "text": [
      "[[0.06664245 0.13209312 0.18768412 0.13449508 0.30135453 0.17773071]\n",
      " [0.06664245 0.13209312 0.18768412 0.13449508 0.30135453 0.17773071]\n",
      " [0.06664245 0.13209312 0.18768412 0.13449508 0.30135453 0.17773071]\n",
      " [0.06664245 0.13209312 0.18768412 0.13449508 0.30135453 0.17773071]\n",
      " [0.06664245 0.13209312 0.18768412 0.13449508 0.30135453 0.17773071]\n",
      " [0.06664245 0.13209312 0.18768412 0.13449508 0.30135453 0.17773071]]\n"
     ]
    }
   ],
   "source": [
    "print a/b"
   ]
  },
  {
   "cell_type": "code",
   "execution_count": 401,
   "metadata": {},
   "outputs": [
    {
     "name": "stdout",
     "output_type": "stream",
     "text": [
      "0.4032047138391984\n"
     ]
    }
   ],
   "source": [
    "print c[1]/b[1]"
   ]
  },
  {
   "cell_type": "code",
   "execution_count": 367,
   "metadata": {},
   "outputs": [
    {
     "name": "stdout",
     "output_type": "stream",
     "text": [
      "[[0.06664245 0.13209312 0.18768412 0.13449508 0.30135453 0.17773071]\n",
      " [0.06664245 0.13209312 0.18768412 0.13449508 0.30135453 0.17773071]\n",
      " [0.06664245 0.13209312 0.18768412 0.13449508 0.30135453 0.17773071]\n",
      " [0.06664245 0.13209312 0.18768412 0.13449508 0.30135453 0.17773071]\n",
      " [0.06664245 0.13209312 0.18768412 0.13449508 0.30135453 0.17773071]\n",
      " [0.06664245 0.13209312 0.18768412 0.13449508 0.30135453 0.17773071]]\n"
     ]
    }
   ],
   "source": [
    "print np.divide(a,b)"
   ]
  },
  {
   "cell_type": "code",
   "execution_count": 368,
   "metadata": {},
   "outputs": [
    {
     "name": "stdout",
     "output_type": "stream",
     "text": [
      "[[0.06664245 0.13209312 0.18768412 0.13449508 0.30135453 0.17773071]\n",
      " [0.06664245 0.13209312 0.18768412 0.13449508 0.30135453 0.17773071]\n",
      " [0.06664245 0.13209312 0.18768412 0.13449508 0.30135453 0.17773071]\n",
      " [0.06664245 0.13209312 0.18768412 0.13449508 0.30135453 0.17773071]\n",
      " [0.06664245 0.13209312 0.18768412 0.13449508 0.30135453 0.17773071]\n",
      " [0.06664245 0.13209312 0.18768412 0.13449508 0.30135453 0.17773071]]\n"
     ]
    }
   ],
   "source": [
    "print a/b"
   ]
  },
  {
   "cell_type": "code",
   "execution_count": null,
   "metadata": {},
   "outputs": [],
   "source": []
  }
 ],
 "metadata": {
  "kernelspec": {
   "display_name": "Python 2",
   "language": "python",
   "name": "python2"
  },
  "language_info": {
   "codemirror_mode": {
    "name": "ipython",
    "version": 2
   },
   "file_extension": ".py",
   "mimetype": "text/x-python",
   "name": "python",
   "nbconvert_exporter": "python",
   "pygments_lexer": "ipython2",
   "version": "2.7.12"
  }
 },
 "nbformat": 4,
 "nbformat_minor": 2
}

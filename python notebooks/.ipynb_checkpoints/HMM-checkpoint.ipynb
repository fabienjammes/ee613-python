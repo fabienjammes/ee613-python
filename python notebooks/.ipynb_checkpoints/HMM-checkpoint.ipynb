{
 "cells": [
  {
   "cell_type": "code",
   "execution_count": 1,
   "metadata": {},
   "outputs": [
    {
     "name": "stderr",
     "output_type": "stream",
     "text": [
      "/home/teguh/.local/lib/python2.7/site-packages/sklearn/utils/__init__.py:9: RuntimeWarning: numpy.dtype size changed, may indicate binary incompatibility. Expected 96, got 88\n",
      "  from .murmurhash import murmurhash3_32\n",
      "/home/teguh/.local/lib/python2.7/site-packages/sklearn/utils/extmath.py:24: RuntimeWarning: numpy.dtype size changed, may indicate binary incompatibility. Expected 96, got 88\n",
      "  from ._logistic_sigmoid import _log_logistic_sigmoid\n",
      "/home/teguh/.local/lib/python2.7/site-packages/sklearn/utils/extmath.py:26: RuntimeWarning: numpy.dtype size changed, may indicate binary incompatibility. Expected 96, got 88\n",
      "  from .sparsefuncs_fast import csr_row_norms\n",
      "/home/teguh/.local/lib/python2.7/site-packages/sklearn/metrics/cluster/supervised.py:23: RuntimeWarning: numpy.dtype size changed, may indicate binary incompatibility. Expected 96, got 88\n",
      "  from .expected_mutual_info_fast import expected_mutual_information\n",
      "/home/teguh/.local/lib/python2.7/site-packages/sklearn/metrics/pairwise.py:30: RuntimeWarning: numpy.dtype size changed, may indicate binary incompatibility. Expected 96, got 88\n",
      "  from .pairwise_fast import _chi2_kernel_fast, _sparse_manhattan\n",
      "/home/teguh/.local/lib/python2.7/site-packages/sklearn/neighbors/__init__.py:6: RuntimeWarning: numpy.dtype size changed, may indicate binary incompatibility. Expected 96, got 88\n",
      "  from .ball_tree import BallTree\n",
      "/home/teguh/.local/lib/python2.7/site-packages/sklearn/neighbors/__init__.py:7: RuntimeWarning: numpy.dtype size changed, may indicate binary incompatibility. Expected 96, got 88\n",
      "  from .kd_tree import KDTree\n",
      "/home/teguh/.local/lib/python2.7/site-packages/sklearn/utils/random.py:10: RuntimeWarning: numpy.dtype size changed, may indicate binary incompatibility. Expected 96, got 88\n",
      "  from ._random import sample_without_replacement\n",
      "/home/teguh/.local/lib/python2.7/site-packages/sklearn/utils/graph.py:15: RuntimeWarning: numpy.dtype size changed, may indicate binary incompatibility. Expected 96, got 88\n",
      "  from .graph_shortest_path import graph_shortest_path  # noqa\n",
      "/home/teguh/.local/lib/python2.7/site-packages/sklearn/linear_model/base.py:35: RuntimeWarning: numpy.dtype size changed, may indicate binary incompatibility. Expected 96, got 88\n",
      "  from ..utils.seq_dataset import ArrayDataset, CSRDataset\n",
      "/home/teguh/.local/lib/python2.7/site-packages/sklearn/linear_model/least_angle.py:23: RuntimeWarning: numpy.dtype size changed, may indicate binary incompatibility. Expected 96, got 88\n",
      "  from ..utils import arrayfuncs, as_float_array, check_X_y, deprecated\n",
      "/home/teguh/.local/lib/python2.7/site-packages/sklearn/linear_model/coordinate_descent.py:29: RuntimeWarning: numpy.dtype size changed, may indicate binary incompatibility. Expected 96, got 88\n",
      "  from . import cd_fast\n",
      "/home/teguh/.local/lib/python2.7/site-packages/sklearn/linear_model/__init__.py:22: RuntimeWarning: numpy.dtype size changed, may indicate binary incompatibility. Expected 96, got 88\n",
      "  from .sgd_fast import Hinge, Log, ModifiedHuber, SquaredLoss, Huber\n",
      "/home/teguh/.local/lib/python2.7/site-packages/sklearn/linear_model/sag.py:12: RuntimeWarning: numpy.dtype size changed, may indicate binary incompatibility. Expected 96, got 88\n",
      "  from .sag_fast import sag\n",
      "/home/teguh/.local/lib/python2.7/site-packages/sklearn/svm/base.py:8: RuntimeWarning: numpy.dtype size changed, may indicate binary incompatibility. Expected 96, got 88\n",
      "  from . import libsvm, liblinear\n",
      "/home/teguh/.local/lib/python2.7/site-packages/sklearn/svm/base.py:9: RuntimeWarning: numpy.dtype size changed, may indicate binary incompatibility. Expected 96, got 88\n",
      "  from . import libsvm_sparse\n",
      "/home/teguh/.local/lib/python2.7/site-packages/sklearn/decomposition/online_lda.py:28: RuntimeWarning: numpy.dtype size changed, may indicate binary incompatibility. Expected 96, got 88\n",
      "  from ._online_lda import (mean_change, _dirichlet_expectation_1d,\n",
      "/home/teguh/.local/lib/python2.7/site-packages/sklearn/isotonic.py:12: RuntimeWarning: numpy.dtype size changed, may indicate binary incompatibility. Expected 96, got 88\n",
      "  from ._isotonic import _inplace_contiguous_isotonic_regression, _make_unique\n",
      "/home/teguh/.local/lib/python2.7/site-packages/sklearn/manifold/t_sne.py:24: RuntimeWarning: numpy.dtype size changed, may indicate binary incompatibility. Expected 96, got 88\n",
      "  from . import _utils\n",
      "/home/teguh/.local/lib/python2.7/site-packages/sklearn/manifold/t_sne.py:25: RuntimeWarning: numpy.dtype size changed, may indicate binary incompatibility. Expected 96, got 88\n",
      "  from . import _barnes_hut_tsne\n",
      "/home/teguh/.local/lib/python2.7/site-packages/sklearn/tree/tree.py:40: RuntimeWarning: numpy.dtype size changed, may indicate binary incompatibility. Expected 96, got 88\n",
      "  from ._criterion import Criterion\n",
      "/home/teguh/.local/lib/python2.7/site-packages/sklearn/cluster/k_means_.py:35: RuntimeWarning: numpy.dtype size changed, may indicate binary incompatibility. Expected 96, got 88\n",
      "  from . import _k_means\n",
      "/home/teguh/.local/lib/python2.7/site-packages/sklearn/cluster/k_means_.py:36: RuntimeWarning: numpy.dtype size changed, may indicate binary incompatibility. Expected 96, got 88\n",
      "  from ._k_means_elkan import k_means_elkan\n",
      "/home/teguh/.local/lib/python2.7/site-packages/sklearn/cluster/hierarchical.py:23: RuntimeWarning: numpy.dtype size changed, may indicate binary incompatibility. Expected 96, got 88\n",
      "  from . import _hierarchical\n",
      "/home/teguh/.local/lib/python2.7/site-packages/sklearn/cluster/dbscan_.py:19: RuntimeWarning: numpy.dtype size changed, may indicate binary incompatibility. Expected 96, got 88\n",
      "  from ._dbscan_inner import dbscan_inner\n"
     ]
    }
   ],
   "source": [
    "import numpy as np\n",
    "import matplotlib.pyplot as plt\n",
    "from IPython.display import clear_output\n",
    "from utils import *\n",
    "\n",
    "%load_ext autoreload\n",
    "%autoreload 2"
   ]
  },
  {
   "cell_type": "markdown",
   "metadata": {},
   "source": [
    "#### Declare Variables "
   ]
  },
  {
   "cell_type": "code",
   "execution_count": 2,
   "metadata": {},
   "outputs": [],
   "source": [
    "n_states = 5 #number of states in the GMM\n",
    "n_in = 1 #Number of variables for the radial basis function [s] (decay term)\n",
    "n_out = 2 # Number of motion variables [xi,x2]\n",
    "\n",
    "n_data = 200 #length of trajectory\n",
    "n_samples = 5 #number of demonstrations"
   ]
  },
  {
   "cell_type": "markdown",
   "metadata": {},
   "source": [
    "#### Load Data "
   ]
  },
  {
   "cell_type": "code",
   "execution_count": 111,
   "metadata": {},
   "outputs": [
    {
     "data": {
      "text/plain": [
       "[<matplotlib.lines.Line2D at 0x7fd543d8ff10>]"
      ]
     },
     "execution_count": 111,
     "metadata": {},
     "output_type": "execute_result"
    },
    {
     "data": {
      "image/png": "[encoded data removed]",
      "text/plain": [
       "<Figure size 432x288 with 1 Axes>"
      ]
     },
     "metadata": {
      "needs_background": "light"
     },
     "output_type": "display_data"
    }
   ],
   "source": [
    "ROOT = 'python_data/2Dletters/'\n",
    "data = np.load(ROOT + 'G.npy')[:n_samples]\n",
    "\n",
    "#construct the output Y by concatenating all demonstrations\n",
    "data = data.transpose([0,2,1])\n",
    "Y = np.concatenate(data,axis=0)\n",
    "\n",
    "plt.plot(Y[:,0], Y[:,1],'.b')"
   ]
  },
  {
   "cell_type": "code",
   "execution_count": 112,
   "metadata": {},
   "outputs": [],
   "source": [
    "from scipy.stats import multivariate_normal as mvn"
   ]
  },
  {
   "cell_type": "code",
   "execution_count": 113,
   "metadata": {},
   "outputs": [],
   "source": [
    "import numpy as np"
   ]
  },
  {
   "cell_type": "code",
   "execution_count": 325,
   "metadata": {},
   "outputs": [],
   "source": [
    "hmm = HMM(D= 2, K=6)"
   ]
  },
  {
   "cell_type": "code",
   "execution_count": 326,
   "metadata": {},
   "outputs": [
    {
     "name": "stdout",
     "output_type": "stream",
     "text": [
      "Iteration 0\n",
      "-888.0222967620678\n",
      "Iteration 1\n",
      "-569.0987938520852\n",
      "Iteration 2\n",
      "-545.5535645153865\n",
      "Iteration 3\n",
      "-543.0466895994443\n",
      "Iteration 4\n",
      "-542.2748070724732\n",
      "Iteration 5\n",
      "-541.6546837680733\n",
      "Iteration 6\n",
      "-541.095990289668\n",
      "Iteration 7\n",
      "-540.5797786401105\n",
      "Iteration 8\n",
      "-540.087417602818\n",
      "Iteration 9\n",
      "-539.5462161240171\n",
      "Iteration 10\n",
      "-538.8213018268992\n",
      "Iteration 11\n",
      "-538.0902932026702\n",
      "Iteration 12\n",
      "-537.5740309556603\n",
      "Iteration 13\n",
      "-537.2090161969629\n",
      "Iteration 14\n",
      "-536.9398934320275\n",
      "Iteration 15\n",
      "-536.7357094931091\n",
      "Iteration 16\n",
      "-536.5761744854519\n",
      "Iteration 17\n",
      "-536.4475081343737\n",
      "Iteration 18\n",
      "-536.3405910542303\n",
      "Iteration 19\n",
      "-536.2494897699006\n",
      "Iteration 20\n",
      "-536.1703243931061\n",
      "Iteration 21\n",
      "-536.1004984424499\n",
      "Iteration 22\n",
      "-536.0382107561779\n",
      "Iteration 23\n",
      "-535.9821579778745\n",
      "Iteration 24\n",
      "-535.9313569199848\n",
      "Iteration 25\n",
      "-535.8850388661722\n",
      "Iteration 26\n",
      "-535.8425858260877\n",
      "Iteration 27\n",
      "-535.8034910982988\n",
      "Iteration 28\n",
      "-535.7673340332784\n",
      "Iteration 29\n",
      "-535.7337631323471\n",
      "Iteration 30\n",
      "-535.7024840011093\n",
      "Iteration 31\n",
      "-535.6732501090655\n",
      "Iteration 32\n",
      "-535.6458552234672\n",
      "Iteration 33\n",
      "-535.620126959751\n",
      "Iteration 34\n",
      "-535.5959212108094\n",
      "Iteration 35\n",
      "-535.5731173566946\n",
      "Iteration 36\n",
      "-535.551614187318\n",
      "Iteration 37\n",
      "-535.5313264550217\n",
      "Iteration 38\n",
      "-535.5121819542219\n",
      "Iteration 39\n",
      "-535.4941190225642\n",
      "Iteration 40\n",
      "-535.4770843752838\n",
      "Iteration 41\n",
      "-535.4610312139321\n",
      "Iteration 42\n",
      "-535.4459175811828\n",
      "Iteration 43\n",
      "-535.4317049559783\n",
      "Iteration 44\n",
      "-535.4183570934961\n",
      "Iteration 45\n",
      "-535.4058391128731\n",
      "Iteration 46\n",
      "-535.3941168261358\n",
      "Iteration 47\n",
      "-535.38315628943\n",
      "Iteration 48\n",
      "-535.3729235467429\n",
      "Iteration 49\n",
      "-535.363384529562\n",
      "Obtain best result with Log Likelihood: -535.363384529562\n"
     ]
    }
   ],
   "source": [
    "hmm.fit(data,init_type='kbins',n_init = 1,max_iter=50)"
   ]
  },
  {
   "cell_type": "code",
   "execution_count": 328,
   "metadata": {},
   "outputs": [
    {
     "name": "stderr",
     "output_type": "stream",
     "text": [
      "/home/teguh/.local/lib/python2.7/site-packages/ipykernel_launcher.py:175: RuntimeWarning: divide by zero encountered in log\n",
      "/home/teguh/.local/lib/python2.7/site-packages/ipykernel_launcher.py:177: RuntimeWarning: divide by zero encountered in log\n"
     ]
    }
   ],
   "source": [
    "opt_seq = hmm.viterbi(hmm.xs[0])"
   ]
  },
  {
   "cell_type": "code",
   "execution_count": 324,
   "metadata": {},
   "outputs": [],
   "source": [
    "realmin = np.finfo(np.double).tiny\n",
    "realmax = np.finfo(np.double).max\n",
    "\n",
    "class HMM(GMM):\n",
    "    def __init__(self, D = 1, K = 2,  reg_factor = 1e-6):\n",
    "        self.D = D #number of dimensions\n",
    "        self.K = K #number of mixture components\n",
    "        self.L = -np.inf #total log likelihood\n",
    "        self.weights_ = np.ones(K)/K\n",
    "        self.means_ = np.random.rand(K,D)\n",
    "        self.covariances_ = np.array([np.eye(D) for i in range(K)])\n",
    "        self.reg_factor =  reg_factor \n",
    "\n",
    "    def init_kmeans(self):\n",
    "        x = self.xs.reshape(-1,self.xs.shape[-1])\n",
    "        kMM = KMeans(n_clusters=self.K).fit(x)\n",
    "        self.means_ = kMM.cluster_centers_\n",
    "        for i in range(self.K):\n",
    "            self.covariances_[i] = np.cov(x[kMM.labels_==i].T) + np.eye(self.D)*self.reg_factor\n",
    "        \n",
    "    def init_random(self):\n",
    "        self.means_ = self.x[np.random.choice(len(self.x),size = self.K)]\n",
    "        for i in range(self.K):\n",
    "            self.covariances_[i] = np.cov(self.x.T)\n",
    "            \n",
    "    def init_kbins(self):\n",
    "        x = self.xs.reshape(-1,self.xs.shape[-1])\n",
    "        tsep = np.linspace(0,self.N, self.K+1).astype(int)\n",
    "        idx = []\n",
    "        for k in range(self.K):\n",
    "            idx.append(np.concatenate([m*self.N + np.arange(tsep[k],tsep[k+1]) for m in range(self.M)]))\n",
    "            self.means_[k] = np.mean(x[idx[k]],axis=0)\n",
    "            self.covariances_[k] = np.cov(x[idx[k]].T) + np.eye(self.D)*self.reg_factor\n",
    "        \n",
    "    def init_HMM(self):\n",
    "        self.weights_ = np.ones(self.K)/self.K\n",
    "        self.Trans_ =  np.ones((self.K,self.K))/self.K\n",
    "            \n",
    "    def fit(self,xs, max_iter = 10, init_type = 'kmeans', threshold = 1e-6, n_init = 5):\n",
    "        self.xs = xs\n",
    "        self.M = len(self.xs) #number of samples\n",
    "        self.N = len(self.xs[0]) #number of datapoints\n",
    "\n",
    "        self.threshold = threshold\n",
    "        \n",
    "        best_params = ()\n",
    "        Lmax = -np.inf\n",
    "        for it in range(n_init):\n",
    "            if init_type == 'kmeans':\n",
    "                self.init_kmeans()\n",
    "            elif init_type == 'random':\n",
    "                self.init_random()\n",
    "            elif init_type == 'kbins':\n",
    "                self.init_kbins()\n",
    "                \n",
    "\n",
    "            self.init_HMM()\n",
    "            \n",
    "            for i in range(max_iter):\n",
    "                print 'Iteration ' + str(i)\n",
    "                self.expectation()\n",
    "                self.maximization()\n",
    "                print self.L\n",
    "                if np.abs(self.prev_L-self.L) < self.threshold:\n",
    "                    break\n",
    "                    \n",
    "            if self.L > Lmax:\n",
    "                Lmax = self.L\n",
    "                best_params = (self.L, self.weights_.copy(), self.means_.copy(), self.covariances_.copy())\n",
    "            \n",
    "        #return the best result\n",
    "        self.L = Lmax\n",
    "        self.weights_ = best_params[1]\n",
    "        self.means_ = best_params[2]\n",
    "        self.covariances_ = best_params[3]\n",
    "        print 'Obtain best result with Log Likelihood: ' + str(self.L)\n",
    "        \n",
    "    def expectation(self):\n",
    "        self.prev_L = self.L\n",
    "\n",
    "        self.alphas = np.zeros((self.M, self.N,self.K)) \n",
    "        self.betas = np.zeros((self.M, self.N,self.K))\n",
    "        self.gammas = np.zeros((self.M, self.N,self.K))\n",
    "        self.zetas = np.zeros((self.M, self.N,self.K, self.K))\n",
    "        self.Bs = np.zeros((self.M,self.N,self.K))\n",
    "        self.L = np.zeros(self.M)\n",
    "        self.cs = np.zeros((self.M, self.N))\n",
    "        \n",
    "        for m in range(self.M):\n",
    "            #compute emission probabilities\n",
    "            \n",
    "            for k in range(self.K):\n",
    "                self.Bs[m][:,k] = mvn(mean=self.means_[k], cov=self.covariances_[k]).pdf(self.xs[m])\n",
    "            \n",
    "            #compute alpha\n",
    "            self.alphas[m][0,:] = self.weights_ * self.Bs[m][0,:]\n",
    "            self.cs[m][0] = 1./(np.sum(self.alphas[m][0])+realmin)\n",
    "            self.alphas[m][0] *= self.cs[m][0]\n",
    "            for n in range(1,self.N):\n",
    "                self.alphas[m][n,:] = self.Bs[m][n,:]*np.dot(self.alphas[m][n-1,:], self.Trans_)\n",
    "                self.cs[m][n] = 1./(np.sum(self.alphas[m][n])+realmin)\n",
    "                self.alphas[m][n] *= self.cs[m][n]\n",
    "                \n",
    "                \n",
    "            #compute beta\n",
    "            self.betas[m][-1,:] = np.ones(self.K)*self.cs[m][-1]\n",
    "            for n in range(self.N-1,0,-1):\n",
    "                self.betas[m][n-1,:] = np.dot(self.betas[m][n,:]*self.Bs[m][n,:], self.Trans_.T)\n",
    "                self.betas[m][n-1,:] = (self.betas[m][n-1,:]*self.cs[m][n-1])\n",
    "                \n",
    "                \n",
    "            #compute likelihood\n",
    "            #self.L[m] = np.sum(self.alphas[m][-1,:])\n",
    "            #self.L[m] = np.sum(self.alphas[m][self.N/2,:]*self.betas[m][self.N/2,:])\n",
    "            self.L[m] = -np.sum(np.log(self.cs[m]))\n",
    "            \n",
    "            #compute gamma\n",
    "            for n in range(self.N):\n",
    "                #self.gammas[m][n,:] = self.alphas[m][n,:]*self.betas[m][n,:]/self.L[m]\n",
    "                self.gammas[m][n,:] = self.alphas[m][n,:]*self.betas[m][n,:]/np.sum(self.alphas[m][n,:]*self.betas[m][n,:])\n",
    "\n",
    "            #compute zeta\n",
    "            for n in range(self.N-1):\n",
    "                for k in range(self.K):\n",
    "                    self.zetas[m][n][k,:] = self.alphas[m][n,k]*self.Bs[m][n+1,:]*self.betas[m][n+1,:]*self.Trans_[k,:]\n",
    "\n",
    "                       \n",
    "        self.L = np.mean(self.L)\n",
    "             \n",
    "    def maximization(self):\n",
    "        x_mat = self.xs.reshape(-1,self.xs.shape[-1])\n",
    "        gamma_mat = self.gammas.reshape(-1,self.gammas.shape[-1])\n",
    "        zeta_mat = self.zetas.reshape(-1,self.zetas.shape[-2], self.zetas.shape[-1])\n",
    "        self.x_mat = x_mat\n",
    "        self.gamma_mat = gamma_mat\n",
    "        self.zeta_mat = zeta_mat\n",
    "        \n",
    "        for k in range(self.K):\n",
    "            #update weights\n",
    "            self.weights_[k] =  np.mean(self.gammas[:,0,k]/np.sum(self.gammas[:,0,:],axis=1)) \n",
    "\n",
    "            means_k = np.zeros(self.D)\n",
    "            sigma_k = np.zeros((self.D,self.D))\n",
    "            \n",
    "            #self.means_[k,:] \n",
    "            #self.covariances_[k,:]         \n",
    "            \n",
    "            for m in range(self.M):\n",
    "                #update mean\n",
    "                means_k += np.dot(self.gammas[m][:,k].T, self.xs[m])\n",
    "\n",
    "                #update covariance\n",
    "                x_reduce_mean = self.xs[m]-self.means_[k,:]\n",
    "                sigma_k += dot(np.multiply(x_reduce_mean.T, self.gammas[m][:,k][None,:]), x_reduce_mean) \n",
    "            \n",
    "            self.means_[k,:] = means_k / np.sum(self.gammas[:,:,k])\n",
    "            self.covariances_[k,:] = sigma_k/np.sum(self.gammas[:,:,k])        + np.eye(self.D)*self.reg_factor\n",
    "        \n",
    "        self.Trans_ = np.sum(zeta_mat,axis=0)\n",
    "        for k in range(self.K):\n",
    "            self.Trans_[k,:] /= np.sum(self.Trans_[k,:])\n",
    "        #/np.sum(zeta_mat,axis=(0,2))[:,None]\n",
    "        \n",
    "    def viterbi(self,x):\n",
    "        self.delta = np.zeros((x.shape[0],self.K))\n",
    "        self.psi = np.zeros((x.shape[0]-1,self.K))\n",
    "        self.B = np.zeros((x.shape[0],self.K))\n",
    "        \n",
    "        self.opt_seq = np.zeros(x.shape[0]).astype(int)\n",
    "        #compute emmision probabilities\n",
    "        for k in range(self.K):\n",
    "            self.B[:,k] = mvn(mean=self.means_[k], cov=self.covariances_[k]).logpdf(x)\n",
    "\n",
    "        #initialise at n=0\n",
    "        self.delta[0,:] = np.log(self.weights_) + self.B[0,:]\n",
    "        for n in range(1,x.shape[0]):\n",
    "            temp_vals = np.log(self.Trans_) + self.delta[n-1,:][:,None]\n",
    "            self.delta[n,:] = self.B[n,:] + np.max(temp_vals, axis=0)\n",
    "            self.psi[n-1,:] = np.argmax(temp_vals,axis=0)\n",
    "        \n",
    "        #find the optimal sequence\n",
    "        self.opt_seq[-1] = np.argmax(self.delta[-1,:])\n",
    "        for n in range(x.shape[0]-1, 0, -1):\n",
    "            self.opt_seq[n-1] = self.psi[n-1,self.opt_seq[n]]\n",
    "        return self.opt_seq\n",
    "    \n",
    "        \n",
    "    def plot(self):\n",
    "        fig,ax = plt.subplots()\n",
    "        plot_GMM(self.means_, self.covariances_, ax)\n",
    "        "
   ]
  },
  {
   "cell_type": "code",
   "execution_count": 335,
   "metadata": {},
   "outputs": [
    {
     "name": "stderr",
     "output_type": "stream",
     "text": [
      "/home/teguh/.local/lib/python2.7/site-packages/ipykernel_launcher.py:175: RuntimeWarning: divide by zero encountered in log\n",
      "/home/teguh/.local/lib/python2.7/site-packages/ipykernel_launcher.py:177: RuntimeWarning: divide by zero encountered in log\n"
     ]
    }
   ],
   "source": [
    "opt_seqs = []\n",
    "for x in hmm.xs:\n",
    "    opt_seqs += [hmm.viterbi(x)]"
   ]
  },
  {
   "cell_type": "code",
   "execution_count": 339,
   "metadata": {},
   "outputs": [],
   "source": [
    "state_durs = dict()\n",
    "for k in range(hmm.K):\n",
    "    state_durs[k] = []"
   ]
  },
  {
   "cell_type": "code",
   "execution_count": 340,
   "metadata": {},
   "outputs": [],
   "source": [
    "for opt_seq in opt_seqs:\n",
    "    cur_state = opt_seq[0]\n",
    "    cur_count = 1\n",
    "    for s in opt_seq[1:]:\n",
    "        if cur_state == s:\n",
    "            cur_count += 1\n",
    "        else:\n",
    "            state_durs[cur_state] += [cur_count]\n",
    "            cur_state = s\n",
    "            cur_count = 1\n",
    "    #for the last state\n",
    "    state_durs[cur_state] += [cur_count]\n",
    "    "
   ]
  },
  {
   "cell_type": "code",
   "execution_count": 341,
   "metadata": {},
   "outputs": [
    {
     "data": {
      "text/plain": [
       "{0: [31, 33, 34, 32, 29],\n",
       " 1: [22, 34, 35, 28, 26],\n",
       " 2: [29, 25, 31, 32, 33],\n",
       " 3: [17, 22, 26, 26, 32],\n",
       " 4: [35, 43, 40, 37, 39],\n",
       " 5: [66, 43, 34, 45, 41]}"
      ]
     },
     "execution_count": 341,
     "metadata": {},
     "output_type": "execute_result"
    }
   ],
   "source": [
    "state_durs"
   ]
  },
  {
   "cell_type": "code",
   "execution_count": 349,
   "metadata": {},
   "outputs": [
    {
     "name": "stdout",
     "output_type": "stream",
     "text": [
      "200\n"
     ]
    }
   ],
   "source": [
    "n_sum = 0\n",
    "for key in state_durs.keys():\n",
    "    n_sum +=state_durs[key][0]\n",
    "print n_sum"
   ]
  },
  {
   "cell_type": "code",
   "execution_count": null,
   "metadata": {},
   "outputs": [],
   "source": []
  }
 ],
 "metadata": {
  "kernelspec": {
   "display_name": "Python 2",
   "language": "python",
   "name": "python2"
  },
  "language_info": {
   "codemirror_mode": {
    "name": "ipython",
    "version": 2
   },
   "file_extension": ".py",
   "mimetype": "text/x-python",
   "name": "python",
   "nbconvert_exporter": "python",
   "pygments_lexer": "ipython2",
   "version": "2.7.12"
  }
 },
 "nbformat": 4,
 "nbformat_minor": 2
}

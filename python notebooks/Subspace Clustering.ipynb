{
 "cells": [
  {
   "cell_type": "code",
   "execution_count": 1,
   "metadata": {},
   "outputs": [
    {
     "name": "stderr",
     "output_type": "stream",
     "text": [
      "/home/teguh/.local/lib/python2.7/site-packages/sklearn/utils/__init__.py:9: RuntimeWarning: numpy.dtype size changed, may indicate binary incompatibility. Expected 96, got 88\n",
      "  from .murmurhash import murmurhash3_32\n",
      "/home/teguh/.local/lib/python2.7/site-packages/sklearn/utils/extmath.py:24: RuntimeWarning: numpy.dtype size changed, may indicate binary incompatibility. Expected 96, got 88\n",
      "  from ._logistic_sigmoid import _log_logistic_sigmoid\n",
      "/home/teguh/.local/lib/python2.7/site-packages/sklearn/utils/extmath.py:26: RuntimeWarning: numpy.dtype size changed, may indicate binary incompatibility. Expected 96, got 88\n",
      "  from .sparsefuncs_fast import csr_row_norms\n",
      "/home/teguh/.local/lib/python2.7/site-packages/sklearn/metrics/cluster/supervised.py:23: RuntimeWarning: numpy.dtype size changed, may indicate binary incompatibility. Expected 96, got 88\n",
      "  from .expected_mutual_info_fast import expected_mutual_information\n",
      "/home/teguh/.local/lib/python2.7/site-packages/sklearn/metrics/pairwise.py:30: RuntimeWarning: numpy.dtype size changed, may indicate binary incompatibility. Expected 96, got 88\n",
      "  from .pairwise_fast import _chi2_kernel_fast, _sparse_manhattan\n",
      "/home/teguh/.local/lib/python2.7/site-packages/sklearn/neighbors/__init__.py:6: RuntimeWarning: numpy.dtype size changed, may indicate binary incompatibility. Expected 96, got 88\n",
      "  from .ball_tree import BallTree\n",
      "/home/teguh/.local/lib/python2.7/site-packages/sklearn/neighbors/__init__.py:7: RuntimeWarning: numpy.dtype size changed, may indicate binary incompatibility. Expected 96, got 88\n",
      "  from .kd_tree import KDTree\n",
      "/home/teguh/.local/lib/python2.7/site-packages/sklearn/utils/random.py:10: RuntimeWarning: numpy.dtype size changed, may indicate binary incompatibility. Expected 96, got 88\n",
      "  from ._random import sample_without_replacement\n",
      "/home/teguh/.local/lib/python2.7/site-packages/sklearn/utils/graph.py:15: RuntimeWarning: numpy.dtype size changed, may indicate binary incompatibility. Expected 96, got 88\n",
      "  from .graph_shortest_path import graph_shortest_path  # noqa\n",
      "/home/teguh/.local/lib/python2.7/site-packages/sklearn/linear_model/base.py:35: RuntimeWarning: numpy.dtype size changed, may indicate binary incompatibility. Expected 96, got 88\n",
      "  from ..utils.seq_dataset import ArrayDataset, CSRDataset\n",
      "/home/teguh/.local/lib/python2.7/site-packages/sklearn/linear_model/least_angle.py:23: RuntimeWarning: numpy.dtype size changed, may indicate binary incompatibility. Expected 96, got 88\n",
      "  from ..utils import arrayfuncs, as_float_array, check_X_y, deprecated\n",
      "/home/teguh/.local/lib/python2.7/site-packages/sklearn/linear_model/coordinate_descent.py:29: RuntimeWarning: numpy.dtype size changed, may indicate binary incompatibility. Expected 96, got 88\n",
      "  from . import cd_fast\n",
      "/home/teguh/.local/lib/python2.7/site-packages/sklearn/linear_model/__init__.py:22: RuntimeWarning: numpy.dtype size changed, may indicate binary incompatibility. Expected 96, got 88\n",
      "  from .sgd_fast import Hinge, Log, ModifiedHuber, SquaredLoss, Huber\n",
      "/home/teguh/.local/lib/python2.7/site-packages/sklearn/linear_model/sag.py:12: RuntimeWarning: numpy.dtype size changed, may indicate binary incompatibility. Expected 96, got 88\n",
      "  from .sag_fast import sag\n",
      "/home/teguh/.local/lib/python2.7/site-packages/sklearn/svm/base.py:8: RuntimeWarning: numpy.dtype size changed, may indicate binary incompatibility. Expected 96, got 88\n",
      "  from . import libsvm, liblinear\n",
      "/home/teguh/.local/lib/python2.7/site-packages/sklearn/svm/base.py:9: RuntimeWarning: numpy.dtype size changed, may indicate binary incompatibility. Expected 96, got 88\n",
      "  from . import libsvm_sparse\n",
      "/home/teguh/.local/lib/python2.7/site-packages/sklearn/decomposition/online_lda.py:28: RuntimeWarning: numpy.dtype size changed, may indicate binary incompatibility. Expected 96, got 88\n",
      "  from ._online_lda import (mean_change, _dirichlet_expectation_1d,\n",
      "/home/teguh/.local/lib/python2.7/site-packages/sklearn/isotonic.py:12: RuntimeWarning: numpy.dtype size changed, may indicate binary incompatibility. Expected 96, got 88\n",
      "  from ._isotonic import _inplace_contiguous_isotonic_regression, _make_unique\n",
      "/home/teguh/.local/lib/python2.7/site-packages/sklearn/manifold/t_sne.py:24: RuntimeWarning: numpy.dtype size changed, may indicate binary incompatibility. Expected 96, got 88\n",
      "  from . import _utils\n",
      "/home/teguh/.local/lib/python2.7/site-packages/sklearn/manifold/t_sne.py:25: RuntimeWarning: numpy.dtype size changed, may indicate binary incompatibility. Expected 96, got 88\n",
      "  from . import _barnes_hut_tsne\n",
      "/home/teguh/.local/lib/python2.7/site-packages/sklearn/tree/tree.py:40: RuntimeWarning: numpy.dtype size changed, may indicate binary incompatibility. Expected 96, got 88\n",
      "  from ._criterion import Criterion\n",
      "/home/teguh/.local/lib/python2.7/site-packages/sklearn/cluster/k_means_.py:35: RuntimeWarning: numpy.dtype size changed, may indicate binary incompatibility. Expected 96, got 88\n",
      "  from . import _k_means\n",
      "/home/teguh/.local/lib/python2.7/site-packages/sklearn/cluster/k_means_.py:36: RuntimeWarning: numpy.dtype size changed, may indicate binary incompatibility. Expected 96, got 88\n",
      "  from ._k_means_elkan import k_means_elkan\n",
      "/home/teguh/.local/lib/python2.7/site-packages/sklearn/cluster/hierarchical.py:23: RuntimeWarning: numpy.dtype size changed, may indicate binary incompatibility. Expected 96, got 88\n",
      "  from . import _hierarchical\n",
      "/home/teguh/.local/lib/python2.7/site-packages/sklearn/cluster/dbscan_.py:19: RuntimeWarning: numpy.dtype size changed, may indicate binary incompatibility. Expected 96, got 88\n",
      "  from ._dbscan_inner import dbscan_inner\n"
     ]
    }
   ],
   "source": [
    "import numpy as np\n",
    "import matplotlib.pyplot as plt\n",
    "from IPython.display import clear_output\n",
    "from utils import *"
   ]
  },
  {
   "cell_type": "code",
   "execution_count": null,
   "metadata": {},
   "outputs": [],
   "source": [
    "%load_ext autoreload\n",
    "%autoreload 2"
   ]
  },
  {
   "cell_type": "markdown",
   "metadata": {},
   "source": [
    "#### Declare Variables "
   ]
  },
  {
   "cell_type": "code",
   "execution_count": 2,
   "metadata": {},
   "outputs": [],
   "source": [
    "n_states = 4 #number of states in the GMM\n",
    "n_in = 1 #Number of variables for the radial basis function [s] (decay term)\n",
    "n_out = 4 # Number of motion variables [xi,x2]\n",
    "\n",
    "n_data = 200 #length of trajectory\n",
    "n_samples = 5 #number of demonstrations"
   ]
  },
  {
   "cell_type": "markdown",
   "metadata": {},
   "source": [
    "#### Load Data "
   ]
  },
  {
   "cell_type": "code",
   "execution_count": 3,
   "metadata": {},
   "outputs": [
    {
     "name": "stdout",
     "output_type": "stream",
     "text": [
      "(1000, 4)\n"
     ]
    },
    {
     "data": {
      "text/plain": [
       "[<matplotlib.lines.Line2D at 0x7f385ebcd5d0>]"
      ]
     },
     "execution_count": 3,
     "metadata": {},
     "output_type": "execute_result"
    },
    {
     "data": {
      "image/png": "[encoded data removed]",
      "text/plain": [
       "<Figure size 432x288 with 3 Axes>"
      ]
     },
     "metadata": {
      "needs_background": "light"
     },
     "output_type": "display_data"
    }
   ],
   "source": [
    "ROOT = 'python_data/2Dletters/'\n",
    "data1 = np.load(ROOT + 'C.npy')[:n_samples]\n",
    "data2 = np.load(ROOT + 'D.npy')[:n_samples]\n",
    "\n",
    "#construct the output Y by concatenating all demonstrations in both dataset\n",
    "data1 = data1.transpose([0,2,1])\n",
    "data2 = data2.transpose([0,2,1])\n",
    "data1 = np.concatenate(data1,axis=0)\n",
    "data2 = np.concatenate(data2,axis=0)\n",
    "Y = np.concatenate([data1,data2],axis=1)\n",
    "print Y.shape\n",
    "\n",
    "plt.subplot(1,3,1)\n",
    "plt.plot(data1[:,0], data1[:,1],'.b')\n",
    "\n",
    "plt.subplot(1,3,2)\n",
    "plt.plot(data2[:,0], data2[:,1],'.b')\n",
    "\n",
    "plt.subplot(1,3,3)\n",
    "plt.plot(Y[:,0], Y[:,1],'.b')"
   ]
  },
  {
   "cell_type": "markdown",
   "metadata": {},
   "source": [
    "#### Estimate GMM from the concatenated data [s_in, x_targets]"
   ]
  },
  {
   "cell_type": "code",
   "execution_count": 22,
   "metadata": {},
   "outputs": [],
   "source": [
    "import time"
   ]
  },
  {
   "cell_type": "code",
   "execution_count": 107,
   "metadata": {},
   "outputs": [
    {
     "name": "stdout",
     "output_type": "stream",
     "text": [
      "1.11890292168\n"
     ]
    }
   ],
   "source": [
    "gmm = semitiedGMM(K = n_states,D = n_out,bsf_param =  5E-2, n_step_variation = 50)\n",
    "#gmm = GMM(K = n_states,D = n_out)\n",
    "\n",
    "tic = time.time()\n",
    "gmm.fit(Y,max_iter = 100, n_init = 1, init_type = 'kmeans')\n",
    "toc = time.time()\n",
    "clear_output()\n",
    "print toc-tic"
   ]
  },
  {
   "cell_type": "code",
   "execution_count": 111,
   "metadata": {},
   "outputs": [
    {
     "data": {
      "text/plain": [
       "array([[[0.0005, 0.    , 0.    , 0.    ],\n",
       "        [0.    , 0.0003, 0.    , 0.    ],\n",
       "        [0.    , 0.    , 0.0039, 0.    ],\n",
       "        [0.    , 0.    , 0.    , 0.0001]],\n",
       "\n",
       "       [[0.0075, 0.    , 0.    , 0.    ],\n",
       "        [0.    , 0.0187, 0.    , 0.    ],\n",
       "        [0.    , 0.    , 0.0817, 0.    ],\n",
       "        [0.    , 0.    , 0.    , 0.0005]],\n",
       "\n",
       "       [[0.0197, 0.    , 0.    , 0.    ],\n",
       "        [0.    , 0.0005, 0.    , 0.    ],\n",
       "        [0.    , 0.    , 0.0002, 0.    ],\n",
       "        [0.    , 0.    , 0.    , 0.096 ]],\n",
       "\n",
       "       [[0.0197, 0.    , 0.    , 0.    ],\n",
       "        [0.    , 0.0071, 0.    , 0.    ],\n",
       "        [0.    , 0.    , 0.0219, 0.    ],\n",
       "        [0.    , 0.    , 0.    , 0.0628]]])"
      ]
     },
     "execution_count": 111,
     "metadata": {},
     "output_type": "execute_result"
    }
   ],
   "source": [
    "gmm.Sigma_diag"
   ]
  },
  {
   "cell_type": "code",
   "execution_count": 108,
   "metadata": {},
   "outputs": [
    {
     "data": {
      "text/plain": [
       "[-10, 10, -10, 10]"
      ]
     },
     "execution_count": 108,
     "metadata": {},
     "output_type": "execute_result"
    },
    {
     "data": {
      "image/png": "[encoded data removed]",
      "text/plain": [
       "<Figure size 576x504 with 1 Axes>"
      ]
     },
     "metadata": {
      "needs_background": "light"
     },
     "output_type": "display_data"
    }
   ],
   "source": [
    "%matplotlib inline\n",
    "fig = plt.figure(figsize=(8,7))\n",
    "ax = fig.subplots()\n",
    "plt.plot(Y[:,0], Y[:,1], '.', alpha=0.3)\n",
    "plot_GMM(gmm.means_[:,:2], gmm.covariances_[:,:2,:2],ax)\n",
    "plt.axis([-10,10,-10,10])"
   ]
  },
  {
   "cell_type": "code",
   "execution_count": 109,
   "metadata": {},
   "outputs": [
    {
     "data": {
      "text/plain": [
       "[-10, 10, -10, 10]"
      ]
     },
     "execution_count": 109,
     "metadata": {},
     "output_type": "execute_result"
    },
    {
     "data": {
      "image/png": "[encoded data removed]",
      "text/plain": [
       "<Figure size 504x432 with 1 Axes>"
      ]
     },
     "metadata": {
      "needs_background": "light"
     },
     "output_type": "display_data"
    }
   ],
   "source": [
    "%matplotlib inline \n",
    "fig = plt.figure(figsize=(7,6))\n",
    "ax = fig.subplots()\n",
    "plt.plot(Y[:,2], Y[:,3], '.', alpha=0.3)\n",
    "plot_GMM(gmm.means_[:,2:], gmm.covariances_[:,2:,2:],ax)\n",
    "plt.axis([-10,10,-10,10])"
   ]
  },
  {
   "cell_type": "markdown",
   "metadata": {},
   "source": [
    "#### Work with 3D Data "
   ]
  },
  {
   "cell_type": "code",
   "execution_count": 4,
   "metadata": {},
   "outputs": [],
   "source": [
    "from scipy.io import loadmat\n",
    "from mpl_toolkits.mplot3d import Axes3D"
   ]
  },
  {
   "cell_type": "code",
   "execution_count": 5,
   "metadata": {},
   "outputs": [],
   "source": [
    "ROOT = 'data/'\n",
    "filename = 'Zshape3D.mat'\n",
    "\n",
    "data =  loadmat(ROOT + filename)['Data'].T"
   ]
  },
  {
   "cell_type": "code",
   "execution_count": 6,
   "metadata": {},
   "outputs": [
    {
     "data": {
      "text/plain": [
       "(-1.0000000000000004,\n",
       " 43.00000000000001,\n",
       " -56.94721431981447,\n",
       " 102.34626429376915)"
      ]
     },
     "execution_count": 6,
     "metadata": {},
     "output_type": "execute_result"
    },
    {
     "data": {
      "image/png": "[encoded data removed]",
      "text/plain": [
       "<Figure size 432x288 with 1 Axes>"
      ]
     },
     "metadata": {
      "needs_background": "light"
     },
     "output_type": "display_data"
    }
   ],
   "source": [
    "fig = plt.figure()\n",
    "ax = fig.add_subplot(111, projection='3d')\n",
    "ax.plot3D(data[:,0], data[:,1], data[:,2] ,'.')\n",
    "plt.axis('equal')"
   ]
  },
  {
   "cell_type": "code",
   "execution_count": 18,
   "metadata": {},
   "outputs": [
    {
     "name": "stderr",
     "output_type": "stream",
     "text": [
      "utils.py:206: ComplexWarning: Casting complex values to real discards the imaginary part\n",
      "  self.Lambda_[k] = V[:,:self.n_fac]\n"
     ]
    },
    {
     "name": "stdout",
     "output_type": "stream",
     "text": [
      "Iteration 0\n",
      "-10.110094891404188\n",
      "Iteration 1\n",
      "-12.105000116933532\n",
      "Iteration 2\n",
      "-11.945785137496593\n",
      "Iteration 3\n",
      "-11.769463370138949\n",
      "Iteration 4\n",
      "-11.576050945996991\n",
      "Iteration 5\n",
      "-11.371242816074176\n",
      "Iteration 6\n",
      "-11.161009351728378\n",
      "Iteration 7\n",
      "-10.950473904836185\n",
      "Iteration 8\n",
      "-10.744182044803882\n",
      "Iteration 9\n",
      "-10.547452891653256\n",
      "Iteration 0\n",
      "-10.081970400270892\n",
      "Iteration 1\n",
      "-12.106389289737669\n",
      "Iteration 2\n",
      "-11.947899161538015\n",
      "Iteration 3\n",
      "-11.772263768818778\n",
      "Iteration 4\n",
      "-11.579534484033934\n",
      "Iteration 5\n",
      "-11.375445167305417\n",
      "Iteration 6\n",
      "-11.165992002711855\n",
      "Iteration 7\n",
      "-10.956303687401475\n",
      "Iteration 8\n",
      "-10.75091137064264\n",
      "Iteration 9\n",
      "-10.555097370075517\n",
      "Iteration 0\n",
      "-10.081396245617563\n",
      "Iteration 1\n",
      "-12.106433084446474\n",
      "Iteration 2\n",
      "-11.947964510832811\n",
      "Iteration 3\n",
      "-11.772350214062318\n",
      "Iteration 4\n",
      "-11.579642114758016\n",
      "Iteration 5\n",
      "-11.37557518485134\n",
      "Iteration 6\n",
      "-11.16614639407553\n",
      "Iteration 7\n",
      "-10.956484596952691\n",
      "Iteration 8\n",
      "-10.75112049653534\n",
      "Iteration 9\n",
      "-10.555335285976774\n",
      "Iteration 0\n",
      "-10.081378350651041\n",
      "Iteration 1\n",
      "-12.106434458164117\n",
      "Iteration 2\n",
      "-11.947966560212551\n",
      "Iteration 3\n",
      "-11.772352924906004\n",
      "Iteration 4\n",
      "-11.579645489920882\n",
      "Iteration 5\n",
      "-11.375579262014229\n",
      "Iteration 6\n",
      "-11.166151235547531\n",
      "Iteration 7\n",
      "-10.956490269981543\n",
      "Iteration 8\n",
      "-10.751127054388615\n",
      "Iteration 9\n",
      "-10.555342746680108\n",
      "Iteration 0\n",
      "-10.113150975539822\n",
      "Iteration 1\n",
      "-12.103232602140855\n",
      "Iteration 2\n",
      "-11.944338108875536\n",
      "Iteration 3\n",
      "-11.767412811259499\n",
      "Iteration 4\n",
      "-11.573251751807058\n",
      "Iteration 5\n",
      "-11.367838046112682\n",
      "Iteration 6\n",
      "-11.157139196744785\n",
      "Iteration 7\n",
      "-10.946214783371348\n",
      "Iteration 8\n",
      "-10.73957277600344\n",
      "Iteration 9\n",
      "-10.5425385079754\n",
      "Obtain best result with Log Likelihood: -10.5425385079754\n"
     ]
    }
   ],
   "source": [
    "gmm = MFA(D = 3, K = 3, n_fac = 1)\n",
    "\n",
    "gmm.fit(data)"
   ]
  },
  {
   "cell_type": "code",
   "execution_count": 19,
   "metadata": {},
   "outputs": [],
   "source": [
    "x1 = mvn(mean=gmm.means_[0], cov = gmm.covariances_[0]).rvs(100)\n",
    "x2 = mvn(mean=gmm.means_[1], cov = gmm.covariances_[1]).rvs(100)\n",
    "x3 = mvn(mean=gmm.means_[2], cov = gmm.covariances_[2]).rvs(100)\n"
   ]
  },
  {
   "cell_type": "code",
   "execution_count": 20,
   "metadata": {},
   "outputs": [],
   "source": [
    "%matplotlib qt"
   ]
  },
  {
   "cell_type": "code",
   "execution_count": 21,
   "metadata": {},
   "outputs": [
    {
     "data": {
      "text/plain": [
       "(-17.846513046552733,\n",
       " 64.25079687405463,\n",
       " -74.14938695688052,\n",
       " 119.26527165836494)"
      ]
     },
     "execution_count": 21,
     "metadata": {},
     "output_type": "execute_result"
    }
   ],
   "source": [
    "fig = plt.figure()\n",
    "ax = fig.add_subplot(111, projection='3d')\n",
    "ax.plot3D(data[:,0], data[:,1], data[:,2] ,'.')\n",
    "ax.plot3D(x1[:,0], x1[:,1], x1[:,2] ,'.r')\n",
    "ax.plot3D(x2[:,0], x2[:,1], x2[:,2] ,'.g')\n",
    "ax.plot3D(x3[:,0], x3[:,1], x3[:,2] ,'.y')\n",
    "\n",
    "plt.axis('equal')"
   ]
  },
  {
   "cell_type": "code",
   "execution_count": null,
   "metadata": {},
   "outputs": [],
   "source": []
  },
  {
   "cell_type": "markdown",
   "metadata": {},
   "source": [
    "#### Use PCA "
   ]
  },
  {
   "cell_type": "code",
   "execution_count": 22,
   "metadata": {},
   "outputs": [],
   "source": [
    "from sklearn.decomposition import PCA"
   ]
  },
  {
   "cell_type": "code",
   "execution_count": 23,
   "metadata": {},
   "outputs": [],
   "source": [
    "pca = PCA(n_components=1)"
   ]
  },
  {
   "cell_type": "code",
   "execution_count": 24,
   "metadata": {},
   "outputs": [],
   "source": [
    "data_transformed = pca.fit_transform(data)"
   ]
  },
  {
   "cell_type": "code",
   "execution_count": 27,
   "metadata": {},
   "outputs": [
    {
     "name": "stdout",
     "output_type": "stream",
     "text": [
      "Iteration 0\n",
      "-4.875218829274702\n",
      "Iteration 1\n",
      "-4.8242539492863825\n",
      "Iteration 2\n",
      "-4.823807888074036\n",
      "Iteration 3\n",
      "-4.823529432437871\n",
      "Iteration 4\n",
      "-4.82328214750405\n",
      "Iteration 5\n",
      "-4.823049022157087\n",
      "Iteration 6\n",
      "-4.822827707190887\n",
      "Iteration 7\n",
      "-4.822617825491917\n",
      "Iteration 8\n",
      "-4.822419254690118\n",
      "Iteration 9\n",
      "-4.822231878941524\n",
      "Iteration 0\n",
      "-4.834290501700977\n",
      "Iteration 1\n",
      "-4.8256365365027465\n",
      "Iteration 2\n",
      "-4.825081611621612\n",
      "Iteration 3\n",
      "-4.824754383895374\n",
      "Iteration 4\n",
      "-4.824461382981989\n",
      "Iteration 5\n",
      "-4.824181360510731\n",
      "Iteration 6\n",
      "-4.823911936475072\n",
      "Iteration 7\n",
      "-4.823653017764906\n",
      "Iteration 8\n",
      "-4.823404778575459\n",
      "Iteration 9\n",
      "-4.823167398773747\n",
      "Iteration 0\n",
      "-4.937759153005134\n",
      "Iteration 1\n",
      "-4.823600286117878\n",
      "Iteration 2\n",
      "-4.8231760973971785\n",
      "Iteration 3\n",
      "-4.822911277723702\n",
      "Iteration 4\n",
      "-4.82268328949945\n",
      "Iteration 5\n",
      "-4.822473979902074\n",
      "Iteration 6\n",
      "-4.822279269202638\n",
      "Iteration 7\n",
      "-4.822097559473214\n",
      "Iteration 8\n",
      "-4.821927906743865\n",
      "Iteration 9\n",
      "-4.821769630560403\n",
      "Iteration 0\n",
      "-4.922557703764822\n",
      "Iteration 1\n",
      "-4.823764507167668\n",
      "Iteration 2\n",
      "-4.823301060583633\n",
      "Iteration 3\n",
      "-4.823016605990643\n",
      "Iteration 4\n",
      "-4.82277557017538\n",
      "Iteration 5\n",
      "-4.822556678108953\n",
      "Iteration 6\n",
      "-4.822354481489852\n",
      "Iteration 7\n",
      "-4.822166604803503\n",
      "Iteration 8\n",
      "-4.821991636906059\n",
      "Iteration 9\n",
      "-4.821828616414683\n",
      "Iteration 0\n",
      "-4.924184839267341\n",
      "Iteration 1\n",
      "-4.823817003577226\n",
      "Iteration 2\n",
      "-4.82334397115276\n",
      "Iteration 3\n",
      "-4.823053421035146\n",
      "Iteration 4\n",
      "-4.82280805530526\n",
      "Iteration 5\n",
      "-4.822585920436611\n",
      "Iteration 6\n",
      "-4.822381165418522\n",
      "Iteration 7\n",
      "-4.822191164370166\n",
      "Iteration 8\n",
      "-4.822014352579816\n",
      "Iteration 9\n",
      "-4.821849676164437\n",
      "Obtain best result with Log Likelihood: -4.821769630560403\n"
     ]
    }
   ],
   "source": [
    "gmm2 = GMM(D = 1, K = 3)\n",
    "gmm2.fit(data_transformed)"
   ]
  },
  {
   "cell_type": "code",
   "execution_count": 28,
   "metadata": {},
   "outputs": [
    {
     "data": {
      "text/plain": [
       "array([[ 41.66291491],\n",
       "       [  0.16612188],\n",
       "       [-41.48498557]])"
      ]
     },
     "execution_count": 28,
     "metadata": {},
     "output_type": "execute_result"
    }
   ],
   "source": [
    "gmm2.means_"
   ]
  },
  {
   "cell_type": "code",
   "execution_count": 29,
   "metadata": {},
   "outputs": [
    {
     "data": {
      "text/plain": [
       "array([[[237.89514397]],\n",
       "\n",
       "       [[ 69.75745226]],\n",
       "\n",
       "       [[242.56144626]]])"
      ]
     },
     "execution_count": 29,
     "metadata": {},
     "output_type": "execute_result"
    }
   ],
   "source": [
    "gmm2.covariances_"
   ]
  },
  {
   "cell_type": "code",
   "execution_count": 30,
   "metadata": {},
   "outputs": [
    {
     "data": {
      "text/plain": [
       "array([23.03333333, 22.77519007, 44.6988273 ])"
      ]
     },
     "execution_count": 30,
     "metadata": {},
     "output_type": "execute_result"
    }
   ],
   "source": [
    "pca.mean_"
   ]
  },
  {
   "cell_type": "code",
   "execution_count": 31,
   "metadata": {},
   "outputs": [
    {
     "data": {
      "text/plain": [
       "array([[-0.07536432,  0.81406798, -0.57585897]])"
      ]
     },
     "execution_count": 31,
     "metadata": {},
     "output_type": "execute_result"
    }
   ],
   "source": [
    "pca.components_"
   ]
  },
  {
   "cell_type": "code",
   "execution_count": 40,
   "metadata": {},
   "outputs": [
    {
     "data": {
      "text/plain": [
       "array([[23.0257969 , 22.85659687, 44.6412414 ]])"
      ]
     },
     "execution_count": 40,
     "metadata": {},
     "output_type": "execute_result"
    }
   ],
   "source": [
    "pca.inverse_transform(0.1)"
   ]
  },
  {
   "cell_type": "code",
   "execution_count": 41,
   "metadata": {},
   "outputs": [
    {
     "data": {
      "text/plain": [
       "array([23.0257969 , 22.85659687, 44.6412414 ])"
      ]
     },
     "execution_count": 41,
     "metadata": {},
     "output_type": "execute_result"
    }
   ],
   "source": [
    "dot(pca.components_.T,np.array([0.1])) + pca.mean_"
   ]
  },
  {
   "cell_type": "code",
   "execution_count": 42,
   "metadata": {},
   "outputs": [],
   "source": [
    "mus = []\n",
    "for mu in gmm2.means_:\n",
    "    mus.append(pca.inverse_transform(mu))"
   ]
  },
  {
   "cell_type": "code",
   "execution_count": 46,
   "metadata": {},
   "outputs": [
    {
     "name": "stdout",
     "output_type": "stream",
     "text": [
      "(3, 1)\n"
     ]
    }
   ],
   "source": [
    "pca_feature = pca.components_.T\n",
    "print pca_feature.shape"
   ]
  },
  {
   "cell_type": "code",
   "execution_count": 47,
   "metadata": {},
   "outputs": [
    {
     "data": {
      "text/plain": [
       "array([[[237.89514397]],\n",
       "\n",
       "       [[ 69.75745226]],\n",
       "\n",
       "       [[242.56144626]]])"
      ]
     },
     "execution_count": 47,
     "metadata": {},
     "output_type": "execute_result"
    }
   ],
   "source": [
    "gmm2.covariances_"
   ]
  },
  {
   "cell_type": "code",
   "execution_count": 52,
   "metadata": {},
   "outputs": [],
   "source": [
    "covs = []\n",
    "for cov in gmm2.covariances_:\n",
    "    covs.append(dot(pca_feature, dot(cov, pca_feature.T)) + np.eye(3)*pca.noise_variance_)"
   ]
  },
  {
   "cell_type": "code",
   "execution_count": 53,
   "metadata": {},
   "outputs": [],
   "source": [
    "x1 = mvn(mean=mus[0], cov = covs[0]).rvs(100)\n",
    "x2 = mvn(mean=mus[1], cov = covs[1]).rvs(100)\n",
    "x3 = mvn(mean=mus[2], cov = covs[2]).rvs(100)"
   ]
  },
  {
   "cell_type": "code",
   "execution_count": 54,
   "metadata": {},
   "outputs": [],
   "source": [
    "%matplotlib qt"
   ]
  },
  {
   "cell_type": "code",
   "execution_count": 55,
   "metadata": {},
   "outputs": [
    {
     "data": {
      "text/plain": [
       "(-30.80271635836343, 86.28403988339949, -84.12971180597648, 129.87942663697783)"
      ]
     },
     "execution_count": 55,
     "metadata": {},
     "output_type": "execute_result"
    }
   ],
   "source": [
    "fig = plt.figure()\n",
    "ax = fig.add_subplot(111, projection='3d')\n",
    "ax.plot3D(data[:,0], data[:,1], data[:,2] ,'.')\n",
    "ax.plot3D(x1[:,0], x1[:,1], x1[:,2] ,'.r')\n",
    "ax.plot3D(x2[:,0], x2[:,1], x2[:,2] ,'.g')\n",
    "ax.plot3D(x3[:,0], x3[:,1], x3[:,2] ,'.y')\n",
    "\n",
    "plt.axis('equal')"
   ]
  },
  {
   "cell_type": "code",
   "execution_count": null,
   "metadata": {},
   "outputs": [],
   "source": []
  }
 ],
 "metadata": {
  "kernelspec": {
   "display_name": "Python 2",
   "language": "python",
   "name": "python2"
  },
  "language_info": {
   "codemirror_mode": {
    "name": "ipython",
    "version": 2
   },
   "file_extension": ".py",
   "mimetype": "text/x-python",
   "name": "python",
   "nbconvert_exporter": "python",
   "pygments_lexer": "ipython2",
   "version": "2.7.12"
  }
 },
 "nbformat": 4,
 "nbformat_minor": 2
}

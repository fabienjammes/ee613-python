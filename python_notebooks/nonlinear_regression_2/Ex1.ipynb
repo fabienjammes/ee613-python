{
 "cells": [
  {
   "cell_type": "markdown",
   "metadata": {},
   "source": [
    "# EE613 - Nonlinear Regression II - Exercise 1: Sampling from Prior and Posterior Distribution of GPR"
   ]
  },
  {
   "cell_type": "code",
   "execution_count": 3,
   "metadata": {},
   "outputs": [],
   "source": [
    "import sys\n",
    "sys.path.append('../lib')\n",
    "\n",
    "import warnings\n",
    "warnings.filterwarnings('ignore')\n",
    "\n",
    "import numpy as np\n",
    "import matplotlib.pyplot as plt\n",
    "from mixture_model import *\n",
    "from plot_utils import *\n",
    "from scipy.stats import norm as normal_dist\n",
    "\n",
    "%load_ext autoreload\n",
    "%autoreload 2\n",
    "%matplotlib inline"
   ]
  },
  {
   "cell_type": "markdown",
   "metadata": {},
   "source": [
    "#### Declare Parameters "
   ]
  },
  {
   "cell_type": "code",
   "execution_count": 4,
   "metadata": {},
   "outputs": [],
   "source": [
    "n_in = 1 #dimension of x\n",
    "n_out = 1 #dimension of y\n",
    "n_data = 6 #number of datapoints\n",
    "n_data_reprod = 100 #number of datapoints in a reproduction"
   ]
  },
  {
   "cell_type": "markdown",
   "metadata": {},
   "source": [
    "#### Generate Random Data "
   ]
  },
  {
   "cell_type": "code",
   "execution_count": 5,
   "metadata": {},
   "outputs": [
    {
     "data": {
      "text/plain": [
       "[<matplotlib.lines.Line2D at 0x7f238e5ede90>]"
      ]
     },
     "execution_count": 5,
     "metadata": {},
     "output_type": "execute_result"
    },
    {
     "data": {
      "image/png": "[encoded data removed]",
      "text/plain": [
       "<Figure size 432x288 with 1 Axes>"
      ]
     },
     "metadata": {
      "needs_background": "light"
     },
     "output_type": "display_data"
    }
   ],
   "source": [
    "x = np.linspace(0,1,n_data)\n",
    "y = np.random.rand(n_data)*0.3\n",
    "data = np.vstack([x,y]).T\n",
    "plt.plot(x,y,'.')"
   ]
  },
  {
   "cell_type": "code",
   "execution_count": 6,
   "metadata": {},
   "outputs": [],
   "source": [
    "x_test = np.linspace(0,1,n_data_reprod)"
   ]
  },
  {
   "cell_type": "markdown",
   "metadata": {},
   "source": [
    "### Question 1: Prior Distribution\n",
    "\n",
    "- Define a GPR with RBF kernel for the above data. Set the parameters by hand.\n",
    "\n",
    "- Given x_test, calculate the covariance matrix K(x_test, x_test)\n",
    "\n",
    "- Generate 20 samples of the corresponding output y_test by sampling from the prior distribution of the GPR\n",
    "\n",
    "- Modify the GPR parameters and see the effect on the prior samples\n",
    "\n",
    "Hint: see demo_GPR.ipynb"
   ]
  },
  {
   "cell_type": "markdown",
   "metadata": {},
   "source": [
    "### Question 2: Posterior Distribution "
   ]
  },
  {
   "cell_type": "markdown",
   "metadata": {},
   "source": [
    "- Given the data {x,y}, compute the posterior distribution of y_test that correspond to x_test.\n",
    "\n",
    "- Generate 20 samples of the output y_test by sampling from the posterior distribution"
   ]
  },
  {
   "cell_type": "markdown",
   "metadata": {},
   "source": [
    "### Question 3: Changing the kernel \n",
    "\n",
    "In Question 1 and 2, we use RBF kernel. With the same data, use:\n",
    "- Periodic kernel function\n",
    "- Polynomial kernel function\n",
    "- Matern kernel function with $\\nu$ = 1/2\n",
    "\n",
    "Sample from the prior and posterior distributions, and see the difference!"
   ]
  }
 ],
 "metadata": {
  "kernelspec": {
   "display_name": "Python 2",
   "language": "python",
   "name": "python2"
  },
  "language_info": {
   "codemirror_mode": {
    "name": "ipython",
    "version": 2
   },
   "file_extension": ".py",
   "mimetype": "text/x-python",
   "name": "python",
   "nbconvert_exporter": "python",
   "pygments_lexer": "ipython2",
   "version": "2.7.12"
  }
 },
 "nbformat": 4,
 "nbformat_minor": 4
}

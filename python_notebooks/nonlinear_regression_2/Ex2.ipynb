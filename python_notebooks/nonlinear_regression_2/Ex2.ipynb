{
 "cells": [
  {
   "cell_type": "markdown",
   "metadata": {},
   "source": [
    "# EE613 - Nonlinear Regression II - Exercise 2: GMR vs GPR"
   ]
  },
  {
   "cell_type": "code",
   "execution_count": 1,
   "metadata": {},
   "outputs": [],
   "source": [
    "import sys\n",
    "sys.path.append('../lib')\n",
    "\n",
    "import warnings\n",
    "warnings.filterwarnings('ignore')\n",
    "\n",
    "import numpy as np\n",
    "import matplotlib.pyplot as plt\n",
    "from mixture_model import *\n",
    "from plot_utils import *\n",
    "from scipy.stats import norm as normal_dist\n",
    "\n",
    "%load_ext autoreload\n",
    "%autoreload 2\n",
    "%matplotlib inline"
   ]
  },
  {
   "cell_type": "markdown",
   "metadata": {},
   "source": [
    "***"
   ]
  },
  {
   "cell_type": "markdown",
   "metadata": {},
   "source": [
    "### Question 1: Computing GPR"
   ]
  },
  {
   "cell_type": "markdown",
   "metadata": {},
   "source": [
    "#### Generate Data "
   ]
  },
  {
   "cell_type": "code",
   "execution_count": 3,
   "metadata": {},
   "outputs": [
    {
     "data": {
      "image/png": "[encoded data removed]",
      "text/plain": [
       "<Figure size 432x288 with 1 Axes>"
      ]
     },
     "metadata": {
      "needs_background": "light"
     },
     "output_type": "display_data"
    }
   ],
   "source": [
    "nb_data = 30\n",
    "x1 = np.linspace(-4.5,-2.4,nb_data)\n",
    "y1 = -1*np.ones(nb_data)[:,None] + np.random.normal(size=(nb_data, 1))*6e-2 \n",
    "\n",
    "x2 = np.linspace(-2.4,3.7,nb_data)\n",
    "y2 = np.sin(1*x2)[:,None] + np.random.normal(size=(nb_data, 1))*2e-1 \n",
    "\n",
    "x = np.concatenate([x1,x2])\n",
    "Y = np.vstack([y1,y2])\n",
    "\n",
    "plt.plot(x,Y, '.b')\n",
    "plt.xlabel('x')\n",
    "plt.ylabel('y')\n",
    "plt.title('Data points')\n",
    "plt.show()"
   ]
  },
  {
   "cell_type": "markdown",
   "metadata": {},
   "source": [
    "Given the data {X,Y}, approximate the function $f(x) = y$ by GPR. Then, use the GPR to compute the prediction, given x_test, and plot the prediction (both the mean and the covariance).\n",
    "\n",
    "Note: this is the same data that we use in Ex2 of Nonlinear Regression I with LWR and GMR "
   ]
  },
  {
   "cell_type": "markdown",
   "metadata": {},
   "source": [
    "### Question 2: Differences between GMR and GPR"
   ]
  },
  {
   "cell_type": "markdown",
   "metadata": {},
   "source": [
    "#### Generate Incomplete Data with varying noise"
   ]
  },
  {
   "cell_type": "code",
   "execution_count": 6,
   "metadata": {},
   "outputs": [
    {
     "data": {
      "image/png": "[encoded data removed]",
      "text/plain": [
       "<Figure size 432x288 with 1 Axes>"
      ]
     },
     "metadata": {
      "needs_background": "light"
     },
     "output_type": "display_data"
    }
   ],
   "source": [
    "nb_data = 80\n",
    "\n",
    "#x0 = np.linspace(-4.5,-2.4,nb_data)\n",
    "#y0 = -1*np.ones(nb_data)[:,None] + np.random.normal(size=(nb_data, 1))*6e-2 \n",
    "x1 = np.linspace(-2.4,-.3, nb_data/2)\n",
    "y1 = np.sin(1*x1)[:,None] + np.random.normal(size=(nb_data/2, 1))*2e-1 \n",
    "x2 = np.linspace(1,3.7, nb_data/2)\n",
    "y2 = np.sin(1*x2)[:,None] + np.random.normal(size=(nb_data/2, 1))*3e-2 \n",
    "\n",
    "\n",
    "x = np.hstack([x1,x2])\n",
    "Y = np.vstack([y1,y2])\n",
    "\n",
    "plt.plot(x,Y, '.b')\n",
    "plt.xlabel('x')\n",
    "plt.ylabel('y')\n",
    "plt.title('Data points')\n",
    "plt.show()\n",
    "\n",
    "#define the test input\n",
    "x_test = np.linspace(-5,7)"
   ]
  },
  {
   "cell_type": "markdown",
   "metadata": {},
   "source": [
    "Given the data {X,Y}, use GMR and GPR to approximate the mapping $f(x) = y$, and compute the predictions on x_test.\n",
    "\n",
    "What are the difference between GMR and GPR:\n",
    "i) In the region when there is no training data\n",
    "ii) When the noises are heterogeneous (i.e. different noise amplitude in different input region)\n",
    "\n",
    "Note: You can use K=4 components for GMR"
   ]
  },
  {
   "cell_type": "markdown",
   "metadata": {},
   "source": [
    "***"
   ]
  }
 ],
 "metadata": {
  "kernelspec": {
   "display_name": "Python 2",
   "language": "python",
   "name": "python2"
  },
  "language_info": {
   "codemirror_mode": {
    "name": "ipython",
    "version": 2
   },
   "file_extension": ".py",
   "mimetype": "text/x-python",
   "name": "python",
   "nbconvert_exporter": "python",
   "pygments_lexer": "ipython2",
   "version": "2.7.12"
  }
 },
 "nbformat": 4,
 "nbformat_minor": 4
}

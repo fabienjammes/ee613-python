{
 "cells": [
  {
   "cell_type": "markdown",
   "metadata": {},
   "source": [
    "## Solving Two Sets of Linear Equations with different priority\n",
    "The objective of this exercise is to solve a system of linear equations with different priorities (one set of equations has to have zero error, while the error on the other set of equations has to be minimized) "
   ]
  },
  {
   "cell_type": "markdown",
   "metadata": {},
   "source": [
    "##### We have the following equation:\n",
    "$y = ax_1 + bx_2 + cx_3$ (1)\n",
    "\n",
    "that relates the variable $y$ to the variable $x_1,x_2,x_3$, where $a, b, \\text{and} ~ c$ are unknown constants and we want to find them. \n",
    "\n",
    "\n"
   ]
  },
  {
   "cell_type": "markdown",
   "metadata": {},
   "source": [
    "### 1. First Dataset"
   ]
  },
  {
   "cell_type": "markdown",
   "metadata": {},
   "source": [
    "Data 1: $x_1 = 0.54, x_2 = 0.12, x_3 = 0.56, y = 4.9, $\n",
    "\n",
    "Data 2: $x_1 = 0.93, x_2 = 0.93, x_3 = 0.11, y = 7.06, $\n"
   ]
  },
  {
   "cell_type": "markdown",
   "metadata": {},
   "source": [
    "##### Question 1: Find the constants $a, b, \\text{and} ~ c$ such that the equation (1) is satisfied on the first dataset. (hint: form a linear equation XA = Y where A is the vector of the constants $a, b, \\text{and} ~ c$). \n",
    "##### Question 2: Find the nullspace of $X$ and obtain several different values of the constants $a, b, \\text{and} ~ c$ that still satisfies the equation (1) perfectly (i.e. the error is zero)."
   ]
  },
  {
   "cell_type": "markdown",
   "metadata": {},
   "source": [
    "### 2. Second Dataset"
   ]
  },
  {
   "cell_type": "markdown",
   "metadata": {},
   "source": [
    "Data 1: $x_1 = 0.17, x_2 = 0.95, x_3 = 0.99, y = 7.15 $\n",
    "\n",
    "Data 2: $x_1 = 0.01, x_2 = 0.79, x_3 = 0.48, y = 4.31 $\n"
   ]
  },
  {
   "cell_type": "markdown",
   "metadata": {},
   "source": [
    "##### Question 3: Using the constants  $a, b, \\text{and} ~ c$ obtained in Question 1, compute the error of the equation (1) w.r.t. the second dataset"
   ]
  },
  {
   "cell_type": "markdown",
   "metadata": {},
   "source": [
    "##### Question 4: Find the constants $a, b, \\text{and} ~ c$ that minimizes the error of the equation (1) on the second dataset, while still perfectly satisfying the equation (1) on the first dataset. (Hint: use the nullspace of $X$)"
   ]
  },
  {
   "cell_type": "markdown",
   "metadata": {},
   "source": [
    "### Solution "
   ]
  },
  {
   "cell_type": "code",
   "execution_count": 2,
   "metadata": {},
   "outputs": [],
   "source": [
    "import warnings\n",
    "warnings.filterwarnings('ignore')\n",
    "\n",
    "import matplotlib.pyplot as plt\n",
    "%matplotlib inline\n",
    "\n",
    "import numpy as np\n",
    "from numpy.linalg import inv,pinv\n",
    "from numpy import dot,power\n",
    "from utils import *"
   ]
  },
  {
   "cell_type": "code",
   "execution_count": 156,
   "metadata": {},
   "outputs": [
    {
     "name": "stdout",
     "output_type": "stream",
     "text": [
      "[[0.54 0.12 0.56]\n",
      " [0.93 0.93 0.11]] [[4.9 ]\n",
      " [7.06]]\n"
     ]
    }
   ],
   "source": [
    "#A1_true = np.array([3.,4.,5.])[:,None]\n",
    "#X = np.random.rand(2,3)\n",
    "#Y = dot(X,A1_true)\n",
    "X1 = np.array([[0.54,0.12,0.56],[0.93,0.93,0.11]])\n",
    "Y1 = np.array([4.9,7.06])[:,None]\n",
    "print X1,Y1"
   ]
  },
  {
   "cell_type": "code",
   "execution_count": 157,
   "metadata": {},
   "outputs": [],
   "source": [
    "A1 = dot(pinv(X1),Y1)\n",
    "N1 = np.eye(3) - dot(pinv(X1),X1)"
   ]
  },
  {
   "cell_type": "markdown",
   "metadata": {},
   "source": [
    "#### Second System "
   ]
  },
  {
   "cell_type": "code",
   "execution_count": 158,
   "metadata": {},
   "outputs": [
    {
     "name": "stdout",
     "output_type": "stream",
     "text": [
      "[[0.17 0.95 0.99]\n",
      " [0.01 0.79 0.48]]\n",
      "[[7.15]\n",
      " [4.31]]\n"
     ]
    }
   ],
   "source": [
    "#A2_true = np.array([2.,3.,4.])[:,None]\n",
    "#X2 = np.random.rand(2,3)\n",
    "#Y2 = dot(X2,A2_true)\n",
    "X2 = np.array([[0.17, 0.95, 0.99],[0.01, 0.79, 0.48]])\n",
    "Y2 = np.array([7.15, 4.31])[:,None]\n",
    "print X2\n",
    "print Y2"
   ]
  },
  {
   "cell_type": "code",
   "execution_count": 159,
   "metadata": {},
   "outputs": [],
   "source": [
    "A2 = np.dot(pinv(np.dot(X2,N1),rcond=1e-7),Y2-np.dot(X2,A1))\n",
    "A = A1 + np.dot(N1,A2)"
   ]
  },
  {
   "cell_type": "markdown",
   "metadata": {},
   "source": [
    "#### Error using the nullspace "
   ]
  },
  {
   "cell_type": "code",
   "execution_count": 161,
   "metadata": {},
   "outputs": [
    {
     "name": "stdout",
     "output_type": "stream",
     "text": [
      "[[3.55271368e-15]\n",
      " [0.00000000e+00]]\n",
      "0.22675198765518928\n"
     ]
    }
   ],
   "source": [
    "#error to first system\n",
    "print np.dot(X1,A)-Y1\n",
    "\n",
    "#error to second system\n",
    "print np.linalg.norm(np.dot(X2,A)-Y2)"
   ]
  },
  {
   "cell_type": "markdown",
   "metadata": {},
   "source": [
    "#### Error using only the first equation"
   ]
  },
  {
   "cell_type": "code",
   "execution_count": 162,
   "metadata": {},
   "outputs": [
    {
     "name": "stdout",
     "output_type": "stream",
     "text": [
      "[[ 3.55271368e-15]\n",
      " [-8.88178420e-16]]\n",
      "0.927700257943241\n"
     ]
    }
   ],
   "source": [
    "#error to first system\n",
    "print np.dot(X1,A1)-Y1\n",
    "\n",
    "#error to second system\n",
    "print np.linalg.norm(np.dot(X2,A1)-Y2)"
   ]
  },
  {
   "cell_type": "markdown",
   "metadata": {},
   "source": [
    "#### Error using the whole equation "
   ]
  },
  {
   "cell_type": "code",
   "execution_count": 163,
   "metadata": {},
   "outputs": [
    {
     "name": "stdout",
     "output_type": "stream",
     "text": [
      "[[-0.07538118]\n",
      " [ 0.02429501]]\n",
      "0.194502718655885\n"
     ]
    }
   ],
   "source": [
    "X = np.vstack([X1,X2])\n",
    "Y = np.vstack([Y1,Y2])\n",
    "A3 = dot(pinv(X,rcond=1e-7),Y)\n",
    "#error to first system\n",
    "print np.dot(X1,A3)-Y1\n",
    "\n",
    "#error to second system\n",
    "print np.linalg.norm(np.dot(X2,A3)-Y2)"
   ]
  }
 ],
 "metadata": {
  "kernelspec": {
   "display_name": "Python 2",
   "language": "python",
   "name": "python2"
  },
  "language_info": {
   "codemirror_mode": {
    "name": "ipython",
    "version": 2
   },
   "file_extension": ".py",
   "mimetype": "text/x-python",
   "name": "python",
   "nbconvert_exporter": "python",
   "pygments_lexer": "ipython2",
   "version": "2.7.12"
  }
 },
 "nbformat": 4,
 "nbformat_minor": 2
}

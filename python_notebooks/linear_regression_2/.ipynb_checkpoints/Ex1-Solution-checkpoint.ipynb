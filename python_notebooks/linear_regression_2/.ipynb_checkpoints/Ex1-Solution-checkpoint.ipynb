{
 "cells": [
  {
   "cell_type": "markdown",
   "metadata": {},
   "source": [
    "# EE613 - Linear Regression II - Exercise 1 (Logistic Regression)"
   ]
  },
  {
   "cell_type": "code",
   "execution_count": 27,
   "metadata": {},
   "outputs": [],
   "source": [
    "import warnings\n",
    "warnings.filterwarnings('ignore')\n",
    "import numpy as np\n",
    "import matplotlib.pyplot as plt\n",
    "from numpy.linalg import inv\n",
    "from numpy import dot\n",
    "\n",
    "#use 'inline' for plotting the figure inside the notebook, and 'qt' for pop-up plot\n",
    "%matplotlib inline\n",
    "\n",
    "np.set_printoptions(precision=4,suppress=True)"
   ]
  },
  {
   "cell_type": "markdown",
   "metadata": {},
   "source": [
    "## Problem Definition "
   ]
  },
  {
   "cell_type": "markdown",
   "metadata": {},
   "source": [
    "#### In this exercise, we want to apply logistic regression to classify between two letters, $C_1$ and $C_2$, given the data $x$. The probability of belonging to the first class $C_1$ can be formulated as: \n",
    "$$P(C_1 | x) = \\frac{1}{1 + exp(-A^\\top x)} $$"
   ]
  },
  {
   "cell_type": "markdown",
   "metadata": {},
   "source": [
    "### Generate Data "
   ]
  },
  {
   "cell_type": "code",
   "execution_count": 28,
   "metadata": {},
   "outputs": [],
   "source": [
    "ROOT = '../python_data/2Dletters/'\n",
    "\n",
    "#take the first letter data\n",
    "data = np.load(ROOT + 'U.npy')\n",
    "data = data.transpose([0,2,1])\n",
    "data = data[:,::5,:]\n",
    "num_data_1 = len(data)\n",
    "\n",
    "#take the second letter data\n",
    "data2 = np.load(ROOT + 'V.npy')\n",
    "data2 = data2.transpose([0,2,1])\n",
    "data2 = data2[:,::5,:]\n",
    "num_data_2 = len(data2)\n",
    "\n",
    "#combine the data\n",
    "data_full = np.concatenate((data,data2),axis=0)"
   ]
  },
  {
   "cell_type": "markdown",
   "metadata": {},
   "source": [
    "#### Plot random sample from the data "
   ]
  },
  {
   "cell_type": "code",
   "execution_count": 29,
   "metadata": {},
   "outputs": [
    {
     "data": {
      "text/plain": [
       "[<matplotlib.lines.Line2D at 0x7f3b435aba50>]"
      ]
     },
     "execution_count": 29,
     "metadata": {},
     "output_type": "execute_result"
    },
    {
     "data": {
      "image/png": "[encoded data removed]",
      "text/plain": [
       "<Figure size 432x288 with 1 Axes>"
      ]
     },
     "metadata": {
      "needs_background": "light"
     },
     "output_type": "display_data"
    }
   ],
   "source": [
    "random_index = np.random.randint(len(data_full))\n",
    "data_i = data_full[random_index]\n",
    "plt.plot(data_i[:,0], data_i[:,1],'.')"
   ]
  },
  {
   "cell_type": "markdown",
   "metadata": {},
   "source": [
    "#### Construct the input and output, and separate into training and test data "
   ]
  },
  {
   "cell_type": "code",
   "execution_count": 31,
   "metadata": {},
   "outputs": [],
   "source": [
    "from sklearn.model_selection import train_test_split\n",
    "\n",
    "#the input is the letter trajectory data {x1,x2}, and the output is a binary variable {0,1}\n",
    "N = data_full.shape[0]\n",
    "data_full = data_full.reshape(N,-1) #concatenating x1 and x2 variables into a vector\n",
    "X = np.concatenate([np.ones((N,1)), data_full.reshape(N,-1)], axis=1)\n",
    "Y = np.concatenate([np.ones(num_data_1),np.zeros(num_data_2)])[:,None] #the output value for the first letter is 1, and 0 for the second letter\n",
    "\n",
    "X_train, X_test, Y_train, Y_test = train_test_split(X,Y, test_size = 0.25)"
   ]
  },
  {
   "cell_type": "markdown",
   "metadata": {},
   "source": [
    "*** "
   ]
  },
  {
   "cell_type": "markdown",
   "metadata": {},
   "source": [
    "### Question 1: \n",
    "Using $X_{train}$ and $Y_{train}$, obtain the logistic regression parameters $A$ by IRLS, and use that to predict the correct letters on $X_{test}$. Compare the prediction to the true value, $Y_{test}$, at different iterations of IRLS. You can look at demo_logistic_regression.ipynb for an example. (Note: chose an array of zeros as the initial value of $A$).   "
   ]
  },
  {
   "cell_type": "markdown",
   "metadata": {},
   "source": [
    "### Question 2:\n",
    "When constructing the input $X$ above, why do we need to add np.ones((N,1))?"
   ]
  },
  {
   "cell_type": "markdown",
   "metadata": {},
   "source": [
    "*** "
   ]
  },
  {
   "cell_type": "markdown",
   "metadata": {},
   "source": [
    "## Solution "
   ]
  },
  {
   "cell_type": "markdown",
   "metadata": {},
   "source": [
    "#### Iteratively Reweighted Least Squares (IRLS) "
   ]
  },
  {
   "cell_type": "code",
   "execution_count": 32,
   "metadata": {},
   "outputs": [],
   "source": [
    "def compute_log_likelihood(y_pred, y_true):\n",
    "    N = len(y_pred)\n",
    "    L = 0\n",
    "    for n in range(N):\n",
    "        L -= y_true[n,0]*np.log(y_pred[n,0]+1e-7) + (1-y_true[n,0])*np.log(1-y_pred[n,0]+1e-7)\n",
    "    return L"
   ]
  },
  {
   "cell_type": "code",
   "execution_count": 35,
   "metadata": {},
   "outputs": [],
   "source": [
    "def logistic_regression(X,Y, X_test=None, Y_test = None, nb_iter = 5, lamda = 0.1):\n",
    "    n_in = X.shape[1]\n",
    "    a = np.zeros((n_in,1))\n",
    "    res = []\n",
    "    L_prev = np.inf\n",
    "    for i in range(nb_iter):\n",
    "        mu = 1./(1 + np.exp(-dot(X,a))) #prediction\n",
    "        W = np.diag((mu * (1-mu)).flatten())\n",
    "        a = dot(inv(dot(X.T,dot(W,X))+1e-7*np.eye(n_in)),dot(X.T, dot(W,dot(X,a))+(Y-mu)))\n",
    "        \n",
    "        if Y_test is not None:\n",
    "            Y_pred = 1./(1 + np.exp(-dot(X_test,a)))\n",
    "            res += [np.linalg.norm(Y_pred-Y_test)]\n",
    "\n",
    "    return a, res"
   ]
  },
  {
   "cell_type": "code",
   "execution_count": 25,
   "metadata": {},
   "outputs": [],
   "source": [
    "def logistic_regression(X,Y, X_test=None, Y_test = None, nb_iter = 5, lamda = 0.1):\n",
    "    n_in = X.shape[1]\n",
    "    a = np.random.rand(n_in,1)\n",
    "    #a = np.zeros((n_in,1))\n",
    "    res = []\n",
    "    log_probs = []\n",
    "    L_prev = np.inf\n",
    "    for i in range(nb_iter):\n",
    "        mu = 1./(1 + np.exp(-dot(X,a))) #prediction\n",
    "        W = np.diag((mu * (1-mu)).flatten())\n",
    "        \n",
    "        \n",
    "        #find the step length\n",
    "        lamda = 1\n",
    "        L = np.inf\n",
    "        while L >= L_prev:\n",
    "            a_new = a - lamda*dot(inv(dot(X.T,dot(W,X))+1e-7*np.eye(n_in)),dot(X.T, mu - Y))\n",
    "            #a_new = dot(inv(dot(X.T,dot(W,X))+1e-11*np.eye(n_in)),dot(X.T, dot(W,dot(X,a))+lamda*(Y-mu)))\n",
    "            #print a_new.flatten()\n",
    "            mu_new = 1./(1 + np.exp(-dot(X,a_new))) #prediction\n",
    "            L = compute_log_likelihood(mu_new, Y)-1e-4\n",
    "            if L >= L_prev:\n",
    "                lamda*= 0.2\n",
    "                print 'reduce lamda to' + str(lamda)\n",
    "                #print 'A difference: {}'.format(a-a_new)\n",
    "            print '{},{}'.format(L_prev, L)\n",
    "                \n",
    "        print 'good lamda is:' + str(lamda)\n",
    "        a = a_new.copy()\n",
    "        \n",
    "        \n",
    "        \n",
    "        if Y_test is not None:\n",
    "            Y_pred = 1./(1 + np.exp(-dot(X_test,a)))\n",
    "            res += [np.linalg.norm(Y_pred-Y_test)]\n",
    "        #calculate the log probability\n",
    "        #L = compute_log_likelihood(mu, Y)\n",
    "        log_probs += [L]\n",
    "        L_prev = L\n",
    "    return a, res, log_probs"
   ]
  },
  {
   "cell_type": "code",
   "execution_count": 38,
   "metadata": {},
   "outputs": [
    {
     "name": "stdout",
     "output_type": "stream",
     "text": [
      "[0.46316144845419754, 0.30556423717461617, 0.22711115801669762, 0.17398427815422074, 0.13358319700732965, 0.10200595387504895, 0.077371105599755269, 0.058319312531923108, 0.043702418858933986, 0.032525394805847319]\n"
     ]
    }
   ],
   "source": [
    "A,res = logistic_regression(X_train, Y_train, X_test, Y_test, nb_iter = 10)\n",
    "\n",
    "print res"
   ]
  },
  {
   "cell_type": "markdown",
   "metadata": {},
   "source": [
    "#### Using gradient descent "
   ]
  },
  {
   "cell_type": "code",
   "execution_count": 203,
   "metadata": {},
   "outputs": [],
   "source": [
    "def logistic_regression_gd(X,Y,X_test=None, Y_test=None, nb_iter = 5, lamda=1):\n",
    "    n_in = X.shape[1]\n",
    "    #a = np.random.rand(n_in,1)\n",
    "    a = np.zeros((n_in,1))\n",
    "    res = []\n",
    "    log_probs = []\n",
    "    for i in range(nb_iter):\n",
    "        y = 1./(1 + np.exp(-dot(X,a)))\n",
    "        grad = dot(X.T, y - Y)\n",
    "        a = a - lamda*grad\n",
    "        #calculate res\n",
    "        if Y_test is not None:\n",
    "            y_pred = 1./(1 + np.exp(-dot(X_test,a)))\n",
    "            res += [np.linalg.norm(y_pred-Y_test)]\n",
    "        #calculate the log probability\n",
    "        L = compute_log_likelihood(mu, Y)\n",
    "        log_probs += [L]\n",
    "        print L\n",
    "            \n",
    "    return a,res,log_probs"
   ]
  },
  {
   "cell_type": "code",
   "execution_count": 211,
   "metadata": {},
   "outputs": [
    {
     "name": "stdout",
     "output_type": "stream",
     "text": [
      "12.4766456501\n",
      "11.5082937666\n",
      "10.711122825\n",
      "9.9990409531\n",
      "9.35996868111\n",
      "8.78518640987\n",
      "8.26699265496\n",
      "7.79860408071\n",
      "7.37408112077\n",
      "6.98824414601\n",
      "[2.0053567817471798, 1.9043507467852303, 1.8108396868877319, 1.7236480535357286, 1.6426768592914514, 1.5675414725490995, 1.4978594906096863, 1.4332276939102799, 1.3732476530957802, 1.3175361469160833]\n",
      "[ 0.7111  0.1916  0.3667  0.2507  0.5748  0.5235  0.2572]\n"
     ]
    }
   ],
   "source": [
    "A,res,log_probs = logistic_regression_gd(X_train, Y_train, X_train, Y_train, nb_iter = 10,lamda=0.0001)\n",
    "\n",
    "print res\n",
    "Y_pred = 1./(1 + np.exp(-dot(X_test,A)))\n",
    "print Y_pred.flatten()"
   ]
  }
 ],
 "metadata": {
  "kernelspec": {
   "display_name": "Python 3",
   "language": "python",
   "name": "python3"
  },
  "language_info": {
   "codemirror_mode": {
    "name": "ipython",
    "version": 2
   },
   "file_extension": ".py",
   "mimetype": "text/x-python",
   "name": "python",
   "nbconvert_exporter": "python",
   "pygments_lexer": "ipython2",
   "version": "2.7.12"
  }
 },
 "nbformat": 4,
 "nbformat_minor": 4
}

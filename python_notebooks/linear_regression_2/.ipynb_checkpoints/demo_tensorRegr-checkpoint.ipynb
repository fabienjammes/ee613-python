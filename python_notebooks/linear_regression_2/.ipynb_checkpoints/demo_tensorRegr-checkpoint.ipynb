{
 "cells": [
  {
   "cell_type": "markdown",
   "metadata": {},
   "source": [
    "# Tensor Variate Linear Regression"
   ]
  },
  {
   "cell_type": "code",
   "execution_count": 9,
   "metadata": {},
   "outputs": [],
   "source": [
    "import numpy as np\n",
    "import matplotlib.pyplot as plt\n",
    "import matplotlib.image as mpimg\n",
    "from regression_methods import MatrixRidgeRegression, TensorRidgeRegression"
   ]
  },
  {
   "cell_type": "markdown",
   "metadata": {},
   "source": [
    "## Problem Definition\n",
    "\n",
    "Here the problem is defined as "
   ]
  },
  {
   "cell_type": "markdown",
   "metadata": {},
   "source": [
    "<h4><center>$$\\langle W, x \\rangle = y, \\quad (1)$$</center></h4>"
   ]
  },
  {
   "cell_type": "markdown",
   "metadata": {},
   "source": [
    " \n",
    "where $x \\in \\mathbb{R}^{D_1 \\times D_2}$, $W \\in \\mathbb{R}^{D_1 \\times D_2}$, $y \\in \\mathbb{R}$. $\\langle \\rangle$ denotes the inner product operation, i.e.\n",
    "\n",
    "$$\\langle W, x \\rangle = \\sum_i \\sum_j w_{ij} x_{ij}$$\n",
    "\n",
    "Given a set of $x$ and $y$, we need to find the value of $W$. "
   ]
  },
  {
   "cell_type": "markdown",
   "metadata": {},
   "source": [
    "## Data generation "
   ]
  },
  {
   "cell_type": "code",
   "execution_count": 5,
   "metadata": {},
   "outputs": [
    {
     "data": {
      "text/plain": [
       "<function matplotlib.pyplot.cohere>"
      ]
     },
     "execution_count": 5,
     "metadata": {},
     "output_type": "execute_result"
    },
    {
     "data": {
      "image/png": "[encoded data removed]",
      "text/plain": [
       "<Figure size 432x288 with 1 Axes>"
      ]
     },
     "metadata": {
      "needs_background": "light"
     },
     "output_type": "display_data"
    }
   ],
   "source": [
    "# Select the coefficient (each coefficient corresponds to an image)\n",
    "image_options = ['dummy_square', 'dummy_circle', 'dummy_triangle','dummy_cross','dummy_tshape','dummy_star']\n",
    "selected_image = 0 #change this to choose other images\n",
    "img = mpimg.imread('../python_data/tensor_data/' + image_options[selected_image]) \n",
    "W_true = np.copy(img[:, :, 0])\n",
    "W_true[W_true < 200] = 0\n",
    "W_true[W_true > 0] = 1\n",
    "\n",
    "plt.imshow(W_true, cmap='Greys')\n",
    "plt.title('Fig 1: The true weight W')\n",
    "plt.cohere"
   ]
  },
  {
   "cell_type": "markdown",
   "metadata": {},
   "source": [
    "Given the true coefficient $W$, we generate $N$ random pairs of $\\{x_n,y_n\\}_{n=1}^N = \\{X,Y\\}$ by generating random $x$ and computing $y$ using equation (1), corrupted by some noise. "
   ]
  },
  {
   "cell_type": "code",
   "execution_count": 6,
   "metadata": {},
   "outputs": [],
   "source": [
    "# Parameters\n",
    "N = 500  # The number of data can be changed\n",
    "Ndim = 1 # Dimension of the output\n",
    "noise_level = 0.1  # The noise level can be changed\n",
    "d1 = W_true.shape[0]\n",
    "d2 = W_true.shape[1]\n",
    "\n",
    "#Generate random data\n",
    "bVec = W_true.flatten()  \n",
    "X = np.random.randn(N, d1,d2)  # random input\n",
    "Y = np.sum(bVec*X.reshape(N,d1*d2),axis=1) #equation (1)\n",
    "noise = noise_level * np.std(Y)\n",
    "Y += noise * np.random.randn(N)  # add noise to the output\n",
    "Y = Y[:, None]"
   ]
  },
  {
   "cell_type": "markdown",
   "metadata": {},
   "source": [
    "## Tensor Regression"
   ]
  },
  {
   "cell_type": "markdown",
   "metadata": {},
   "source": [
    "### Matrix ridge regression\n",
    "This is the same as Tensor Ridge Regression but specific to the tensor of dimension 2 (i.e. matrix)"
   ]
  },
  {
   "cell_type": "code",
   "execution_count": 12,
   "metadata": {},
   "outputs": [
    {
     "name": "stdout",
     "output_type": "stream",
     "text": [
      "Matrix Ridge regression...\n",
      "MRR did not converged after 200 iterations.\n"
     ]
    },
    {
     "data": {
      "text/plain": [
       "[]"
      ]
     },
     "execution_count": 12,
     "metadata": {},
     "output_type": "execute_result"
    },
    {
     "data": {
      "image/png": "[encoded data removed]",
      "text/plain": [
       "<Figure size 432x288 with 1 Axes>"
      ]
     },
     "metadata": {},
     "output_type": "display_data"
    }
   ],
   "source": [
    "mrr_rank = 2  # The rank can be changed\n",
    "\n",
    "print('Matrix Ridge regression...')\n",
    "mrr = MatrixRidgeRegression(mrr_rank)\n",
    "mrr.training(X, Y, reg=1e-1)\n",
    "mrr_coeffs = np.reshape(mrr.bVec[0], (d1, d2))\n",
    "\n",
    "#plot the coefficient\n",
    "plt.imshow(mrr_coeffs, cmap='Greys')\n",
    "frame1 = plt.gca()\n",
    "frame1.axes.get_xaxis().set_ticks([])\n",
    "frame1.axes.get_yaxis().set_ticks([])"
   ]
  },
  {
   "cell_type": "markdown",
   "metadata": {},
   "source": [
    "### Tensor ridge regression"
   ]
  },
  {
   "cell_type": "code",
   "execution_count": 13,
   "metadata": {},
   "outputs": [
    {
     "name": "stdout",
     "output_type": "stream",
     "text": [
      "Tensor Ridge regression...\n",
      "TRR did not converged after 200 iterations.\n"
     ]
    },
    {
     "data": {
      "text/plain": [
       "[]"
      ]
     },
     "execution_count": 13,
     "metadata": {},
     "output_type": "execute_result"
    },
    {
     "data": {
      "image/png": "[encoded data removed]",
      "text/plain": [
       "<Figure size 432x288 with 1 Axes>"
      ]
     },
     "metadata": {},
     "output_type": "display_data"
    }
   ],
   "source": [
    "print('Tensor Ridge regression...')\n",
    "trr_rank = 2  # The rank can be changed\n",
    "trr = TensorRidgeRegression(trr_rank)\n",
    "\n",
    "trr.training(X, Y, reg=1e-1)\n",
    "trr_coeffs = np.reshape(trr.wVec[0], (d1, d2))\n",
    "\n",
    "#plot the coefficient\n",
    "plt.imshow(trr_coeffs, cmap='Greys')\n",
    "frame1 = plt.gca()\n",
    "frame1.axes.get_xaxis().set_ticks([])\n",
    "frame1.axes.get_yaxis().set_ticks([])"
   ]
  },
  {
   "cell_type": "markdown",
   "metadata": {},
   "source": [
    "<br>"
   ]
  }
 ],
 "metadata": {
  "kernelspec": {
   "display_name": "Python 2",
   "language": "python",
   "name": "python2"
  },
  "language_info": {
   "codemirror_mode": {
    "name": "ipython",
    "version": 2
   },
   "file_extension": ".py",
   "mimetype": "text/x-python",
   "name": "python",
   "nbconvert_exporter": "python",
   "pygments_lexer": "ipython2",
   "version": "2.7.12"
  }
 },
 "nbformat": 4,
 "nbformat_minor": 2
}

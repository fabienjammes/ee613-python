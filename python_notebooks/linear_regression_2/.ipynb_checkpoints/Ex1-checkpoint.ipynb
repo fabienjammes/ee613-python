{
 "cells": [
  {
   "cell_type": "markdown",
   "metadata": {},
   "source": [
    "# EE613 - Linear Regression II - Exercise 1 (Logistic Regression)"
   ]
  },
  {
   "cell_type": "code",
   "execution_count": 39,
   "metadata": {},
   "outputs": [],
   "source": [
    "import warnings\n",
    "warnings.filterwarnings('ignore')\n",
    "import numpy as np\n",
    "import matplotlib.pyplot as plt\n",
    "from numpy.linalg import inv\n",
    "from numpy import dot\n",
    "\n",
    "#use 'inline' for plotting the figure inside the notebook, and 'qt' for pop-up plot\n",
    "%matplotlib inline\n",
    "np.set_printoptions(precision=4,suppress=True)"
   ]
  },
  {
   "cell_type": "markdown",
   "metadata": {},
   "source": [
    "## Problem Definition "
   ]
  },
  {
   "cell_type": "markdown",
   "metadata": {},
   "source": [
    "#### In this exercise, we want to apply logistic regression to classify between two letters, $C_1$ and $C_2$, given the data $x$. The probability of belonging to the first class $C_1$ can be formulated as: \n",
    "$$P(C_1 | x) = \\frac{1}{1 + exp(-A^\\top x)} $$"
   ]
  },
  {
   "cell_type": "markdown",
   "metadata": {},
   "source": [
    "### Generate Data "
   ]
  },
  {
   "cell_type": "code",
   "execution_count": 28,
   "metadata": {},
   "outputs": [],
   "source": [
    "ROOT = '../python_data/2Dletters/'\n",
    "\n",
    "#take the first letter data\n",
    "data = np.load(ROOT + 'U.npy')\n",
    "data = data.transpose([0,2,1])\n",
    "data = data[:,::5,:] #subsample to reduce the number of data points\n",
    "num_data_1 = len(data)\n",
    "\n",
    "#take the second letter data\n",
    "data2 = np.load(ROOT + 'V.npy')\n",
    "data2 = data2.transpose([0,2,1])\n",
    "data2 = data2[:,::5,:] #subsample to reduce the number of data points\n",
    "num_data_2 = len(data2)\n",
    "\n",
    "#combine the data\n",
    "data_full = np.concatenate((data,data2),axis=0)"
   ]
  },
  {
   "cell_type": "markdown",
   "metadata": {},
   "source": [
    "#### Plot random sample from the data "
   ]
  },
  {
   "cell_type": "code",
   "execution_count": 29,
   "metadata": {},
   "outputs": [
    {
     "data": {
      "text/plain": [
       "[<matplotlib.lines.Line2D at 0x7f3b435aba50>]"
      ]
     },
     "execution_count": 29,
     "metadata": {},
     "output_type": "execute_result"
    },
    {
     "data": {
      "image/png": "[encoded data removed]",
      "text/plain": [
       "<Figure size 432x288 with 1 Axes>"
      ]
     },
     "metadata": {
      "needs_background": "light"
     },
     "output_type": "display_data"
    }
   ],
   "source": [
    "random_index = np.random.randint(len(data_full))\n",
    "data_i = data_full[random_index]\n",
    "plt.plot(data_i[:,0], data_i[:,1],'.')"
   ]
  },
  {
   "cell_type": "markdown",
   "metadata": {},
   "source": [
    "#### Construct the input and output, and separate into training and test data "
   ]
  },
  {
   "cell_type": "code",
   "execution_count": 31,
   "metadata": {},
   "outputs": [],
   "source": [
    "from sklearn.model_selection import train_test_split\n",
    "\n",
    "#the input is the letter trajectory data {x1,x2}, and the output is a binary variable {0,1}\n",
    "N = data_full.shape[0]\n",
    "data_full = data_full.reshape(N,-1) #concatenating x1 and x2 variables into a vector\n",
    "X = np.concatenate([np.ones((N,1)), data_full], axis=1)\n",
    "Y = np.concatenate([np.ones(num_data_1),np.zeros(num_data_2)])[:,None] #the output value for the first letter is 1, and 0 for the second letter\n",
    "\n",
    "X_train, X_test, Y_train, Y_test = train_test_split(X,Y, test_size = 0.25)"
   ]
  },
  {
   "cell_type": "markdown",
   "metadata": {},
   "source": [
    "*** "
   ]
  },
  {
   "cell_type": "markdown",
   "metadata": {},
   "source": [
    "### Question 1: \n",
    "Using $X_{train}$ and $Y_{train}$, obtain the logistic regression parameters $A$ by IRLS, and use that to predict the correct letters on $X_{test}$. Compare the prediction to the true value, $Y_{test}$, at different iterations of IRLS. You can look at demo_logistic_regression.ipynb for an example. (Note: chose an array of zeros as the initial value of $A$).   "
   ]
  },
  {
   "cell_type": "markdown",
   "metadata": {},
   "source": [
    "### Question 2:\n",
    "When constructing the input $X$ above, why do we need to add np.ones((N,1))?"
   ]
  },
  {
   "cell_type": "markdown",
   "metadata": {},
   "source": [
    "*** "
   ]
  }
 ],
 "metadata": {
  "kernelspec": {
   "display_name": "Python 3",
   "language": "python",
   "name": "python3"
  },
  "language_info": {
   "codemirror_mode": {
    "name": "ipython",
    "version": 2
   },
   "file_extension": ".py",
   "mimetype": "text/x-python",
   "name": "python",
   "nbconvert_exporter": "python",
   "pygments_lexer": "ipython2",
   "version": "2.7.12"
  }
 },
 "nbformat": 4,
 "nbformat_minor": 4
}

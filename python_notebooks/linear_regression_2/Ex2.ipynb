{
 "cells": [
  {
   "cell_type": "markdown",
   "metadata": {},
   "source": [
    "# EE613 - Linear Regression II - Exercise 2 (Tensor Variate Linear Regression)"
   ]
  },
  {
   "cell_type": "code",
   "execution_count": 4,
   "metadata": {},
   "outputs": [],
   "source": [
    "import numpy as np\n",
    "import matplotlib.pyplot as plt\n",
    "import matplotlib.image as mpimg\n",
    "from regression_methods import TensorRidgeRegression"
   ]
  },
  {
   "cell_type": "markdown",
   "metadata": {},
   "source": [
    "## Problem Definition\n",
    "\n",
    "In this exercise, the original problem is defined as "
   ]
  },
  {
   "cell_type": "markdown",
   "metadata": {},
   "source": [
    "<h4><center>$$\\langle W, x \\rangle = y, \\quad (1)$$</center></h4>"
   ]
  },
  {
   "cell_type": "markdown",
   "metadata": {},
   "source": [
    " \n",
    "where $x \\in \\mathbb{R}^{D_1 \\times D_2}$, $W \\in \\mathbb{R}^{D_1 \\times D_2}$, $y \\in \\mathbb{R}$. $\\langle \\rangle$ denotes the inner product operation, i.e.\n",
    "\n",
    "$$\\langle W, x \\rangle = \\sum_i \\sum_j w_{ij} x_{ij}$$\n",
    "\n",
    "Given a set of $x$ and $y$, we need to find the value of $W$. "
   ]
  },
  {
   "cell_type": "markdown",
   "metadata": {},
   "source": [
    "## Data generation "
   ]
  },
  {
   "cell_type": "markdown",
   "metadata": {},
   "source": [
    "First, we select the \"true\" value of the coefficients $W$, to generate the data. The coefficient W in this problem \"happens\" (by design) to corresponds to an image.   "
   ]
  },
  {
   "cell_type": "code",
   "execution_count": 5,
   "metadata": {},
   "outputs": [
    {
     "data": {
      "text/plain": [
       "<function matplotlib.pyplot.cohere>"
      ]
     },
     "execution_count": 5,
     "metadata": {},
     "output_type": "execute_result"
    },
    {
     "data": {
      "image/png": "[encoded data removed]",
      "text/plain": [
       "<Figure size 432x288 with 1 Axes>"
      ]
     },
     "metadata": {
      "needs_background": "light"
     },
     "output_type": "display_data"
    }
   ],
   "source": [
    "# Select the coefficient (each coefficient corresponds to an image)\n",
    "image_options = ['dummy_square', 'dummy_circle', 'dummy_triangle','dummy_cross','dummy_tshape','dummy_star']\n",
    "selected_image = 3 #change this to choose other images\n",
    "img = mpimg.imread('../python_data/tensor_data/' + image_options[selected_image]) \n",
    "W_true = np.copy(img[:, :, 0])\n",
    "W_true[W_true < 200] = 0\n",
    "W_true[W_true > 0] = 1\n",
    "\n",
    "plt.imshow(W_true, cmap='Greys')\n",
    "plt.title('Fig 1: The true weight W')\n",
    "plt.cohere"
   ]
  },
  {
   "cell_type": "markdown",
   "metadata": {},
   "source": [
    "Given the true coefficient $W$, we generate $N$ random pairs of $\\{x_n,y_n\\}_{n=1}^N = \\{X,Y\\}$ by generating random $x$ and computing $y$ using equation (1), corrupted by some noise. "
   ]
  },
  {
   "cell_type": "code",
   "execution_count": 6,
   "metadata": {},
   "outputs": [],
   "source": [
    "# Parameters\n",
    "N = 500  # The number of data can be changed\n",
    "Ndim = 1 # Dimension of the output\n",
    "noise_level = 0.1  # The noise level can be changed\n",
    "d1 = W_true.shape[0]\n",
    "d2 = W_true.shape[1]\n",
    "\n",
    "#Generate random data\n",
    "bVec = W_true.flatten()  \n",
    "X = np.random.randn(N, d1,d2)  # random input\n",
    "Y = np.sum(bVec*X.reshape(N,d1*d2),axis=1) #equation (1)\n",
    "noise = noise_level * np.std(Y)\n",
    "Y += noise * np.random.randn(N)  # add noise to the output\n",
    "Y = Y[:, None]"
   ]
  },
  {
   "cell_type": "markdown",
   "metadata": {},
   "source": [
    "<br>"
   ]
  },
  {
   "cell_type": "markdown",
   "metadata": {},
   "source": [
    "***"
   ]
  },
  {
   "cell_type": "markdown",
   "metadata": {},
   "source": [
    "### Question 1: \n",
    "Given the data $\\{X,Y\\}$, calculate the coefficient $W$ by the standard Ridge Regression! Plot the obtained $W$ as image, and compare to Fig. 1 above (the true $W$).\n",
    "\n",
    "(Hint: reformulate the problem in (1) by vectorizing both $x$ and $W$, resulting in a standard linear regression problem)\n",
    "\n",
    "\n"
   ]
  },
  {
   "cell_type": "markdown",
   "metadata": {},
   "source": [
    "### Question 2: \n",
    "Given the data $\\{X,Y\\}$, calculate the coefficient W by Tensor Ridge Regression! Plot the obtained W as image, and compare to the result obtained in Question 1 (visually).\n",
    "You can follow the example in demo_tensorRegr.ipynb. "
   ]
  },
  {
   "cell_type": "markdown",
   "metadata": {},
   "source": [
    "*** "
   ]
  }
 ],
 "metadata": {
  "kernelspec": {
   "display_name": "Python 2",
   "language": "python",
   "name": "python2"
  },
  "language_info": {
   "codemirror_mode": {
    "name": "ipython",
    "version": 2
   },
   "file_extension": ".py",
   "mimetype": "text/x-python",
   "name": "python",
   "nbconvert_exporter": "python",
   "pygments_lexer": "ipython2",
   "version": "2.7.12"
  }
 },
 "nbformat": 4,
 "nbformat_minor": 2
}

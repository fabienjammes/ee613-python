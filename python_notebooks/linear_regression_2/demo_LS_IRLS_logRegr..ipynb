{
 "cells": [
  {
   "cell_type": "markdown",
   "metadata": {},
   "source": [
    "## Logistic Regression "
   ]
  },
  {
   "cell_type": "code",
   "execution_count": 1,
   "metadata": {},
   "outputs": [],
   "source": [
    "import warnings\n",
    "warnings.filterwarnings('ignore')\n",
    "import numpy as np\n",
    "import matplotlib.pyplot as plt\n",
    "from numpy.linalg import inv\n",
    "from numpy import dot\n",
    "\n",
    "#use 'inline' for plotting the figure inside the notebook, and 'qt' for pop-up plot\n",
    "%matplotlib inline"
   ]
  },
  {
   "cell_type": "markdown",
   "metadata": {},
   "source": [
    "### Declare Variables "
   ]
  },
  {
   "cell_type": "code",
   "execution_count": 2,
   "metadata": {},
   "outputs": [],
   "source": [
    "nb_var_in = 2 #Dimension of input vector\n",
    "nb_var_out = 1 #Dimension of output vector\n",
    "nb_data = 20  #Number of datapoints\n",
    "nb_iter = 10 #Number of iterations for IRLS"
   ]
  },
  {
   "cell_type": "markdown",
   "metadata": {},
   "source": [
    "### Generate Data "
   ]
  },
  {
   "cell_type": "code",
   "execution_count": 3,
   "metadata": {},
   "outputs": [],
   "source": [
    "#example from https://en.wikipedia.org/wiki/Logistic_regression)\n",
    "#Time passed studying for an exam (explanatory variables)\n",
    "x = np.array([0.5,0.75,1.,1.25,1.5,1.75,1.75,2.,2.25,2.5,2.75,3.,3.25,3.5,4.,4.25,4.5,4.75,5.,5.5])\n",
    "X = np.vstack([np.ones(nb_data),x]).T\n",
    "#Failed/passed exam (binary response variables)\n",
    "Y = np.array([0,0,0,0,0,0,1,0,1,0,1,0,1,0,1,1,1,1,1,1])[:,None]"
   ]
  },
  {
   "cell_type": "markdown",
   "metadata": {},
   "source": [
    "#### Iteratively Reweighted Least Squares (IRLS) "
   ]
  },
  {
   "cell_type": "code",
   "execution_count": 4,
   "metadata": {},
   "outputs": [],
   "source": [
    "a = np.zeros((nb_var_in,1))\n",
    "for i in range(nb_iter):\n",
    "    mu = 1./(1 + np.exp(-dot(X,a)))\n",
    "    W = np.diag((mu * (1-mu)).flatten())\n",
    "    a = dot(inv(dot(X.T,dot(W,X))),dot(X.T, dot(W,dot(X,a))+Y-mu))    "
   ]
  },
  {
   "cell_type": "markdown",
   "metadata": {},
   "source": [
    "### Prediction"
   ]
  },
  {
   "cell_type": "code",
   "execution_count": 5,
   "metadata": {},
   "outputs": [],
   "source": [
    "x0 = np.linspace(0,6,100)\n",
    "X0 = np.vstack([np.ones(100),x0]).T\n",
    "p = 1./(1+np.exp(-dot(X0,a)))"
   ]
  },
  {
   "cell_type": "markdown",
   "metadata": {},
   "source": [
    "### Plot Results "
   ]
  },
  {
   "cell_type": "code",
   "execution_count": 6,
   "metadata": {},
   "outputs": [
    {
     "data": {
      "text/plain": [
       "<matplotlib.legend.Legend at 0x7f87cf9f73d0>"
      ]
     },
     "execution_count": 6,
     "metadata": {},
     "output_type": "execute_result"
    },
    {
     "data": {
      "image/png": "[encoded data removed]",
      "text/plain": [
       "<Figure size 432x288 with 1 Axes>"
      ]
     },
     "metadata": {
      "needs_background": "light"
     },
     "output_type": "display_data"
    }
   ],
   "source": [
    "plt.plot(X[:,1],Y,'.', label='data')\n",
    "plt.plot(X0[:,1],p, label='prediction')\n",
    "plt.xlabel('x')\n",
    "plt.ylabel('p(x)')\n",
    "plt.legend(loc='best')"
   ]
  }
 ],
 "metadata": {
  "kernelspec": {
   "display_name": "Python 3",
   "language": "python",
   "name": "python3"
  },
  "language_info": {
   "codemirror_mode": {
    "name": "ipython",
    "version": 2
   },
   "file_extension": ".py",
   "mimetype": "text/x-python",
   "name": "python",
   "nbconvert_exporter": "python",
   "pygments_lexer": "ipython2",
   "version": "2.7.12"
  }
 },
 "nbformat": 4,
 "nbformat_minor": 4
}

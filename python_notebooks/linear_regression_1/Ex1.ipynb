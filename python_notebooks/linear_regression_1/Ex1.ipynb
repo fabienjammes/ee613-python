{
 "cells": [
  {
   "cell_type": "markdown",
   "metadata": {},
   "source": [
    "# EE613 - Linear Regression I - Exercise 1"
   ]
  },
  {
   "cell_type": "markdown",
   "metadata": {},
   "source": [
    "## Formulating Linear Regression Problem "
   ]
  },
  {
   "cell_type": "code",
   "execution_count": 3,
   "metadata": {},
   "outputs": [],
   "source": [
    "import warnings\n",
    "warnings.filterwarnings('ignore')\n",
    "\n",
    "import matplotlib.pyplot as plt\n",
    "%matplotlib inline\n",
    "\n",
    "import numpy as np\n",
    "from numpy.linalg import inv,pinv\n",
    "from numpy import dot,power"
   ]
  },
  {
   "cell_type": "markdown",
   "metadata": {},
   "source": [
    "#### Load Data "
   ]
  },
  {
   "cell_type": "code",
   "execution_count": 4,
   "metadata": {},
   "outputs": [
    {
     "data": {
      "text/plain": [
       "Text(0,0.5,'y')"
      ]
     },
     "execution_count": 4,
     "metadata": {},
     "output_type": "execute_result"
    },
    {
     "data": {
      "image/png": "[encoded data removed]",
      "text/plain": [
       "<Figure size 432x288 with 1 Axes>"
      ]
     },
     "metadata": {
      "needs_background": "light"
     },
     "output_type": "display_data"
    }
   ],
   "source": [
    "filename = '../python_data/func_example.npy'\n",
    "data = np.load(open(filename,'rb'))\n",
    "x = data[:,0]\n",
    "y = data[:,1]\n",
    "plt.plot(x,y,'.y')\n",
    "plt.xlabel('x')\n",
    "plt.ylabel('y')"
   ]
  },
  {
   "cell_type": "markdown",
   "metadata": {},
   "source": [
    "##### In the following questions, we will assume $y = f(x)$ where $f(x)$ is a function parametrized by several constants, and we want to find the constants by formulating the problem as linear regression problem."
   ]
  },
  {
   "cell_type": "markdown",
   "metadata": {},
   "source": [
    "### Question 1\n",
    "\n",
    "Assume that $f(x) = A + Bx + Cx^2 + Dx^3$, where $A,B,C$ and $D$ are unknown constants. Find $A,B,C$ and $D$!"
   ]
  },
  {
   "cell_type": "markdown",
   "metadata": {},
   "source": [
    "### Question 2\n",
    "Assume that $f(x) = A + Bx + Cx^2 + Dx^3 + Ex^4 + Fx^5 + Gx^6 + Hx^7$, where $A-H$ are unknown constants. Find $A-H$!\n",
    "\n",
    "Note that with high polynomial degrees, the noise is also fit by the regression, which is undesirable. Use Ridge Regression to smoothen the function $f(x)$! (try different value of the regularization coefficient and see its effect on the resulting function). "
   ]
  },
  {
   "cell_type": "markdown",
   "metadata": {},
   "source": [
    "### Question 3\n",
    "\n",
    "Assume that $f(x) = Ae^{Bx}$, where $A$ and $B$ are unknown constants. Find $A$ and $B$!"
   ]
  }
 ],
 "metadata": {
  "kernelspec": {
   "display_name": "Python 2",
   "language": "python",
   "name": "python2"
  },
  "language_info": {
   "codemirror_mode": {
    "name": "ipython",
    "version": 2
   },
   "file_extension": ".py",
   "mimetype": "text/x-python",
   "name": "python",
   "nbconvert_exporter": "python",
   "pygments_lexer": "ipython2",
   "version": "2.7.12"
  }
 },
 "nbformat": 4,
 "nbformat_minor": 2
}

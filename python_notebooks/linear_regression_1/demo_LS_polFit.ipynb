{
 "cells": [
  {
   "cell_type": "markdown",
   "metadata": {},
   "source": [
    "## Polynomial Regression "
   ]
  },
  {
   "cell_type": "code",
   "execution_count": 1,
   "metadata": {},
   "outputs": [],
   "source": [
    "import sys\n",
    "sys.path.append('../lib')\n",
    "\n",
    "import warnings\n",
    "warnings.filterwarnings('ignore')\n",
    "\n",
    "import matplotlib.pyplot as plt\n",
    "%matplotlib inline\n",
    "\n",
    "import numpy as np\n",
    "from numpy.linalg import inv\n",
    "from numpy import dot,power\n",
    "from utils import *"
   ]
  },
  {
   "cell_type": "markdown",
   "metadata": {},
   "source": [
    "### Declare Variables "
   ]
  },
  {
   "cell_type": "code",
   "execution_count": 2,
   "metadata": {},
   "outputs": [],
   "source": [
    "nb_var_in = 1 #Dimension of input vector\n",
    "nb_var_out = 1 #Dimension of output vector\n",
    "nb_data = 40  #Number of datapoints"
   ]
  },
  {
   "cell_type": "markdown",
   "metadata": {},
   "source": [
    "### Generate Data "
   ]
  },
  {
   "cell_type": "code",
   "execution_count": 3,
   "metadata": {},
   "outputs": [
    {
     "data": {
      "text/plain": [
       "Text(0.5,1,'Data points')"
      ]
     },
     "execution_count": 3,
     "metadata": {},
     "output_type": "execute_result"
    },
    {
     "data": {
      "image/png": "[encoded data removed]",
      "text/plain": [
       "<Figure size 432x288 with 1 Axes>"
      ]
     },
     "metadata": {
      "needs_background": "light"
     },
     "output_type": "display_data"
    }
   ],
   "source": [
    "x = np.linspace(-1,1,nb_data)\n",
    "Y = np.sin(5*x)[:,None] + np.random.normal(size=(nb_data, nb_var_out))*2e-1 \n",
    "#adding [:,None] is numpy trick to add one more dimension to the array, from (nb_data) to (nb_data,1)\n",
    "\n",
    "plt.plot(x,Y, '.b')\n",
    "plt.xlabel('x')\n",
    "plt.ylabel('y')\n",
    "plt.title('Data points')"
   ]
  },
  {
   "cell_type": "markdown",
   "metadata": {},
   "source": [
    "### Solve the Regression Problem"
   ]
  },
  {
   "cell_type": "markdown",
   "metadata": {},
   "source": [
    "#### Project x to higher dimensions by polynomial expansion with degree d $\\rightarrow$ X = $[x^0, x^1, ..., x^d]$"
   ]
  },
  {
   "cell_type": "code",
   "execution_count": 4,
   "metadata": {},
   "outputs": [],
   "source": [
    "degree_pol = 5\n",
    "X = power(x,0)\n",
    "for i in range(1,degree_pol+1):\n",
    "    X = np.vstack([X, power(x,i)])\n",
    "X = X.T\n",
    "\n",
    "#alternative: use sklearn library\n",
    "#from sklearn.preprocessing import PolynomialFeatures\n",
    "#poly_func = PolynomialFeatures(degree=degree_pol)\n",
    "#X = poly_func.fit_transform(x[:,None]) "
   ]
  },
  {
   "cell_type": "markdown",
   "metadata": {},
   "source": [
    "#### Solve the regression problem XA = Y "
   ]
  },
  {
   "cell_type": "markdown",
   "metadata": {},
   "source": [
    "#### 1. Standard LS "
   ]
  },
  {
   "cell_type": "code",
   "execution_count": 5,
   "metadata": {},
   "outputs": [
    {
     "name": "stdout",
     "output_type": "stream",
     "text": [
      "1.2530915683231854\n"
     ]
    }
   ],
   "source": [
    "A = dot(inv(dot(X.T,X)),dot(X.T, Y)) \n",
    "e = np.linalg.norm(dot(X,A)-Y)\n",
    "plot_title = 'Least squares - Polynomial fit of degree ' + str(nb_var_in) + ' (e={0:0.2f})'.format(e)\n",
    "print(e)"
   ]
  },
  {
   "cell_type": "markdown",
   "metadata": {},
   "source": [
    "#### 2. Ridge Regression "
   ]
  },
  {
   "cell_type": "code",
   "execution_count": 6,
   "metadata": {},
   "outputs": [
    {
     "name": "stdout",
     "output_type": "stream",
     "text": [
      "1.444437114551651\n"
     ]
    }
   ],
   "source": [
    "#Naive computation of ridge regression\n",
    "lamda = 1e-01\n",
    "Gamma = np.eye(degree_pol+1)*lamda\n",
    "A = dot(inv(dot(X.T,X) + dot(Gamma.T,Gamma)),dot(X.T, Y)) \n",
    "e = np.linalg.norm(dot(X,A)-Y)\n",
    "plot_title = 'Ridge Regression: Least squares - Polynomial fit of degree ' + str(degree_pol+1) + ' (e={0:0.2f})'.format(e)\n",
    "print(e)"
   ]
  },
  {
   "cell_type": "code",
   "execution_count": 7,
   "metadata": {},
   "outputs": [
    {
     "name": "stdout",
     "output_type": "stream",
     "text": [
      "1.4444371145516515\n"
     ]
    }
   ],
   "source": [
    "#Ridge regression computed with augmented matrices\n",
    "lamda = 1e-01\n",
    "Gamma = np.eye(degree_pol+1)*lamda\n",
    "Xa = np.vstack([X, Gamma])\n",
    "Ya = np.vstack([Y, np.zeros((degree_pol+1, nb_var_out))])\n",
    "A = dot(inv(dot(Xa.T,Xa)),dot(Xa.T, Ya)) \n",
    "e = np.linalg.norm(dot(X,A)-Y)\n",
    "plot_title = 'Ridge Regression: Least squares - Polynomial fit of degree ' + str(degree_pol+1) + ' (e={0:0.2f})'.format(e)\n",
    "print(e)"
   ]
  },
  {
   "cell_type": "code",
   "execution_count": 8,
   "metadata": {},
   "outputs": [
    {
     "name": "stdout",
     "output_type": "stream",
     "text": [
      "1.4444371145516526\n"
     ]
    }
   ],
   "source": [
    "#Ridge regression computed with SVD\n",
    "lamda = 1e-01\n",
    "U,S,V = np.linalg.svd(X)\n",
    "\n",
    "#Ridge regression computed with SVD\n",
    "for i in range(len(S)):\n",
    "    S[i] = S[i]/(S[i]**2 + lamda**2)\n",
    "S_mat = np.vstack([np.diag(S), np.zeros((34,degree_pol+1))])\n",
    "A = dot(V.T, dot(S_mat.T, dot(U.T, Y)))\n",
    "e = np.linalg.norm(dot(X,A)-Y)\n",
    "plot_title = 'Ridge Regression: Least squares - Polynomial fit of degree ' + str(degree_pol+1) + ' (e={0:0.2f})'.format(e)\n",
    "print(e)"
   ]
  },
  {
   "cell_type": "markdown",
   "metadata": {},
   "source": [
    "#### Plot the predictive data (as line) and the true data (as points)"
   ]
  },
  {
   "cell_type": "code",
   "execution_count": 9,
   "metadata": {},
   "outputs": [
    {
     "ename": "NameError",
     "evalue": "name 'plot_data_2D' is not defined",
     "output_type": "error",
     "traceback": [
      "\u001b[0;31m---------------------------------------------------------------------------\u001b[0m",
      "\u001b[0;31mNameError\u001b[0m                                 Traceback (most recent call last)",
      "\u001b[0;32m<ipython-input-9-dd4ab9c0238d>\u001b[0m in \u001b[0;36m<module>\u001b[0;34m()\u001b[0m\n\u001b[1;32m      1\u001b[0m \u001b[0mY_pred\u001b[0m \u001b[0;34m=\u001b[0m \u001b[0mnp\u001b[0m\u001b[0;34m.\u001b[0m\u001b[0mdot\u001b[0m\u001b[0;34m(\u001b[0m\u001b[0mX\u001b[0m\u001b[0;34m,\u001b[0m\u001b[0mA\u001b[0m\u001b[0;34m)\u001b[0m\u001b[0;34m\u001b[0m\u001b[0m\n\u001b[0;32m----> 2\u001b[0;31m \u001b[0mplot_data_2D\u001b[0m\u001b[0;34m(\u001b[0m\u001b[0mx\u001b[0m\u001b[0;34m,\u001b[0m\u001b[0mY\u001b[0m\u001b[0;34m,\u001b[0m\u001b[0mY_pred\u001b[0m\u001b[0;34m,\u001b[0m \u001b[0mtitle\u001b[0m\u001b[0;34m=\u001b[0m\u001b[0mplot_title\u001b[0m\u001b[0;34m)\u001b[0m\u001b[0;34m\u001b[0m\u001b[0m\n\u001b[0m",
      "\u001b[0;31mNameError\u001b[0m: name 'plot_data_2D' is not defined"
     ]
    }
   ],
   "source": [
    "Y_pred = np.dot(X,A)\n",
    "plot_data_2D(x,Y,Y_pred, title=plot_title)"
   ]
  },
  {
   "cell_type": "markdown",
   "metadata": {},
   "source": [
    "## Polynomial Regression with Nullspace \n",
    "In the equation XA = Y, with X $\\in \\mathbb{R}^{M \\times N}$, we can obtain the nullspace of X when M < N. In our current problem, M is the number of data points while N is the polynomial degree + 1. This means that we can have the nullspace when the number of data points is lower than the degree of the polynomials."
   ]
  },
  {
   "cell_type": "markdown",
   "metadata": {},
   "source": [
    "### Generate Data "
   ]
  },
  {
   "cell_type": "code",
   "execution_count": 10,
   "metadata": {},
   "outputs": [
    {
     "data": {
      "text/plain": [
       "Text(0.5,1,'Data points')"
      ]
     },
     "execution_count": 10,
     "metadata": {},
     "output_type": "execute_result"
    },
    {
     "data": {
      "image/png": "[encoded data removed]",
      "text/plain": [
       "<Figure size 432x288 with 1 Axes>"
      ]
     },
     "metadata": {
      "needs_background": "light"
     },
     "output_type": "display_data"
    }
   ],
   "source": [
    "nb_data = 5  #Number of datapoints\n",
    "x = np.linspace(-1,1,nb_data)\n",
    "Y = np.sin(5*x)[:,None] + np.random.normal(size=(nb_data, nb_var_out))*2e-1 \n",
    "#adding [:,None] is numpy trick to add one more dimension to the array, from (nb_data) to (nb_data,1)\n",
    "\n",
    "plt.plot(x,Y, '.b')\n",
    "plt.xlabel('x')\n",
    "plt.ylabel('y')\n",
    "plt.title('Data points')"
   ]
  },
  {
   "cell_type": "markdown",
   "metadata": {},
   "source": [
    "### Construct X as polynomial expansion of x with degree = degree_pol"
   ]
  },
  {
   "cell_type": "code",
   "execution_count": 11,
   "metadata": {},
   "outputs": [],
   "source": [
    "from sklearn.preprocessing import PolynomialFeatures\n",
    "\n",
    "degree_pol = 8\n",
    "poly_func = PolynomialFeatures(degree=degree_pol)\n",
    "X = poly_func.fit_transform(x[:,None]) "
   ]
  },
  {
   "cell_type": "markdown",
   "metadata": {},
   "source": [
    "### Calculate the Nullspace Operator $N = \\textrm{I} - X^{\\dagger}X $"
   ]
  },
  {
   "cell_type": "code",
   "execution_count": 12,
   "metadata": {},
   "outputs": [],
   "source": [
    "X_pinv =  dot(X.T, inv(dot(X,X.T)))\n",
    "N = np.eye(degree_pol+1) - dot(X_pinv,X)"
   ]
  },
  {
   "cell_type": "markdown",
   "metadata": {},
   "source": [
    "### Calculate the prediction"
   ]
  },
  {
   "cell_type": "code",
   "execution_count": 13,
   "metadata": {},
   "outputs": [
    {
     "data": {
      "text/plain": [
       "Text(0.5,1,'Sample predictions using the nullspace')"
      ]
     },
     "execution_count": 13,
     "metadata": {},
     "output_type": "execute_result"
    },
    {
     "data": {
      "image/png": "[encoded data removed]",
      "text/plain": [
       "<Figure size 432x288 with 1 Axes>"
      ]
     },
     "metadata": {
      "needs_background": "light"
     },
     "output_type": "display_data"
    }
   ],
   "source": [
    "x_pred = np.linspace(-1,1,200)\n",
    "X_pred = poly_func.fit_transform(x_pred[:,None])\n",
    "for n in range(20):\n",
    "    v = 5*np.random.rand(degree_pol+1)[:,None]\n",
    "    A_cur = dot(X_pinv,Y) + dot(N,v) #compute different A by using the nullspace\n",
    "    Y_pred = dot(X_pred,A_cur)\n",
    "    plt.plot(x_pred,Y_pred)\n",
    "    plt.plot(x,Y,'.b')\n",
    "plt.xlabel('x')\n",
    "plt.ylabel('y')\n",
    "plt.title('Sample predictions using the nullspace')"
   ]
  }
 ],
 "metadata": {
  "kernelspec": {
   "display_name": "Python 2",
   "language": "python",
   "name": "python2"
  },
  "language_info": {
   "codemirror_mode": {
    "name": "ipython",
    "version": 2
   },
   "file_extension": ".py",
   "mimetype": "text/x-python",
   "name": "python",
   "nbconvert_exporter": "python",
   "pygments_lexer": "ipython2",
   "version": "2.7.12"
  }
 },
 "nbformat": 4,
 "nbformat_minor": 4
}

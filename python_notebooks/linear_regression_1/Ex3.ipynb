{
 "cells": [
  {
   "cell_type": "markdown",
   "metadata": {},
   "source": [
    "# EE613 - Linear Regression I - Exercise 3"
   ]
  },
  {
   "cell_type": "markdown",
   "metadata": {},
   "source": [
    "## Solving Two Sets of Linear Equations with different priority\n",
    "The objective of this exercise is to solve a system of linear equations with different priorities (one set of equations has to have zero error, while the error on the other set of equations has to be minimized) "
   ]
  },
  {
   "cell_type": "markdown",
   "metadata": {},
   "source": [
    "##### We have the following equation:\n",
    "$y = ax_1 + bx_2 + cx_3$ (1)\n",
    "\n",
    "that relates the variable $y$ to the variable $x_1,x_2,x_3$, where $a, b, \\text{and} ~ c$ are unknown constants and we want to find them. \n",
    "\n",
    "\n"
   ]
  },
  {
   "cell_type": "markdown",
   "metadata": {},
   "source": [
    "### 1. First Dataset"
   ]
  },
  {
   "cell_type": "markdown",
   "metadata": {},
   "source": [
    "Data 1: $x_1 = 0.54, x_2 = 0.12, x_3 = 0.56, y = 4.9$\n",
    "\n",
    "Data 2: $x_1 = 0.93, x_2 = 0.93, x_3 = 0.11, y = 7.06$\n"
   ]
  },
  {
   "cell_type": "markdown",
   "metadata": {},
   "source": [
    "##### Question 1: Find the constants $a, b, \\text{and} ~ c$ such that the equation (1) is satisfied on the first dataset. (hint: form a linear equation XA = Y where A is the vector of the constants $a, b, \\text{and} ~ c$). \n",
    "##### Question 2: Find the nullspace of $X$ and obtain several different values of the constants $a, b, \\text{and} ~ c$ that still satisfies the equation (1) perfectly (i.e. the error is zero)."
   ]
  },
  {
   "cell_type": "markdown",
   "metadata": {},
   "source": [
    "### 2. Second Dataset"
   ]
  },
  {
   "cell_type": "markdown",
   "metadata": {},
   "source": [
    "Data 1: $x_1 = 0.17, x_2 = 0.95, x_3 = 0.99, y = 7.15 $\n",
    "\n",
    "Data 2: $x_1 = 0.01, x_2 = 0.79, x_3 = 0.48, y = 4.31 $\n"
   ]
  },
  {
   "cell_type": "markdown",
   "metadata": {},
   "source": [
    "##### Question 3: Using the constants  $a, b, \\text{and} ~ c$ obtained in Question 1, compute the error of the equation (1) w.r.t. the second dataset"
   ]
  },
  {
   "cell_type": "markdown",
   "metadata": {},
   "source": [
    "##### Question 4: Find the constants $a, b, \\text{and} ~ c$ that minimizes the error of the equation (1) on the second dataset, while still perfectly satisfying the equation (1) on the first dataset. (Hint: use the nullspace of $X$)"
   ]
  }
 ],
 "metadata": {
  "kernelspec": {
   "display_name": "Python 2",
   "language": "python",
   "name": "python2"
  },
  "language_info": {
   "codemirror_mode": {
    "name": "ipython",
    "version": 2
   },
   "file_extension": ".py",
   "mimetype": "text/x-python",
   "name": "python",
   "nbconvert_exporter": "python",
   "pygments_lexer": "ipython2",
   "version": "2.7.12"
  }
 },
 "nbformat": 4,
 "nbformat_minor": 2
}

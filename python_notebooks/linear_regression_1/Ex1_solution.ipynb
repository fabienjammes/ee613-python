{
 "cells": [
  {
   "cell_type": "markdown",
   "metadata": {},
   "source": [
    "# EE613 - Linear Regression I - Exercise 1"
   ]
  },
  {
   "cell_type": "markdown",
   "metadata": {},
   "source": [
    "## Formulating Linear Regression Problem "
   ]
  },
  {
   "cell_type": "code",
   "execution_count": 2,
   "metadata": {},
   "outputs": [],
   "source": [
    "import warnings\n",
    "warnings.filterwarnings('ignore')\n",
    "\n",
    "import matplotlib.pyplot as plt\n",
    "%matplotlib inline\n",
    "\n",
    "import numpy as np\n",
    "from numpy.linalg import inv,pinv\n",
    "from numpy import dot,power"
   ]
  },
  {
   "cell_type": "markdown",
   "metadata": {},
   "source": [
    "#### Load Data "
   ]
  },
  {
   "cell_type": "code",
   "execution_count": 3,
   "metadata": {},
   "outputs": [
    {
     "data": {
      "text/plain": [
       "Text(0,0.5,'y')"
      ]
     },
     "execution_count": 3,
     "metadata": {},
     "output_type": "execute_result"
    },
    {
     "data": {
      "image/png": "[encoded data removed]",
      "text/plain": [
       "<Figure size 432x288 with 1 Axes>"
      ]
     },
     "metadata": {
      "needs_background": "light"
     },
     "output_type": "display_data"
    }
   ],
   "source": [
    "filename = '../python_data/func_example.npy'\n",
    "data = np.load(open(filename,'rb'))\n",
    "x = data[:,0]\n",
    "y = data[:,1]\n",
    "plt.plot(x,y,'.y')\n",
    "plt.xlabel('x')\n",
    "plt.ylabel('y')"
   ]
  },
  {
   "cell_type": "markdown",
   "metadata": {},
   "source": [
    "##### In the following questions, we will assume $y = f(x)$ where $f(x)$ is a function parametrized by several constants, and we want to find the constants by formulating the problem as linear regression problem"
   ]
  },
  {
   "cell_type": "markdown",
   "metadata": {},
   "source": [
    "### Question 1\n",
    "\n",
    "Assume that $f(x) = A + Bx + Cx^2 + Dx^3$, where A,B,C and D are unknown constants. Find A,B,C and D!"
   ]
  },
  {
   "cell_type": "markdown",
   "metadata": {},
   "source": [
    "### Question 2\n",
    "Assume that $f(x) = A + Bx + Cx^2 + Dx^3 + Ex^4 + Fx^5 + Gx^6 + Hx^7$, where $A-H$ are unknown constants. Find $A-H$!\n",
    "Note that with high polynomial degrees, the noise is also fit by the regression. Use Ridge Regression to smoothen the function $f(x)$! (try different value of the regularization coefficient and see its effect on the resulting function). "
   ]
  },
  {
   "cell_type": "markdown",
   "metadata": {},
   "source": [
    "### Question 3\n",
    "\n",
    "Assume that $f(x) = Ae^{Bx}$, where A and B are unknown constants. Find A and B!"
   ]
  },
  {
   "cell_type": "markdown",
   "metadata": {},
   "source": [
    "## Solutions"
   ]
  },
  {
   "cell_type": "markdown",
   "metadata": {},
   "source": [
    "#### Question 1"
   ]
  },
  {
   "cell_type": "code",
   "execution_count": 4,
   "metadata": {},
   "outputs": [
    {
     "data": {
      "text/plain": [
       "[<matplotlib.lines.Line2D at 0x7f94199497d0>]"
      ]
     },
     "execution_count": 4,
     "metadata": {},
     "output_type": "execute_result"
    },
    {
     "data": {
      "image/png": "[encoded data removed]",
      "text/plain": [
       "<Figure size 432x288 with 1 Axes>"
      ]
     },
     "metadata": {
      "needs_background": "light"
     },
     "output_type": "display_data"
    }
   ],
   "source": [
    "from sklearn.preprocessing import PolynomialFeatures\n",
    "poly_fit = PolynomialFeatures(degree=3)\n",
    "X = poly_fit.fit_transform(x[:,None])\n",
    "Y = y[:,None]\n",
    "A = dot(pinv(X),Y)\n",
    "Y_pred = dot(X,A)\n",
    "plt.plot(x,Y_pred,'--')\n",
    "plt.plot(x,y,'.')"
   ]
  },
  {
   "cell_type": "markdown",
   "metadata": {},
   "source": [
    "#### Question 2"
   ]
  },
  {
   "cell_type": "code",
   "execution_count": 5,
   "metadata": {},
   "outputs": [
    {
     "data": {
      "text/plain": [
       "[<matplotlib.lines.Line2D at 0x7f9419873ad0>]"
      ]
     },
     "execution_count": 5,
     "metadata": {},
     "output_type": "execute_result"
    },
    {
     "data": {
      "image/png": "[encoded data removed]",
      "text/plain": [
       "<Figure size 432x288 with 1 Axes>"
      ]
     },
     "metadata": {
      "needs_background": "light"
     },
     "output_type": "display_data"
    }
   ],
   "source": [
    "from sklearn.preprocessing import PolynomialFeatures\n",
    "poly_fit = PolynomialFeatures(degree=7)\n",
    "X = poly_fit.fit_transform(x[:,None])\n",
    "Y = y[:,None]\n",
    "A = dot(pinv(X,rcond=1e-7),Y) #change rcond to change the regularization\n",
    "Y_pred = dot(X,A)\n",
    "plt.plot(x,Y_pred,'--')\n",
    "plt.plot(x,y,'.y')"
   ]
  },
  {
   "cell_type": "code",
   "execution_count": 6,
   "metadata": {},
   "outputs": [
    {
     "data": {
      "text/plain": [
       "8.8703947892159292"
      ]
     },
     "execution_count": 6,
     "metadata": {},
     "output_type": "execute_result"
    }
   ],
   "source": [
    "np.linalg.norm(dot(X,A)-Y)"
   ]
  },
  {
   "cell_type": "markdown",
   "metadata": {},
   "source": [
    "#### Question 3"
   ]
  },
  {
   "cell_type": "markdown",
   "metadata": {},
   "source": [
    "##### Key insight: transform the equation $f(x) = Ae^{Bx}$ by taking the log of both sides. \n",
    "$$ log(f(x)) = log(Ae^{Bx}) = log(A) + Bx       \\quad (1)$$\n",
    "\n",
    "Note that the equation now is linear w.r.t. the parameters $log(A)$ and $B$. \n",
    "\n",
    "We can now form the following linear equation:\n",
    "\n",
    "$$XC = Y \\quad  , \\quad (2)$$\n",
    "\n",
    "where $X_i = [1~ x_i]$, $C = [log(A) ~ B]^\\top$, $Y_i = log(y_i)$ and the subscript $i$ refers to the datapoint index. $C$ can be obtained now by solving the equation (2), from which $A$ and $B$ can be computed. \n"
   ]
  },
  {
   "cell_type": "code",
   "execution_count": 124,
   "metadata": {},
   "outputs": [
    {
     "data": {
      "text/plain": [
       "[<matplotlib.lines.Line2D at 0x7fd0a3227850>]"
      ]
     },
     "execution_count": 124,
     "metadata": {},
     "output_type": "execute_result"
    },
    {
     "data": {
      "image/png": "[encoded data removed]",
      "text/plain": [
       "<Figure size 432x288 with 1 Axes>"
      ]
     },
     "metadata": {
      "needs_background": "light"
     },
     "output_type": "display_data"
    }
   ],
   "source": [
    "Y = np.log(y)\n",
    "X = np.vstack([np.ones(len(x)), x]).T\n",
    "C = dot(pinv(X),Y)\n",
    "A = np.exp(C[0])\n",
    "B = C[1]\n",
    "Y_pred = A*np.exp(B*x)\n",
    "plt.plot(x,Y_pred,'--')\n",
    "plt.plot(x,y,'.')"
   ]
  }
 ],
 "metadata": {
  "kernelspec": {
   "display_name": "Python 2",
   "language": "python",
   "name": "python2"
  },
  "language_info": {
   "codemirror_mode": {
    "name": "ipython",
    "version": 2
   },
   "file_extension": ".py",
   "mimetype": "text/x-python",
   "name": "python",
   "nbconvert_exporter": "python",
   "pygments_lexer": "ipython2",
   "version": "2.7.12"
  }
 },
 "nbformat": 4,
 "nbformat_minor": 2
}

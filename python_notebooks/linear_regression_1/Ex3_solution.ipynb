{
 "cells": [
  {
   "cell_type": "markdown",
   "metadata": {},
   "source": [
    "# EE613 - Linear Regression I - Exercise 2"
   ]
  },
  {
   "cell_type": "markdown",
   "metadata": {},
   "source": [
    "## Solving Two Sets of Linear Equations with different priority\n",
    "The objective of this exercise is to solve a system of linear equations with different priorities (one set of equations has to have zero error, while the error on the other set of equations has to be minimized) "
   ]
  },
  {
   "cell_type": "markdown",
   "metadata": {},
   "source": [
    "##### We have the following equation:\n",
    "$$y = ax_1 + bx_2 + cx_3 \\quad (1)$$ \n",
    "\n",
    "that relates the variable $y$ to the variable $x_1,x_2,x_3$, where $a, b, \\text{and} ~ c$ are unknown constants and we want to find them. \n",
    "\n",
    "\n"
   ]
  },
  {
   "cell_type": "markdown",
   "metadata": {},
   "source": [
    "### 1. First Dataset"
   ]
  },
  {
   "cell_type": "markdown",
   "metadata": {},
   "source": [
    "Data 1: $x_1 = 0.54, x_2 = 0.12, x_3 = 0.56, y = 4.9, $\n",
    "\n",
    "Data 2: $x_1 = 0.93, x_2 = 0.93, x_3 = 0.11, y = 7.06, $\n"
   ]
  },
  {
   "cell_type": "markdown",
   "metadata": {},
   "source": [
    "##### Question 1: Find the constants $a, b, \\text{and} ~ c$ such that the equation (1) is satisfied on the first dataset. (hint: form a linear equation XA = Y where A is the vector of the constants $a, b, \\text{and} ~ c$). \n",
    "##### Question 2: Find the nullspace of $X$ and obtain several different values of the constants $a, b, \\text{and} ~ c$ that still satisfies the equation (1) perfectly (i.e. the error is zero)."
   ]
  },
  {
   "cell_type": "markdown",
   "metadata": {},
   "source": [
    "### 2. Second Dataset"
   ]
  },
  {
   "cell_type": "markdown",
   "metadata": {},
   "source": [
    "Data 1: $x_1 = 0.17, x_2 = 0.95, x_3 = 0.99, y = 7.15 $\n",
    "\n",
    "Data 2: $x_1 = 0.01, x_2 = 0.79, x_3 = 0.48, y = 4.31 $\n"
   ]
  },
  {
   "cell_type": "markdown",
   "metadata": {},
   "source": [
    "##### Question 3: Using the constants  $a, b, \\text{and} ~ c$ obtained in Question 1, compute the error of the equation (1) w.r.t. the second dataset"
   ]
  },
  {
   "cell_type": "markdown",
   "metadata": {},
   "source": [
    "##### Question 4: Find the constants $a, b, \\text{and} ~ c$ that minimizes the error of the equation (1) on the second dataset, while still perfectly satisfying the equation (1) on the first dataset. (Hint: use the nullspace of $X$)"
   ]
  },
  {
   "cell_type": "markdown",
   "metadata": {},
   "source": [
    "## Solution "
   ]
  },
  {
   "cell_type": "code",
   "execution_count": 1,
   "metadata": {},
   "outputs": [],
   "source": [
    "import warnings\n",
    "warnings.filterwarnings('ignore')\n",
    "\n",
    "import matplotlib.pyplot as plt\n",
    "%matplotlib inline\n",
    "\n",
    "import numpy as np\n",
    "from numpy.linalg import inv,pinv,norm\n",
    "from numpy import dot,power"
   ]
  },
  {
   "cell_type": "markdown",
   "metadata": {},
   "source": [
    "#### Question 1 "
   ]
  },
  {
   "cell_type": "code",
   "execution_count": 2,
   "metadata": {},
   "outputs": [
    {
     "name": "stdout",
     "output_type": "stream",
     "text": [
      "The values of [a,b,c] are [4.854,2.315,3.573]\n",
      "The error is 0.000000\n"
     ]
    }
   ],
   "source": [
    "X1 = np.array([[0.54,0.12,0.56],[0.93,0.93,0.11]])\n",
    "Y1 = np.array([4.9,7.06])[:,None]\n",
    "\n",
    "A1 = dot(pinv(X1),Y1)\n",
    "print('The values of [a,b,c] are [{0:.3f},{1:.3f},{2:.3f}]'.format(A1[0,0],A1[1,0],A1[2,0])) \n",
    "#calculate the error\n",
    "e = norm(dot(X1,A1)-Y1)\n",
    "print('The error is {0:.6f}'.format(e))"
   ]
  },
  {
   "cell_type": "markdown",
   "metadata": {},
   "source": [
    "#### Question 2 "
   ]
  },
  {
   "cell_type": "code",
   "execution_count": 3,
   "metadata": {},
   "outputs": [],
   "source": [
    "#Calculate the nullspace operator N1\n",
    "N1 = np.eye(3) - dot(pinv(X1),X1)"
   ]
  },
  {
   "cell_type": "code",
   "execution_count": 4,
   "metadata": {},
   "outputs": [
    {
     "name": "stdout",
     "output_type": "stream",
     "text": [
      "The values of [a,b,c] are [4.767,2.394,3.641]\n",
      "The error is 0.000000\n",
      "\n",
      "The values of [a,b,c] are [4.948,2.229,3.501]\n",
      "The error is 0.000000\n",
      "\n",
      "The values of [a,b,c] are [4.697,2.457,3.694]\n",
      "The error is 0.000000\n",
      "\n",
      "The values of [a,b,c] are [4.274,2.842,4.020]\n",
      "The error is 0.000000\n",
      "\n",
      "The values of [a,b,c] are [4.940,2.237,3.507]\n",
      "The error is 0.000000\n",
      "\n"
     ]
    }
   ],
   "source": [
    "#Calculate several possible values of A using the nullspace\n",
    "#A = A1 + Nv, where v can be random vectors\n",
    "#and show that using this value of A, the equation (1) is still fully satisfied\n",
    "#in this first dataset\n",
    "for i in range(5):\n",
    "    v = np.random.rand(A1.shape[0],1)\n",
    "    A = A1 + dot(N1, v)\n",
    "    #calculate error\n",
    "    e = np.linalg.norm(dot(X1,A)-Y1)\n",
    "    print('The values of [a,b,c] are [{0:.3f},{1:.3f},{2:.3f}]'.format(A[0,0],A[1,0],A[2,0])) \n",
    "    print('The error is {0:.6f}\\n'.format(e))"
   ]
  },
  {
   "cell_type": "markdown",
   "metadata": {},
   "source": [
    "#### Question 3\n",
    "Calculate the $L_2$ norm error of the equation (1) w.r.t. the second dataset when using A1 as the constants. \n",
    "\n",
    "$$e = ||X_2A_1 - Y_2||_2$$"
   ]
  },
  {
   "cell_type": "code",
   "execution_count": 5,
   "metadata": {},
   "outputs": [
    {
     "name": "stdout",
     "output_type": "stream",
     "text": [
      "The values of [a,b,c] are [4.940,2.237,3.507]\n",
      "The error w.r.t. the second dataset is 1.079080\n",
      "\n"
     ]
    }
   ],
   "source": [
    "X2 = np.array([[0.17, 0.95, 0.99],[0.01, 0.79, 0.48]])\n",
    "Y2 = np.array([7.15, 4.31])[:,None]\n",
    "\n",
    "#calculate the error e = X2\n",
    "e = norm(dot(X2,A)-Y2)\n",
    "print('The values of [a,b,c] are [{0:.3f},{1:.3f},{2:.3f}]'.format(A[0,0],A[1,0],A[2,0])) \n",
    "print('The error w.r.t. the second dataset is {0:.6f}\\n'.format(e))"
   ]
  },
  {
   "cell_type": "markdown",
   "metadata": {},
   "source": [
    "#### Question 4 "
   ]
  },
  {
   "cell_type": "markdown",
   "metadata": {},
   "source": [
    "##### From Question 1 and 2, we know that the solution that has zero error on the first dataset can be described as: \n",
    "$$A = A_1 + Nv \\quad  (2)$$\n",
    "\n",
    "where $v$ can be any random vector. To minimize the error w.r.t. the second dataset while keeping zero error on the first dataset, we need to choose the right value of $v$."
   ]
  },
  {
   "cell_type": "markdown",
   "metadata": {},
   "source": [
    "##### We can write the equation that we want to satisfy on the second dataset as:\n",
    "$$X_2 A = Y_2$$\n",
    "\n",
    "By expanding $A$ according to the equation (2), we obtain:\n",
    "\n",
    "$$X_2 (A_1 + Nv) = Y_2$$\n",
    "\n",
    "Note that $v$ is the only unknown in this equation. We can proceed:\n",
    "\n",
    "$$X_2 A_1 + X_2 Nv = Y_2$$\n",
    "\n",
    "$$(X_2 N)v = Y_2 - X_2 A_1 \\quad (3) $$ \n",
    "\n",
    "The equation 3 is another linear equation in $v$ in the form $XA = B$. Solving this equation, we obtain:\n",
    "\n",
    "$$v = (X_2 N)^{\\dagger}(Y_2 - X_2 A_1) \\quad (4) $$\n",
    "\n",
    "and finally $A$ can be computed from the equation (2)"
   ]
  },
  {
   "cell_type": "code",
   "execution_count": 8,
   "metadata": {},
   "outputs": [
    {
     "name": "stdout",
     "output_type": "stream",
     "text": [
      "The error w.r.t. the first dataset is 0.000000\n",
      "\n",
      "The error w.r.t. the second dataset is 0.226752\n",
      "\n"
     ]
    }
   ],
   "source": [
    "#obtain v using the equation (4)\n",
    "v = dot(pinv(dot(X2,N1),rcond=1e-7),Y2-dot(X2,A1))\n",
    "A = A1 + dot(N1,v)\n",
    "\n",
    "#computing the error w.r.t. both datasets\n",
    "e1 = norm(dot(X1,A)-Y1)\n",
    "print('The error w.r.t. the first dataset is {0:.6f}\\n'.format(e1))\n",
    "e2 = norm(dot(X2,A)-Y2)\n",
    "print('The error w.r.t. the second dataset is {0:.6f}\\n'.format(e2))"
   ]
  },
  {
   "cell_type": "markdown",
   "metadata": {},
   "source": [
    "##### Note that with the value of A, the error on the first dataset is still zero, while the error on the second dataset is lower that we obtained by using $A_1$ "
   ]
  },
  {
   "cell_type": "markdown",
   "metadata": {},
   "source": [
    "***"
   ]
  },
  {
   "cell_type": "markdown",
   "metadata": {},
   "source": [
    "#### We can also compared against another approach: treating both datasets as equal priority and solve them as a single linear system"
   ]
  },
  {
   "cell_type": "code",
   "execution_count": 50,
   "metadata": {},
   "outputs": [
    {
     "name": "stdout",
     "output_type": "stream",
     "text": [
      "The error w.r.t. the first dataset is 0.079200\n",
      "\n",
      "The error w.r.t. the second dataset is 0.194503\n",
      "\n"
     ]
    }
   ],
   "source": [
    "X = np.vstack([X1,X2])\n",
    "Y = np.vstack([Y1,Y2])\n",
    "A_complete = dot(pinv(X,rcond=1e-7),Y)\n",
    "\n",
    "#computing the error w.r.t. both datasets\n",
    "e1 = norm(dot(X1,A_complete)-Y1)\n",
    "print('The error w.r.t. the first dataset is {0:.6f}\\n'.format(e1))\n",
    "e2 = norm(dot(X2,A_complete)-Y2)\n",
    "print('The error w.r.t. the second dataset is {0:.6f}\\n'.format(e2))"
   ]
  },
  {
   "cell_type": "markdown",
   "metadata": {},
   "source": [
    "##### Here, we obtain lower error on the second dataset as compared to before (using the nullspace), but the error on the first dataset is no longer zero"
   ]
  }
 ],
 "metadata": {
  "kernelspec": {
   "display_name": "Python 2",
   "language": "python",
   "name": "python2"
  },
  "language_info": {
   "codemirror_mode": {
    "name": "ipython",
    "version": 2
   },
   "file_extension": ".py",
   "mimetype": "text/x-python",
   "name": "python",
   "nbconvert_exporter": "python",
   "pygments_lexer": "ipython2",
   "version": "2.7.12"
  }
 },
 "nbformat": 4,
 "nbformat_minor": 2
}

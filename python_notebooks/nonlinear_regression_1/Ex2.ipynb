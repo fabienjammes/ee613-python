{
 "cells": [
  {
   "cell_type": "markdown",
   "metadata": {},
   "source": [
    "# EE613 - Nonlinear Regression I - Exercise 2: LWR and GMR"
   ]
  },
  {
   "cell_type": "code",
   "execution_count": 1,
   "metadata": {},
   "outputs": [],
   "source": [
    "import sys\n",
    "sys.path.append('../lib')\n",
    "\n",
    "import warnings\n",
    "warnings.filterwarnings('ignore')\n",
    "\n",
    "import numpy as np\n",
    "import matplotlib.pyplot as plt\n",
    "from mixture_model import *\n",
    "from plot_utils import *\n",
    "from scipy.stats import norm as normal_dist\n",
    "\n",
    "%load_ext autoreload\n",
    "%autoreload 2\n",
    "%matplotlib inline"
   ]
  },
  {
   "cell_type": "markdown",
   "metadata": {},
   "source": [
    "### Generate Data "
   ]
  },
  {
   "cell_type": "code",
   "execution_count": 4,
   "metadata": {},
   "outputs": [
    {
     "data": {
      "image/png": "[encoded data removed]",
      "text/plain": [
       "<Figure size 432x288 with 1 Axes>"
      ]
     },
     "metadata": {
      "needs_background": "light"
     },
     "output_type": "display_data"
    }
   ],
   "source": [
    "nb_data = 30\n",
    "x1 = np.linspace(-4.5,-2.4,nb_data)\n",
    "y1 = -1*np.ones(nb_data)[:,None] + np.random.normal(size=(nb_data, 1))*6e-2 \n",
    "\n",
    "x2 = np.linspace(-2.4,3.7,nb_data)\n",
    "y2 = np.sin(1*x2)[:,None] + np.random.normal(size=(nb_data, 1))*2e-1 \n",
    "\n",
    "x = np.concatenate([x1,x2])\n",
    "Y = np.vstack([y1,y2])\n",
    "\n",
    "plt.plot(x,Y, '.b')\n",
    "plt.xlabel('x')\n",
    "plt.ylabel('y')\n",
    "plt.title('Data points')\n",
    "plt.show()"
   ]
  },
  {
   "cell_type": "code",
   "execution_count": 3,
   "metadata": {},
   "outputs": [],
   "source": [
    "x_test = np.linspace(-8,5)"
   ]
  },
  {
   "cell_type": "markdown",
   "metadata": {},
   "source": [
    "***"
   ]
  },
  {
   "cell_type": "markdown",
   "metadata": {},
   "source": [
    "### Question 1: Computing LWR\n",
    "\n",
    "Given the data {X,Y}, approximate the function $f(x) = y$ by LWR. Then, use the LWR to compute the prediction, given x_test, and plot the prediction.\n",
    "\n",
    "Use 3 Radial Basis Functions (RBFs). Manually define the center and the width of the basis functions. Try to vary these parameters and see what happens on the prediction. \n",
    "\n",
    "Observe the prediction outside the training data (when x < -4.5 or x > 3.7). How do you explain this? \n",
    "\n",
    "Note: you can use or not use polynomial expansion of the input x. Start without the polynomial expansion first. "
   ]
  },
  {
   "cell_type": "markdown",
   "metadata": {},
   "source": [
    "***"
   ]
  },
  {
   "cell_type": "markdown",
   "metadata": {},
   "source": [
    "### Question 2: Computing GMR\n",
    "Given the data {X,Y}, approximate the function $f(x) = y$ by GMR. Then, use the GMR to compute the prediction, given x_test, and plot the prediction (both the mean and the covariance).\n",
    "\n",
    "What is the difference between LWR and GMR that you observe?"
   ]
  },
  {
   "cell_type": "markdown",
   "metadata": {},
   "source": [
    "***"
   ]
  }
 ],
 "metadata": {
  "kernelspec": {
   "display_name": "Python 2",
   "language": "python",
   "name": "python2"
  },
  "language_info": {
   "codemirror_mode": {
    "name": "ipython",
    "version": 2
   },
   "file_extension": ".py",
   "mimetype": "text/x-python",
   "name": "python",
   "nbconvert_exporter": "python",
   "pygments_lexer": "ipython2",
   "version": "2.7.12"
  }
 },
 "nbformat": 4,
 "nbformat_minor": 4
}

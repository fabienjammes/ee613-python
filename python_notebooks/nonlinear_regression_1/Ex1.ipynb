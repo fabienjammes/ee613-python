{
 "cells": [
  {
   "cell_type": "markdown",
   "metadata": {},
   "source": [
    "# EE613 - Nonlinear Regression I - Exercise 1: Gaussian Operations\n",
    "\n",
    "For examples on computing several Gaussian operations, you can refer to demo_Gaussian_Ops.ipynb"
   ]
  },
  {
   "cell_type": "code",
   "execution_count": 1,
   "metadata": {},
   "outputs": [],
   "source": [
    "import sys\n",
    "sys.path.append('../lib')\n",
    "\n",
    "import warnings\n",
    "warnings.filterwarnings('ignore')\n",
    "\n",
    "import numpy as np\n",
    "import matplotlib.pyplot as plt\n",
    "from mixture_model import *\n",
    "from plot_utils import *\n",
    "%load_ext autoreload\n",
    "%autoreload 2"
   ]
  },
  {
   "cell_type": "markdown",
   "metadata": {},
   "source": [
    "***"
   ]
  },
  {
   "cell_type": "markdown",
   "metadata": {},
   "source": [
    "### Question 1: Gaussian Conditioning"
   ]
  },
  {
   "cell_type": "markdown",
   "metadata": {},
   "source": [
    "#### Load Data "
   ]
  },
  {
   "cell_type": "code",
   "execution_count": 12,
   "metadata": {},
   "outputs": [
    {
     "data": {
      "image/png": "[encoded data removed]",
      "text/plain": [
       "<Figure size 432x288 with 1 Axes>"
      ]
     },
     "metadata": {
      "needs_background": "light"
     },
     "output_type": "display_data"
    }
   ],
   "source": [
    "filename = '../python_data/func_example.npy'\n",
    "data = np.load(open(filename,'rb'))\n",
    "x = data[:,0]\n",
    "y = data[:,1]\n",
    "plt.plot(x,y,'.y')\n",
    "plt.xlabel('x')\n",
    "plt.ylabel('y')\n",
    "plt.show()"
   ]
  },
  {
   "cell_type": "markdown",
   "metadata": {},
   "source": [
    "a) Given the data {x,y} above, estimate the joint probability distribution as a single Gaussian, i.e.\n",
    "$$p(x,y) = \\mathcal{N}(\\mu,\\Sigma)$$"
   ]
  },
  {
   "cell_type": "markdown",
   "metadata": {},
   "source": [
    "#### Test Data "
   ]
  },
  {
   "cell_type": "code",
   "execution_count": 11,
   "metadata": {},
   "outputs": [],
   "source": [
    "x_test = np.linspace(-1, 2, 100)"
   ]
  },
  {
   "cell_type": "markdown",
   "metadata": {},
   "source": [
    "b) Given $x_{test}$, calculate the conditional distribution $p(y|x = x_{test})$. You need to get the mean ($\\bar{y})$ and the variance ($\\sigma$) of $y$ for each value of $x_{test}$.\n",
    "\n",
    "c) Plot the graph of x_test agains the mean prediction ($\\bar{y})$, and also plot the variance. You can use the function 'plot_with_covs_1D' (see demo_GMR.ipynb, the section 'Plotting the output distribution')\n",
    "\n",
    "d) What are the similarity and the difference between:\n",
    "- Estimating $p(x,y)$ and computing the conditional probability $p(y|x)$, and \n",
    "- Performing linear regression on the data (x,y) ?"
   ]
  },
  {
   "cell_type": "markdown",
   "metadata": {},
   "source": [
    "***"
   ]
  },
  {
   "cell_type": "markdown",
   "metadata": {},
   "source": [
    "### Question 2: Gaussian Product, Weighted Sum of Gaussians, and Moment Matching "
   ]
  },
  {
   "cell_type": "markdown",
   "metadata": {},
   "source": [
    "#### Generate K Gaussians "
   ]
  },
  {
   "cell_type": "code",
   "execution_count": 6,
   "metadata": {},
   "outputs": [
    {
     "data": {
      "text/plain": [
       "Text(0.5,1,'K Gaussians')"
      ]
     },
     "execution_count": 6,
     "metadata": {},
     "output_type": "execute_result"
    },
    {
     "data": {
      "image/png": "[encoded data removed]",
      "text/plain": [
       "<Figure size 432x288 with 1 Axes>"
      ]
     },
     "metadata": {
      "needs_background": "light"
     },
     "output_type": "display_data"
    }
   ],
   "source": [
    "mus = []\n",
    "sigmas = []\n",
    "n_states = 3\n",
    "n_var = 2\n",
    "factor = 2\n",
    "fig,ax = plt.subplots()\n",
    "for i in range(n_states):\n",
    "    mus.append(np.random.rand(2)*factor*2)\n",
    "    d = np.random.normal(size=2)*factor\n",
    "    sigmas.append(np.outer(d,d) + np.eye(n_var)*7e-1)\n",
    "    plot_gaussian_2D(mus[-1],sigmas[-1],ax,alpha = 0.6,color = [0.2,0.2,0.8])\n",
    "\n",
    "bounds = [-6,9,-6,8]\n",
    "plt.axis(bounds)\n",
    "plt.title('K Gaussians')"
   ]
  },
  {
   "cell_type": "markdown",
   "metadata": {},
   "source": [
    "Given the K Gaussians, compute: \n",
    "- The product of the K Gaussians\n",
    "- The weighted sum of the K Gaussians\n",
    "- A Gaussian approximation of the K Gaussians via moment matching. The K Gaussians here is treated as a Gaussian mixture with some predefined weights.\n",
    "\n",
    "How are they different?\n",
    "\n",
    "Note: for the last two, use the following weights: $$w = [0.3, 0.3, 0.4]$$\n",
    "Be careful about the distinction between K Gaussians and a Gaussian mixture with K components.\n",
    "\n"
   ]
  },
  {
   "cell_type": "markdown",
   "metadata": {},
   "source": [
    "***"
   ]
  }
 ],
 "metadata": {
  "kernelspec": {
   "display_name": "Python 2",
   "language": "python",
   "name": "python2"
  },
  "language_info": {
   "codemirror_mode": {
    "name": "ipython",
    "version": 2
   },
   "file_extension": ".py",
   "mimetype": "text/x-python",
   "name": "python",
   "nbconvert_exporter": "python",
   "pygments_lexer": "ipython2",
   "version": "2.7.12"
  }
 },
 "nbformat": 4,
 "nbformat_minor": 4
}

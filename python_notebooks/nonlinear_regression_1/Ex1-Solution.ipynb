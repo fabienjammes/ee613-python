{
 "cells": [
  {
   "cell_type": "markdown",
   "metadata": {},
   "source": [
    "# EE613 - Nonlinear Regression I - Exercise 1: Gaussian Operations\n",
    "\n",
    "For examples on computing several Gaussian operations, you can refer to demo_Gaussian_Ops.ipynb"
   ]
  },
  {
   "cell_type": "code",
   "execution_count": 2,
   "metadata": {},
   "outputs": [],
   "source": [
    "import sys\n",
    "sys.path.append('../lib')\n",
    "\n",
    "import warnings\n",
    "warnings.filterwarnings('ignore')\n",
    "\n",
    "import numpy as np\n",
    "import matplotlib.pyplot as plt\n",
    "from mixture_model import *\n",
    "from plot_utils import *\n",
    "%load_ext autoreload\n",
    "%autoreload 2"
   ]
  },
  {
   "cell_type": "markdown",
   "metadata": {},
   "source": [
    "***"
   ]
  },
  {
   "cell_type": "markdown",
   "metadata": {},
   "source": [
    "### Question 1: Gaussian Conditioning"
   ]
  },
  {
   "cell_type": "markdown",
   "metadata": {},
   "source": [
    "#### Load Data "
   ]
  },
  {
   "cell_type": "code",
   "execution_count": 4,
   "metadata": {},
   "outputs": [
    {
     "data": {
      "image/png": "[encoded data removed]",
      "text/plain": [
       "<Figure size 432x288 with 1 Axes>"
      ]
     },
     "metadata": {
      "needs_background": "light"
     },
     "output_type": "display_data"
    }
   ],
   "source": [
    "filename = '../python_data/func_example.npy'\n",
    "data = np.load(open(filename,'rb'))\n",
    "x = data[:,0]\n",
    "y = data[:,1]\n",
    "plt.plot(x,y,'.y')\n",
    "plt.xlabel('x')\n",
    "plt.ylabel('y')\n",
    "plt.title('Data')\n",
    "plt.show()"
   ]
  },
  {
   "cell_type": "markdown",
   "metadata": {},
   "source": [
    "a) Given the data {x,y} above, estimate the joint probability distribution as a single Gaussian, i.e.\n",
    "$$p(x,y) = \\mathcal{N}(\\mu,\\Sigma)$$"
   ]
  },
  {
   "cell_type": "markdown",
   "metadata": {},
   "source": [
    "#### Test Data "
   ]
  },
  {
   "cell_type": "markdown",
   "metadata": {},
   "source": [
    "b) Given $x_{test}$, calculate the conditional distribution $p(y|x = x_{test})$. You need to get the mean ($\\bar{y})$ and the variance ($\\sigma$) of $y$ for each value of $x_{test}$.\n",
    "\n",
    "c) Plot the graph of x_test agains the mean prediction ($\\bar{y})$, and also plot the variance. You can use the function 'plot_with_covs_1D' (see demo_GMR.ipynb, the section 'Plotting the output distribution')\n",
    "\n",
    "d) What are the similarity and the difference between:\n",
    "- Estimating $p(x,y)$ and computing the conditional probability $p(y|x)$, and \n",
    "- Performing linear regression on the data (x,y) "
   ]
  },
  {
   "cell_type": "markdown",
   "metadata": {},
   "source": [
    "### Q1 Solution "
   ]
  },
  {
   "cell_type": "markdown",
   "metadata": {},
   "source": [
    "#### a) Estimate joint probability "
   ]
  },
  {
   "cell_type": "code",
   "execution_count": 5,
   "metadata": {},
   "outputs": [
    {
     "data": {
      "text/plain": [
       "[<matplotlib.lines.Line2D at 0x7f0ea13c5fd0>]"
      ]
     },
     "execution_count": 5,
     "metadata": {},
     "output_type": "execute_result"
    },
    {
     "data": {
      "image/png": "[encoded data removed]",
      "text/plain": [
       "<Figure size 432x288 with 1 Axes>"
      ]
     },
     "metadata": {
      "needs_background": "light"
     },
     "output_type": "display_data"
    }
   ],
   "source": [
    "#construct joint data of input and output\n",
    "data = np.vstack([x,y]).T\n",
    "\n",
    "#compute the mean and covariance of the Gaussian\n",
    "mu = np.mean(data,axis=0)\n",
    "sigma = np.cov(data.T)\n",
    "\n",
    "#Plot the estimated Gaussian distribution\n",
    "fig,ax = plt.subplots()\n",
    "plot_gaussian_2D(mu,sigma,ax,color=[0.8,0.,0.],alpha=0.2)\n",
    "plt.plot(x,y,'.y')"
   ]
  },
  {
   "cell_type": "markdown",
   "metadata": {},
   "source": [
    "#### b) Conditioning on $x_{test}$ "
   ]
  },
  {
   "cell_type": "code",
   "execution_count": 6,
   "metadata": {},
   "outputs": [],
   "source": [
    "mu_x = mu[0]\n",
    "mu_y = mu[1]\n",
    "sigma_xx = sigma[0,0]\n",
    "sigma_yy = sigma[1,1]\n",
    "sigma_xy = sigma[0,1]\n",
    "sigma_yx = sigma[1,0]"
   ]
  },
  {
   "cell_type": "code",
   "execution_count": 7,
   "metadata": {},
   "outputs": [
    {
     "data": {
      "text/plain": [
       "[<matplotlib.lines.Line2D at 0x7f0ea132d390>]"
      ]
     },
     "execution_count": 7,
     "metadata": {},
     "output_type": "execute_result"
    },
    {
     "data": {
      "image/png": "[encoded data removed]",
      "text/plain": [
       "<Figure size 432x288 with 1 Axes>"
      ]
     },
     "metadata": {
      "needs_background": "light"
     },
     "output_type": "display_data"
    }
   ],
   "source": [
    "x_test = np.linspace(-1, 2, 100)\n",
    "preds, covs = [],[]\n",
    "for x_i in x_test:\n",
    "    pred_y = mu_y + sigma_yx/sigma_xx*(x_i-mu_x)\n",
    "    cov_y = sigma_yy - (sigma_yx/sigma_xx)*sigma_xy\n",
    "    preds.append(pred_y)\n",
    "    covs.append(cov_y)\n",
    "    \n",
    "fig,ax = plt.subplots()\n",
    "plot_with_covs_1D(x_test,preds,covs,ax)\n",
    "plt.plot(x,y,'.b')"
   ]
  },
  {
   "cell_type": "markdown",
   "metadata": {},
   "source": [
    "***"
   ]
  },
  {
   "cell_type": "markdown",
   "metadata": {},
   "source": [
    "### Question 2: Gaussian Product, Weighted Sum of Gaussians, and Moment Matching "
   ]
  },
  {
   "cell_type": "markdown",
   "metadata": {},
   "source": [
    "#### Generate K Gaussians "
   ]
  },
  {
   "cell_type": "code",
   "execution_count": 13,
   "metadata": {},
   "outputs": [
    {
     "data": {
      "text/plain": [
       "Text(0.5,1,'K Gaussians')"
      ]
     },
     "execution_count": 13,
     "metadata": {},
     "output_type": "execute_result"
    },
    {
     "data": {
      "image/png": "[encoded data removed]",
      "text/plain": [
       "<Figure size 432x288 with 1 Axes>"
      ]
     },
     "metadata": {
      "needs_background": "light"
     },
     "output_type": "display_data"
    }
   ],
   "source": [
    "mus = []\n",
    "sigmas = []\n",
    "n_states = 3\n",
    "n_var = 2\n",
    "factor = 2\n",
    "fig,ax = plt.subplots()\n",
    "for i in range(n_states):\n",
    "    mus.append(np.random.rand(2)*factor*2)\n",
    "    d = np.random.normal(size=2)*factor\n",
    "    sigmas.append(np.outer(d,d) + np.eye(n_var)*7e-1)\n",
    "    plot_gaussian_2D(mus[-1],sigmas[-1],ax,alpha = 0.6,color = [0.2,0.2,0.8])\n",
    "\n",
    "bounds = [-6,9,-6,8]\n",
    "plt.axis(bounds)\n",
    "plt.title('K Gaussians')"
   ]
  },
  {
   "cell_type": "markdown",
   "metadata": {},
   "source": [
    "Given the K Gaussians, compute: \n",
    "- The product of the K Gaussians\n",
    "- The weighted sum of the K Gaussians\n",
    "- A Gaussian approximation of the K Gaussians via moment matching. The K Gaussians here is treated as a Gaussian mixture with some predefined weights.\n",
    "\n",
    "How are they different?\n",
    "\n",
    "Note: for the last two, use the following weights: $$w = [0.3, 0.3, 0.4]$$\n",
    "Be careful about the distinction between K Gaussians and a Gaussian mixture with K components.\n",
    "\n"
   ]
  },
  {
   "cell_type": "markdown",
   "metadata": {},
   "source": [
    "### Solution "
   ]
  },
  {
   "cell_type": "markdown",
   "metadata": {},
   "source": [
    "#### Product of K Gaussians"
   ]
  },
  {
   "cell_type": "code",
   "execution_count": 14,
   "metadata": {},
   "outputs": [
    {
     "data": {
      "text/plain": [
       "[-6, 9, -6, 8]"
      ]
     },
     "execution_count": 14,
     "metadata": {},
     "output_type": "execute_result"
    },
    {
     "data": {
      "image/png": "[encoded data removed]",
      "text/plain": [
       "<Figure size 432x288 with 1 Axes>"
      ]
     },
     "metadata": {
      "needs_background": "light"
     },
     "output_type": "display_data"
    }
   ],
   "source": [
    "Sigma_tmp = np.zeros((n_var, n_var))\n",
    "Mu_tmp = np.zeros(n_var)\n",
    "\n",
    "for i in range(n_states):\n",
    "    Sigma_tmp += np.linalg.inv(sigmas[i])\n",
    "    Mu_tmp += np.dot(np.linalg.inv(sigmas[i]), mus[i])\n",
    "Sigma = np.linalg.inv(Sigma_tmp)\n",
    "Mu = np.dot(Sigma,Mu_tmp) \n",
    "\n",
    "#plot K Gaussians\n",
    "fig,ax = plt.subplots()\n",
    "for i in range(n_states):\n",
    "    plot_gaussian_2D(mus[i], sigmas[i],ax,color = [0.2,0.2,0.8],alpha = 0.3)\n",
    "\n",
    "#plot the product\n",
    "plot_gaussian_2D(Mu,Sigma,ax,color = [0.8,0.2,0.2], alpha = 0.4)\n",
    "plt.axis(bounds)"
   ]
  },
  {
   "cell_type": "markdown",
   "metadata": {},
   "source": [
    "#### Weighted sum of K Gaussians"
   ]
  },
  {
   "cell_type": "code",
   "execution_count": 15,
   "metadata": {},
   "outputs": [
    {
     "data": {
      "text/plain": [
       "[-6, 9, -6, 8]"
      ]
     },
     "execution_count": 15,
     "metadata": {},
     "output_type": "execute_result"
    },
    {
     "data": {
      "image/png": "[encoded data removed]",
      "text/plain": [
       "<Figure size 432x288 with 1 Axes>"
      ]
     },
     "metadata": {
      "needs_background": "light"
     },
     "output_type": "display_data"
    }
   ],
   "source": [
    "weights = [0.3,0.3,0.4]\n",
    "Sigma = np.zeros((n_var, n_var))\n",
    "Mu = np.zeros(n_var)\n",
    "\n",
    "for i in range(n_states):\n",
    "    Sigma += (weights[i]**2)*sigmas[i]\n",
    "    Mu += weights[i]*mus[i]\n",
    "\n",
    "#plot K Gaussians\n",
    "fig,ax = plt.subplots()\n",
    "for i in range(n_states):\n",
    "    plot_gaussian_2D(mus[i], sigmas[i],ax,color = [0.2,0.2,0.8],alpha = 0.3)\n",
    "\n",
    "#plot the product\n",
    "plot_gaussian_2D(Mu,Sigma,ax,color = [0.8,0.2,0.2], alpha = 0.4)\n",
    "plt.axis(bounds)"
   ]
  },
  {
   "cell_type": "markdown",
   "metadata": {},
   "source": [
    "#### Gaussian Approximation of a Gaussian Mixture"
   ]
  },
  {
   "cell_type": "code",
   "execution_count": 16,
   "metadata": {},
   "outputs": [
    {
     "data": {
      "text/plain": [
       "[-6, 9, -6, 8]"
      ]
     },
     "execution_count": 16,
     "metadata": {},
     "output_type": "execute_result"
    },
    {
     "data": {
      "image/png": "[encoded data removed]",
      "text/plain": [
       "<Figure size 432x288 with 1 Axes>"
      ]
     },
     "metadata": {
      "needs_background": "light"
     },
     "output_type": "display_data"
    }
   ],
   "source": [
    "dim = 2\n",
    "Sigma = np.zeros((dim, dim))\n",
    "Mu = np.zeros(dim)\n",
    "for k in range(n_states):\n",
    "    Sigma += weights[k]*(sigmas[k] + np.outer(mus[k],mus[k]))\n",
    "    Mu += weights[k]*mus[k]\n",
    "\n",
    "Sigma -= np.outer(Mu, Mu)\n",
    "\n",
    "#plot K Gaussians\n",
    "fig,ax = plt.subplots()\n",
    "for i in range(n_states):\n",
    "    plot_gaussian_2D(mus[i], sigmas[i],ax,color = [0.2,0.2,0.8],alpha = 0.3)\n",
    "\n",
    "#plot the product\n",
    "plot_gaussian_2D(Mu,Sigma,ax,color = [0.8,0.2,0.2], alpha = 0.4)\n",
    "plt.axis(bounds)"
   ]
  },
  {
   "cell_type": "markdown",
   "metadata": {},
   "source": [
    "***"
   ]
  }
 ],
 "metadata": {
  "kernelspec": {
   "display_name": "Python 2",
   "language": "python",
   "name": "python2"
  },
  "language_info": {
   "codemirror_mode": {
    "name": "ipython",
    "version": 2
   },
   "file_extension": ".py",
   "mimetype": "text/x-python",
   "name": "python",
   "nbconvert_exporter": "python",
   "pygments_lexer": "ipython2",
   "version": "2.7.12"
  }
 },
 "nbformat": 4,
 "nbformat_minor": 4
}
